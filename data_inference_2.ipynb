{
 "cells": [
  {
   "cell_type": "code",
   "execution_count": null,
   "metadata": {},
   "outputs": [],
   "source": [
    "# Data Inference\n",
    "## Data Location: \"Workstation-008\"\n",
    "## Data Directory: \n"
   ]
  },
  {
   "cell_type": "code",
   "execution_count": 1,
   "metadata": {},
   "outputs": [],
   "source": [
    "import os, sys, glob\n",
    "import re\n",
    "import numpy as np\n",
    "import pandas as pd\n",
    "from scipy.stats import ttest_ind\n",
    "import matplotlib.pyplot as plt\n",
    "import pprint"
   ]
  },
  {
   "cell_type": "markdown",
   "metadata": {},
   "source": [
    "# 01 Compile data into one csv"
   ]
  },
  {
   "cell_type": "code",
   "execution_count": 2,
   "metadata": {},
   "outputs": [
    {
     "name": "stdout",
     "output_type": "stream",
     "text": [
      "D:\\PerlmutterData\\segmentation_compiled_export\\data\n"
     ]
    }
   ],
   "source": [
    "mainpath = 'D:\\PerlmutterData'\n",
    "folder = 'segmentation_compiled_export'\n",
    "data_folder = 'data'\n",
    "\n",
    "path = os.path.join(mainpath, folder, data_folder)\n",
    "print(path)\n",
    "\n",
    "folders = ['cell_membrane', 'nucleus', 'mito', 'cristae', 'inclusion', 'ER']"
   ]
  },
  {
   "cell_type": "code",
   "execution_count": 3,
   "metadata": {},
   "outputs": [
    {
     "name": "stdout",
     "output_type": "stream",
     "text": [
      "['cell_membrane', 'cristae', 'ER', 'inclusion', 'mito', 'nodes', 'nucleus', 'points', 'segments_s']\n"
     ]
    }
   ],
   "source": [
    "target_list = glob.glob(os.path.join(path, 'compile', '*.csv'))\n",
    "target_list = [os.path.basename(x) for x in target_list]\n",
    "target_list = [os.path.splitext(x)[0] for x in target_list]\n",
    "print(target_list)"
   ]
  },
  {
   "cell_type": "code",
   "execution_count": 4,
   "metadata": {},
   "outputs": [],
   "source": [
    "file_meta = {\n",
    "    'data_d00_batch01_loc01': 0,\n",
    "    'data_d00_batch02_loc02': 0,\n",
    "    'data_d00_batch02_loc03': 0,\n",
    "    'data_d07_batch01_loc01': 7, \n",
    "    'data_d07_batch02_loc01': 7,\n",
    "    'data_d07_batch02_loc02': 7, \n",
    "    'data_d14_batch01_loc01': 14, \n",
    "    'data_d17_batch01_loc01': 17,\n",
    "    'data_d21_batch01_loc01': 21,\n",
    "}\n"
   ]
  },
  {
   "cell_type": "code",
   "execution_count": 5,
   "metadata": {},
   "outputs": [],
   "source": [
    "for i in folders:\n",
    "    file_list = glob.glob(os.path.join(path, 'raw', i, '*.csv'))\n",
    "    \n",
    "    if not i in target_list:\n",
    "        df = pd.DataFrame()\n",
    "\n",
    "        for j in file_list:    \n",
    "            data_temp = pd.read_csv(j, header = 1)\n",
    "            \n",
    "            filename_tmp = os.path.basename(j)\n",
    "            \n",
    "            # add filename\n",
    "            data_temp['filename'] = filename_tmp\n",
    "            \n",
    "            # add day\n",
    "            filename_noext = os.path.splitext(filename_tmp)[0]\n",
    "            pattern = re.compile(\"data_d[0-9][0-9]_batch[0-9][0-9]_loc[0-9][0-9]\")\n",
    "            original_filename = pattern.search(filename_noext).group(0)\n",
    "            day_tmp = file_meta[original_filename]\n",
    "            \n",
    "            data_temp['day'] = day_tmp\n",
    "            \n",
    "            df = df.append(data_temp, ignore_index = True)\n",
    "            \n",
    "        display(df)\n",
    "        df.to_csv(os.path.join(path, 'compile', i + '.csv'))\n",
    "    "
   ]
  },
  {
   "cell_type": "markdown",
   "metadata": {},
   "source": [
    "# 02 Load data"
   ]
  },
  {
   "cell_type": "markdown",
   "metadata": {},
   "source": [
    "## 02-01 Calculate mean and tota|l volumn for mito, cristate, ER and inclusion"
   ]
  },
  {
   "cell_type": "code",
   "execution_count": 6,
   "metadata": {},
   "outputs": [],
   "source": [
    "df_mito = pd.read_csv(os.path.join(path, 'compile', 'mito' + '.csv'))\n",
    "df_mito['Volume3d_µm^3'] = df_mito['Volume3d']/1e9\n",
    "df_mito['Area3d_µm^2'] = df_mito['Area3d']/1e6\n",
    "\n",
    "df_mito_sum_grouped = df_mito.groupby(['day', 'filename']).sum().reset_index()\n",
    "df_mito_mean_grouped = df_mito.groupby(['day', 'filename']).mean().reset_index()\n",
    "\n",
    "df_cristae = pd.read_csv(os.path.join(path, 'compile', 'cristae' + '.csv'))\n",
    "df_cristae['Volume3d_µm^3'] = df_cristae['Volume3d']/1e9\n",
    "df_cristae['Area3d_µm^2'] = df_cristae['Area3d']/1e6\n",
    "\n",
    "df_cristae_sum_grouped = df_cristae.groupby(['day', 'filename']).sum().reset_index()\n",
    "df_cristae_mean_grouped = df_cristae.groupby(['day', 'filename']).mean().reset_index()\n",
    "\n",
    "df_ER = pd.read_csv(os.path.join(path, 'compile', 'ER' + '.csv'))\n",
    "df_ER['Volume3d_µm^3'] = df_ER['Volume3d']/1e9\n",
    "df_ER['Area3d_µm^2'] = df_ER['Area3d']/1e6\n",
    "\n",
    "df_ER_sum_grouped = df_ER.groupby(['day', 'filename']).sum().reset_index()\n",
    "df_ER_mean_grouped = df_ER.groupby(['day', 'filename']).mean().reset_index()\n",
    "\n",
    "df_inclusion = pd.read_csv(os.path.join(path, 'compile', 'inclusion' + '.csv'))\n",
    "df_inclusion['Volume3d_µm^3'] = df_inclusion['Volume3d']/1e9\n",
    "df_inclusion['Area3d_µm^2'] = df_inclusion['Area3d']/1e6\n",
    "\n",
    "df_inclusion_sum_grouped = df_inclusion.groupby(['day', 'filename']).sum().reset_index()\n",
    "df_inclusion_mean_grouped = df_inclusion.groupby(['day', 'filename']).mean().reset_index()"
   ]
  },
  {
   "cell_type": "markdown",
   "metadata": {},
   "source": [
    "## 02-02 Calculate the total volume for cell membrane and nucleus"
   ]
  },
  {
   "cell_type": "code",
   "execution_count": 7,
   "metadata": {},
   "outputs": [],
   "source": [
    "df_nucleus = pd.read_csv(os.path.join(path, 'compile', 'nucleus' + '.csv'))\n",
    "df_nucleus['Volume3d_µm^3'] = df_nucleus['Volume3d']/1e9\n",
    "df_nucleus['Area3d_µm^2'] = df_nucleus['Area3d']/1e6\n",
    "df_nucleus_sum_grouped = df_nucleus.groupby(['day', 'filename']).sum().reset_index()"
   ]
  },
  {
   "cell_type": "code",
   "execution_count": 8,
   "metadata": {},
   "outputs": [],
   "source": [
    "df_cell_membrane = pd.read_csv(os.path.join(path, 'compile', 'cell_membrane' + '.csv'))\n",
    "df_cell_membrane['Volume3d_µm^3'] = df_cell_membrane['Volume3d']/1e9\n",
    "df_cell_membrane['Area3d_µm^2'] = df_cell_membrane['Area3d']/1e6\n",
    "df_cell_membrane_sum_grouped = df_cell_membrane.groupby(['day', 'filename']).sum().reset_index()"
   ]
  },
  {
   "cell_type": "code",
   "execution_count": 9,
   "metadata": {},
   "outputs": [
    {
     "data": {
      "text/html": [
       "<div>\n",
       "<style scoped>\n",
       "    .dataframe tbody tr th:only-of-type {\n",
       "        vertical-align: middle;\n",
       "    }\n",
       "\n",
       "    .dataframe tbody tr th {\n",
       "        vertical-align: top;\n",
       "    }\n",
       "\n",
       "    .dataframe thead th {\n",
       "        text-align: right;\n",
       "    }\n",
       "</style>\n",
       "<table border=\"1\" class=\"dataframe\">\n",
       "  <thead>\n",
       "    <tr style=\"text-align: right;\">\n",
       "      <th></th>\n",
       "      <th>day</th>\n",
       "      <th>filename</th>\n",
       "      <th>Unnamed: 0</th>\n",
       "      <th>Volume3d</th>\n",
       "      <th>Area3d</th>\n",
       "      <th>BaryCenterX</th>\n",
       "      <th>BaryCenterY</th>\n",
       "      <th>BaryCenterZ</th>\n",
       "      <th>Mean</th>\n",
       "      <th>index</th>\n",
       "      <th>Volume3d_µm^3</th>\n",
       "      <th>Area3d_µm^2</th>\n",
       "    </tr>\n",
       "  </thead>\n",
       "  <tbody>\n",
       "    <tr>\n",
       "      <th>0</th>\n",
       "      <td>0</td>\n",
       "      <td>data_d00_batch01_loc01_cell_membrane.csv</td>\n",
       "      <td>0</td>\n",
       "      <td>1.596130e+12</td>\n",
       "      <td>1.079330e+09</td>\n",
       "      <td>12918.30</td>\n",
       "      <td>2252.73</td>\n",
       "      <td>11759.30</td>\n",
       "      <td>1</td>\n",
       "      <td>1</td>\n",
       "      <td>1596.130000</td>\n",
       "      <td>1079.330000</td>\n",
       "    </tr>\n",
       "    <tr>\n",
       "      <th>1</th>\n",
       "      <td>0</td>\n",
       "      <td>data_d00_batch02_loc02_cell_membrane.csv</td>\n",
       "      <td>1</td>\n",
       "      <td>1.948900e+12</td>\n",
       "      <td>9.889220e+08</td>\n",
       "      <td>9006.11</td>\n",
       "      <td>3391.34</td>\n",
       "      <td>9221.07</td>\n",
       "      <td>1</td>\n",
       "      <td>1</td>\n",
       "      <td>1948.900000</td>\n",
       "      <td>988.922000</td>\n",
       "    </tr>\n",
       "    <tr>\n",
       "      <th>2</th>\n",
       "      <td>0</td>\n",
       "      <td>data_d00_batch02_loc03_cell_membrane.csv</td>\n",
       "      <td>2</td>\n",
       "      <td>8.628210e+11</td>\n",
       "      <td>6.087890e+08</td>\n",
       "      <td>11467.20</td>\n",
       "      <td>2299.98</td>\n",
       "      <td>7031.91</td>\n",
       "      <td>1</td>\n",
       "      <td>1</td>\n",
       "      <td>862.821000</td>\n",
       "      <td>608.789000</td>\n",
       "    </tr>\n",
       "    <tr>\n",
       "      <th>3</th>\n",
       "      <td>7</td>\n",
       "      <td>data_d07_batch01_loc01_cell_membrane.csv</td>\n",
       "      <td>3</td>\n",
       "      <td>9.045550e+11</td>\n",
       "      <td>5.918870e+08</td>\n",
       "      <td>14932.10</td>\n",
       "      <td>3010.33</td>\n",
       "      <td>6637.82</td>\n",
       "      <td>1</td>\n",
       "      <td>1</td>\n",
       "      <td>904.555000</td>\n",
       "      <td>591.887000</td>\n",
       "    </tr>\n",
       "    <tr>\n",
       "      <th>4</th>\n",
       "      <td>7</td>\n",
       "      <td>data_d07_batch02_loc01_cell_membrane.csv</td>\n",
       "      <td>4</td>\n",
       "      <td>1.233220e+12</td>\n",
       "      <td>7.556690e+08</td>\n",
       "      <td>9333.23</td>\n",
       "      <td>2766.17</td>\n",
       "      <td>7790.46</td>\n",
       "      <td>1</td>\n",
       "      <td>1</td>\n",
       "      <td>1233.220000</td>\n",
       "      <td>755.669000</td>\n",
       "    </tr>\n",
       "    <tr>\n",
       "      <th>5</th>\n",
       "      <td>7</td>\n",
       "      <td>data_d07_batch02_loc02_cell_membrane.csv</td>\n",
       "      <td>5</td>\n",
       "      <td>1.558180e+12</td>\n",
       "      <td>9.603180e+08</td>\n",
       "      <td>11912.20</td>\n",
       "      <td>2477.45</td>\n",
       "      <td>8127.90</td>\n",
       "      <td>1</td>\n",
       "      <td>1</td>\n",
       "      <td>1558.180000</td>\n",
       "      <td>960.318000</td>\n",
       "    </tr>\n",
       "    <tr>\n",
       "      <th>6</th>\n",
       "      <td>14</td>\n",
       "      <td>data_d14_batch01_loc01_cell_membrane.csv</td>\n",
       "      <td>6</td>\n",
       "      <td>3.303970e+12</td>\n",
       "      <td>1.362340e+09</td>\n",
       "      <td>12857.50</td>\n",
       "      <td>4242.07</td>\n",
       "      <td>10056.70</td>\n",
       "      <td>1</td>\n",
       "      <td>1</td>\n",
       "      <td>3303.970000</td>\n",
       "      <td>1362.340000</td>\n",
       "    </tr>\n",
       "    <tr>\n",
       "      <th>7</th>\n",
       "      <td>17</td>\n",
       "      <td>data_d17_batch01_loc01_01_cell_membrane.csv</td>\n",
       "      <td>7</td>\n",
       "      <td>1.339080e+12</td>\n",
       "      <td>7.927630e+08</td>\n",
       "      <td>8731.14</td>\n",
       "      <td>3288.59</td>\n",
       "      <td>4879.19</td>\n",
       "      <td>1</td>\n",
       "      <td>1</td>\n",
       "      <td>1339.080000</td>\n",
       "      <td>792.763000</td>\n",
       "    </tr>\n",
       "    <tr>\n",
       "      <th>8</th>\n",
       "      <td>17</td>\n",
       "      <td>data_d17_batch01_loc01_02_cell_membrane.csv</td>\n",
       "      <td>8</td>\n",
       "      <td>7.508310e+11</td>\n",
       "      <td>5.684290e+08</td>\n",
       "      <td>15772.00</td>\n",
       "      <td>2466.69</td>\n",
       "      <td>16203.10</td>\n",
       "      <td>1</td>\n",
       "      <td>1</td>\n",
       "      <td>750.831000</td>\n",
       "      <td>568.429000</td>\n",
       "    </tr>\n",
       "    <tr>\n",
       "      <th>9</th>\n",
       "      <td>21</td>\n",
       "      <td>data_d21_batch01_loc01_cell_membrane.csv</td>\n",
       "      <td>19</td>\n",
       "      <td>1.843051e+12</td>\n",
       "      <td>1.168280e+09</td>\n",
       "      <td>29974.20</td>\n",
       "      <td>7502.07</td>\n",
       "      <td>12179.07</td>\n",
       "      <td>2</td>\n",
       "      <td>3</td>\n",
       "      <td>1843.051418</td>\n",
       "      <td>1168.280059</td>\n",
       "    </tr>\n",
       "  </tbody>\n",
       "</table>\n",
       "</div>"
      ],
      "text/plain": [
       "   day                                     filename  Unnamed: 0      Volume3d  \\\n",
       "0    0     data_d00_batch01_loc01_cell_membrane.csv           0  1.596130e+12   \n",
       "1    0     data_d00_batch02_loc02_cell_membrane.csv           1  1.948900e+12   \n",
       "2    0     data_d00_batch02_loc03_cell_membrane.csv           2  8.628210e+11   \n",
       "3    7     data_d07_batch01_loc01_cell_membrane.csv           3  9.045550e+11   \n",
       "4    7     data_d07_batch02_loc01_cell_membrane.csv           4  1.233220e+12   \n",
       "5    7     data_d07_batch02_loc02_cell_membrane.csv           5  1.558180e+12   \n",
       "6   14     data_d14_batch01_loc01_cell_membrane.csv           6  3.303970e+12   \n",
       "7   17  data_d17_batch01_loc01_01_cell_membrane.csv           7  1.339080e+12   \n",
       "8   17  data_d17_batch01_loc01_02_cell_membrane.csv           8  7.508310e+11   \n",
       "9   21     data_d21_batch01_loc01_cell_membrane.csv          19  1.843051e+12   \n",
       "\n",
       "         Area3d  BaryCenterX  BaryCenterY  BaryCenterZ  Mean  index  \\\n",
       "0  1.079330e+09     12918.30      2252.73     11759.30     1      1   \n",
       "1  9.889220e+08      9006.11      3391.34      9221.07     1      1   \n",
       "2  6.087890e+08     11467.20      2299.98      7031.91     1      1   \n",
       "3  5.918870e+08     14932.10      3010.33      6637.82     1      1   \n",
       "4  7.556690e+08      9333.23      2766.17      7790.46     1      1   \n",
       "5  9.603180e+08     11912.20      2477.45      8127.90     1      1   \n",
       "6  1.362340e+09     12857.50      4242.07     10056.70     1      1   \n",
       "7  7.927630e+08      8731.14      3288.59      4879.19     1      1   \n",
       "8  5.684290e+08     15772.00      2466.69     16203.10     1      1   \n",
       "9  1.168280e+09     29974.20      7502.07     12179.07     2      3   \n",
       "\n",
       "   Volume3d_µm^3  Area3d_µm^2  \n",
       "0    1596.130000  1079.330000  \n",
       "1    1948.900000   988.922000  \n",
       "2     862.821000   608.789000  \n",
       "3     904.555000   591.887000  \n",
       "4    1233.220000   755.669000  \n",
       "5    1558.180000   960.318000  \n",
       "6    3303.970000  1362.340000  \n",
       "7    1339.080000   792.763000  \n",
       "8     750.831000   568.429000  \n",
       "9    1843.051418  1168.280059  "
      ]
     },
     "execution_count": 9,
     "metadata": {},
     "output_type": "execute_result"
    }
   ],
   "source": [
    "df_cell_membrane_sum_grouped"
   ]
  },
  {
   "cell_type": "markdown",
   "metadata": {},
   "source": [
    "### 02-03 Calculate the volume of cytoplasm"
   ]
  },
  {
   "cell_type": "code",
   "execution_count": 10,
   "metadata": {},
   "outputs": [
    {
     "data": {
      "text/html": [
       "<div>\n",
       "<style scoped>\n",
       "    .dataframe tbody tr th:only-of-type {\n",
       "        vertical-align: middle;\n",
       "    }\n",
       "\n",
       "    .dataframe tbody tr th {\n",
       "        vertical-align: top;\n",
       "    }\n",
       "\n",
       "    .dataframe thead th {\n",
       "        text-align: right;\n",
       "    }\n",
       "</style>\n",
       "<table border=\"1\" class=\"dataframe\">\n",
       "  <thead>\n",
       "    <tr style=\"text-align: right;\">\n",
       "      <th></th>\n",
       "      <th>filename</th>\n",
       "      <th>Volume3d_µm^3</th>\n",
       "    </tr>\n",
       "  </thead>\n",
       "  <tbody>\n",
       "    <tr>\n",
       "      <th>0</th>\n",
       "      <td>data_d00_batch01_loc01_cell_membrane.csv</td>\n",
       "      <td>1246.356000</td>\n",
       "    </tr>\n",
       "    <tr>\n",
       "      <th>1</th>\n",
       "      <td>data_d00_batch02_loc02_cell_membrane.csv</td>\n",
       "      <td>1300.943000</td>\n",
       "    </tr>\n",
       "    <tr>\n",
       "      <th>2</th>\n",
       "      <td>data_d00_batch02_loc03_cell_membrane.csv</td>\n",
       "      <td>680.671000</td>\n",
       "    </tr>\n",
       "    <tr>\n",
       "      <th>3</th>\n",
       "      <td>data_d07_batch01_loc01_cell_membrane.csv</td>\n",
       "      <td>519.512000</td>\n",
       "    </tr>\n",
       "    <tr>\n",
       "      <th>4</th>\n",
       "      <td>data_d07_batch02_loc01_cell_membrane.csv</td>\n",
       "      <td>875.936000</td>\n",
       "    </tr>\n",
       "    <tr>\n",
       "      <th>5</th>\n",
       "      <td>data_d07_batch02_loc02_cell_membrane.csv</td>\n",
       "      <td>1062.249000</td>\n",
       "    </tr>\n",
       "    <tr>\n",
       "      <th>6</th>\n",
       "      <td>data_d14_batch01_loc01_cell_membrane.csv</td>\n",
       "      <td>2851.499000</td>\n",
       "    </tr>\n",
       "    <tr>\n",
       "      <th>7</th>\n",
       "      <td>data_d17_batch01_loc01_01_cell_membrane.csv</td>\n",
       "      <td>844.659000</td>\n",
       "    </tr>\n",
       "    <tr>\n",
       "      <th>8</th>\n",
       "      <td>data_d17_batch01_loc01_02_cell_membrane.csv</td>\n",
       "      <td>496.472000</td>\n",
       "    </tr>\n",
       "    <tr>\n",
       "      <th>9</th>\n",
       "      <td>data_d21_batch01_loc01_cell_membrane.csv</td>\n",
       "      <td>1519.363418</td>\n",
       "    </tr>\n",
       "  </tbody>\n",
       "</table>\n",
       "</div>"
      ],
      "text/plain": [
       "                                      filename  Volume3d_µm^3\n",
       "0     data_d00_batch01_loc01_cell_membrane.csv    1246.356000\n",
       "1     data_d00_batch02_loc02_cell_membrane.csv    1300.943000\n",
       "2     data_d00_batch02_loc03_cell_membrane.csv     680.671000\n",
       "3     data_d07_batch01_loc01_cell_membrane.csv     519.512000\n",
       "4     data_d07_batch02_loc01_cell_membrane.csv     875.936000\n",
       "5     data_d07_batch02_loc02_cell_membrane.csv    1062.249000\n",
       "6     data_d14_batch01_loc01_cell_membrane.csv    2851.499000\n",
       "7  data_d17_batch01_loc01_01_cell_membrane.csv     844.659000\n",
       "8  data_d17_batch01_loc01_02_cell_membrane.csv     496.472000\n",
       "9     data_d21_batch01_loc01_cell_membrane.csv    1519.363418"
      ]
     },
     "metadata": {},
     "output_type": "display_data"
    }
   ],
   "source": [
    "df_cyto = pd.DataFrame()\n",
    "df_cyto['filename'] = df_cell_membrane_sum_grouped['filename']\n",
    "df_cyto['Volume3d_µm^3'] = df_cell_membrane_sum_grouped['Volume3d_µm^3'] - df_nucleus_sum_grouped['Volume3d_µm^3']\n",
    "display(df_cyto)"
   ]
  },
  {
   "cell_type": "markdown",
   "metadata": {},
   "source": [
    "### 02-04 Compile total volume of mito, cristate, ER and inclusion into one table\n",
    "1. raw value\n",
    "2. normalized by the total volume of cytoplasm"
   ]
  },
  {
   "cell_type": "code",
   "execution_count": 11,
   "metadata": {},
   "outputs": [
    {
     "data": {
      "text/html": [
       "<div>\n",
       "<style scoped>\n",
       "    .dataframe tbody tr th:only-of-type {\n",
       "        vertical-align: middle;\n",
       "    }\n",
       "\n",
       "    .dataframe tbody tr th {\n",
       "        vertical-align: top;\n",
       "    }\n",
       "\n",
       "    .dataframe thead th {\n",
       "        text-align: right;\n",
       "    }\n",
       "</style>\n",
       "<table border=\"1\" class=\"dataframe\">\n",
       "  <thead>\n",
       "    <tr style=\"text-align: right;\">\n",
       "      <th></th>\n",
       "      <th>filename</th>\n",
       "      <th>day</th>\n",
       "      <th>mito_Volume3d_µm^3</th>\n",
       "      <th>mito_Area3d_µm^2</th>\n",
       "      <th>cristae_Volume3d_µm^3</th>\n",
       "      <th>cristae_Area3d_µm^2</th>\n",
       "      <th>ER_Volume3d_µm^3</th>\n",
       "      <th>ER_Area3d_µm^2</th>\n",
       "      <th>inclusion_Volume3d_µm^3</th>\n",
       "      <th>inclusion_Area3d_µm^2</th>\n",
       "    </tr>\n",
       "  </thead>\n",
       "  <tbody>\n",
       "    <tr>\n",
       "      <th>0</th>\n",
       "      <td>data_d00_batch01_loc01_cell_membrane.csv</td>\n",
       "      <td>0</td>\n",
       "      <td>329.122874</td>\n",
       "      <td>2539.146333</td>\n",
       "      <td>125.122262</td>\n",
       "      <td>9500.149162</td>\n",
       "      <td>40.627818</td>\n",
       "      <td>1748.669052</td>\n",
       "      <td>0.000000</td>\n",
       "      <td>0.000000</td>\n",
       "    </tr>\n",
       "    <tr>\n",
       "      <th>1</th>\n",
       "      <td>data_d00_batch02_loc02_cell_membrane.csv</td>\n",
       "      <td>0</td>\n",
       "      <td>136.156238</td>\n",
       "      <td>1623.903160</td>\n",
       "      <td>64.224242</td>\n",
       "      <td>4673.912777</td>\n",
       "      <td>19.119638</td>\n",
       "      <td>739.128304</td>\n",
       "      <td>109.468365</td>\n",
       "      <td>902.541889</td>\n",
       "    </tr>\n",
       "    <tr>\n",
       "      <th>2</th>\n",
       "      <td>data_d00_batch02_loc03_cell_membrane.csv</td>\n",
       "      <td>0</td>\n",
       "      <td>103.213467</td>\n",
       "      <td>1046.297110</td>\n",
       "      <td>45.285632</td>\n",
       "      <td>3377.390519</td>\n",
       "      <td>23.918685</td>\n",
       "      <td>1004.646307</td>\n",
       "      <td>1.593595</td>\n",
       "      <td>19.121338</td>\n",
       "    </tr>\n",
       "    <tr>\n",
       "      <th>3</th>\n",
       "      <td>data_d07_batch01_loc01_cell_membrane.csv</td>\n",
       "      <td>7</td>\n",
       "      <td>43.118028</td>\n",
       "      <td>407.199865</td>\n",
       "      <td>17.211288</td>\n",
       "      <td>1273.696454</td>\n",
       "      <td>13.668791</td>\n",
       "      <td>499.139195</td>\n",
       "      <td>14.697196</td>\n",
       "      <td>116.219870</td>\n",
       "    </tr>\n",
       "    <tr>\n",
       "      <th>4</th>\n",
       "      <td>data_d07_batch02_loc01_cell_membrane.csv</td>\n",
       "      <td>7</td>\n",
       "      <td>87.822689</td>\n",
       "      <td>827.683718</td>\n",
       "      <td>35.413844</td>\n",
       "      <td>2649.040363</td>\n",
       "      <td>46.204013</td>\n",
       "      <td>1553.697695</td>\n",
       "      <td>9.862896</td>\n",
       "      <td>63.222781</td>\n",
       "    </tr>\n",
       "    <tr>\n",
       "      <th>5</th>\n",
       "      <td>data_d07_batch02_loc02_cell_membrane.csv</td>\n",
       "      <td>7</td>\n",
       "      <td>92.688649</td>\n",
       "      <td>1004.008391</td>\n",
       "      <td>39.713913</td>\n",
       "      <td>2883.003923</td>\n",
       "      <td>32.011120</td>\n",
       "      <td>1206.067670</td>\n",
       "      <td>3.755246</td>\n",
       "      <td>53.607291</td>\n",
       "    </tr>\n",
       "    <tr>\n",
       "      <th>6</th>\n",
       "      <td>data_d14_batch01_loc01_cell_membrane.csv</td>\n",
       "      <td>14</td>\n",
       "      <td>329.122874</td>\n",
       "      <td>2539.146333</td>\n",
       "      <td>125.122262</td>\n",
       "      <td>9500.149162</td>\n",
       "      <td>144.093364</td>\n",
       "      <td>5380.226705</td>\n",
       "      <td>456.518559</td>\n",
       "      <td>742.825330</td>\n",
       "    </tr>\n",
       "    <tr>\n",
       "      <th>7</th>\n",
       "      <td>data_d17_batch01_loc01_01_cell_membrane.csv</td>\n",
       "      <td>17</td>\n",
       "      <td>77.920876</td>\n",
       "      <td>719.326035</td>\n",
       "      <td>31.919217</td>\n",
       "      <td>2388.139876</td>\n",
       "      <td>48.083273</td>\n",
       "      <td>1774.882321</td>\n",
       "      <td>1.930615</td>\n",
       "      <td>27.836074</td>\n",
       "    </tr>\n",
       "    <tr>\n",
       "      <th>8</th>\n",
       "      <td>data_d17_batch01_loc01_02_cell_membrane.csv</td>\n",
       "      <td>17</td>\n",
       "      <td>44.933814</td>\n",
       "      <td>431.608306</td>\n",
       "      <td>18.624151</td>\n",
       "      <td>1394.269292</td>\n",
       "      <td>13.876992</td>\n",
       "      <td>566.365464</td>\n",
       "      <td>0.814875</td>\n",
       "      <td>9.758030</td>\n",
       "    </tr>\n",
       "    <tr>\n",
       "      <th>9</th>\n",
       "      <td>data_d21_batch01_loc01_cell_membrane.csv</td>\n",
       "      <td>21</td>\n",
       "      <td>118.693299</td>\n",
       "      <td>1052.321567</td>\n",
       "      <td>48.355537</td>\n",
       "      <td>3618.926789</td>\n",
       "      <td>41.996704</td>\n",
       "      <td>1566.584143</td>\n",
       "      <td>85.987873</td>\n",
       "      <td>300.281775</td>\n",
       "    </tr>\n",
       "  </tbody>\n",
       "</table>\n",
       "</div>"
      ],
      "text/plain": [
       "                                      filename  day  mito_Volume3d_µm^3  \\\n",
       "0     data_d00_batch01_loc01_cell_membrane.csv    0          329.122874   \n",
       "1     data_d00_batch02_loc02_cell_membrane.csv    0          136.156238   \n",
       "2     data_d00_batch02_loc03_cell_membrane.csv    0          103.213467   \n",
       "3     data_d07_batch01_loc01_cell_membrane.csv    7           43.118028   \n",
       "4     data_d07_batch02_loc01_cell_membrane.csv    7           87.822689   \n",
       "5     data_d07_batch02_loc02_cell_membrane.csv    7           92.688649   \n",
       "6     data_d14_batch01_loc01_cell_membrane.csv   14          329.122874   \n",
       "7  data_d17_batch01_loc01_01_cell_membrane.csv   17           77.920876   \n",
       "8  data_d17_batch01_loc01_02_cell_membrane.csv   17           44.933814   \n",
       "9     data_d21_batch01_loc01_cell_membrane.csv   21          118.693299   \n",
       "\n",
       "   mito_Area3d_µm^2  cristae_Volume3d_µm^3  cristae_Area3d_µm^2  \\\n",
       "0       2539.146333             125.122262          9500.149162   \n",
       "1       1623.903160              64.224242          4673.912777   \n",
       "2       1046.297110              45.285632          3377.390519   \n",
       "3        407.199865              17.211288          1273.696454   \n",
       "4        827.683718              35.413844          2649.040363   \n",
       "5       1004.008391              39.713913          2883.003923   \n",
       "6       2539.146333             125.122262          9500.149162   \n",
       "7        719.326035              31.919217          2388.139876   \n",
       "8        431.608306              18.624151          1394.269292   \n",
       "9       1052.321567              48.355537          3618.926789   \n",
       "\n",
       "   ER_Volume3d_µm^3  ER_Area3d_µm^2  inclusion_Volume3d_µm^3  \\\n",
       "0         40.627818     1748.669052                 0.000000   \n",
       "1         19.119638      739.128304               109.468365   \n",
       "2         23.918685     1004.646307                 1.593595   \n",
       "3         13.668791      499.139195                14.697196   \n",
       "4         46.204013     1553.697695                 9.862896   \n",
       "5         32.011120     1206.067670                 3.755246   \n",
       "6        144.093364     5380.226705               456.518559   \n",
       "7         48.083273     1774.882321                 1.930615   \n",
       "8         13.876992      566.365464                 0.814875   \n",
       "9         41.996704     1566.584143                85.987873   \n",
       "\n",
       "   inclusion_Area3d_µm^2  \n",
       "0               0.000000  \n",
       "1             902.541889  \n",
       "2              19.121338  \n",
       "3             116.219870  \n",
       "4              63.222781  \n",
       "5              53.607291  \n",
       "6             742.825330  \n",
       "7              27.836074  \n",
       "8               9.758030  \n",
       "9             300.281775  "
      ]
     },
     "execution_count": 11,
     "metadata": {},
     "output_type": "execute_result"
    }
   ],
   "source": [
    "df_sum_compiled = pd.DataFrame()\n",
    "df_sum_compiled[['filename', 'day']] = df_cell_membrane_sum_grouped[['filename', 'day']]\n",
    "df_sum_compiled['day'] = df_sum_compiled['day'].astype('int8')\n",
    "df_sum_compiled[['mito_Volume3d_µm^3', 'mito_Area3d_µm^2']] = df_mito_sum_grouped[['Volume3d_µm^3', 'Area3d_µm^2']]\n",
    "df_sum_compiled[['cristae_Volume3d_µm^3', 'cristae_Area3d_µm^2']] = df_cristae_sum_grouped[['Volume3d_µm^3', 'Area3d_µm^2']]\n",
    "df_sum_compiled[['ER_Volume3d_µm^3', 'ER_Area3d_µm^2']] = df_ER_sum_grouped[['Volume3d_µm^3', 'Area3d_µm^2']]\n",
    "\n",
    "df_inclusion_sum_tmp = df_inclusion_sum_grouped[['Volume3d_µm^3', 'Area3d_µm^2']]\n",
    "df_inclusion_sum_fill = pd.DataFrame([[0, 0]], columns = ['Volume3d_µm^3', 'Area3d_µm^2'])\n",
    "df_inclusion_sum_tmp = df_inclusion_sum_fill.append(df_inclusion_sum_tmp, ignore_index = True)\n",
    "\n",
    "df_sum_compiled[['inclusion_Volume3d_µm^3', 'inclusion_Area3d_µm^2']] = df_inclusion_sum_tmp\n",
    "df_sum_compiled"
   ]
  },
  {
   "cell_type": "code",
   "execution_count": 12,
   "metadata": {},
   "outputs": [
    {
     "data": {
      "image/png": "[encoded data removed]",
      "text/plain": [
       "<Figure size 720x720 with 4 Axes>"
      ]
     },
     "metadata": {
      "needs_background": "light"
     },
     "output_type": "display_data"
    },
    {
     "data": {
      "text/plain": [
       "<Figure size 432x288 with 0 Axes>"
      ]
     },
     "metadata": {},
     "output_type": "display_data"
    }
   ],
   "source": [
    "fig, ax = plt.subplots(nrows=2, ncols=2, figsize=(10, 10))\n",
    "idx = 0\n",
    "for i in range(2):\n",
    "    for j in range(2):\n",
    "        ax[i, j].bar(df_sum_compiled.index, \n",
    "                  df_sum_compiled.iloc[:, idx +2], \n",
    "                  tick_label=['0', '0', '0', '7', '7', '7', '14', '17', '17', '21'])\n",
    "        ax[i, j].set_title(df_sum_compiled.columns[idx+2])\n",
    "        ax[i, j].set_xlabel('Day')\n",
    "        idx += 1\n",
    "        # ax[i].set_ylabel('Total Volume ($µm^3$)')\n",
    "    \n",
    "fig.tight_layout(pad=3.0)\n",
    "plt.show()\n",
    "\n",
    "mainpath = 'D:\\PerlmutterData'\n",
    "folder = 'segmentation_compiled_export'\n",
    "data_folder = 'data'\n",
    "\n",
    "plt.savefig(os.path.join(mainpath, folder, data_folder, 'plot', ))"
   ]
  },
  {
   "cell_type": "code",
   "execution_count": 13,
   "metadata": {},
   "outputs": [
    {
     "data": {
      "image/png": "[encoded data removed]",
      "text/plain": [
       "<Figure size 720x720 with 4 Axes>"
      ]
     },
     "metadata": {
      "needs_background": "light"
     },
     "output_type": "display_data"
    },
    {
     "data": {
      "text/plain": [
       "<Figure size 432x288 with 0 Axes>"
      ]
     },
     "metadata": {},
     "output_type": "display_data"
    }
   ],
   "source": [
    "fig, ax = plt.subplots(nrows=2, ncols=2, figsize=(10, 10))\n",
    "idx = 4\n",
    "for i in range(2):\n",
    "    for j in range(2):\n",
    "        ax[i, j].bar(df_sum_compiled.index, \n",
    "                  df_sum_compiled.iloc[:, idx +2], \n",
    "                  tick_label=['0', '0', '0', '7', '7', '7', '14', '17', '17', '21'])\n",
    "        ax[i, j].set_title(df_sum_compiled.columns[idx+2])\n",
    "        ax[i, j].set_xlabel('Day')\n",
    "        idx += 1\n",
    "        # ax[i].set_ylabel('Total Volume ($µm^3$)')\n",
    "    \n",
    "fig.tight_layout(pad=3.0)\n",
    "plt.show()\n",
    "\n",
    "mainpath = 'D:\\PerlmutterData'\n",
    "folder = 'segmentation_compiled_export'\n",
    "data_folder = 'data'\n",
    "\n",
    "plt.savefig(os.path.join(mainpath, folder, data_folder, 'plot', ))"
   ]
  },
  {
   "cell_type": "code",
   "execution_count": 14,
   "metadata": {},
   "outputs": [
    {
     "data": {
      "text/html": [
       "<div>\n",
       "<style scoped>\n",
       "    .dataframe tbody tr th:only-of-type {\n",
       "        vertical-align: middle;\n",
       "    }\n",
       "\n",
       "    .dataframe tbody tr th {\n",
       "        vertical-align: top;\n",
       "    }\n",
       "\n",
       "    .dataframe thead th {\n",
       "        text-align: right;\n",
       "    }\n",
       "</style>\n",
       "<table border=\"1\" class=\"dataframe\">\n",
       "  <thead>\n",
       "    <tr style=\"text-align: right;\">\n",
       "      <th></th>\n",
       "      <th>filename</th>\n",
       "      <th>day</th>\n",
       "      <th>mito_Volume3d_µm^3</th>\n",
       "      <th>mito_Area3d_µm^2</th>\n",
       "      <th>cristae_Volume3d_µm^3</th>\n",
       "      <th>cristae_Area3d_µm^2</th>\n",
       "      <th>ER_Volume3d_µm^3</th>\n",
       "      <th>ER_Area3d_µm^2</th>\n",
       "      <th>inclusion_Volume3d_µm^3</th>\n",
       "      <th>inclusion_Area3d_µm^2</th>\n",
       "    </tr>\n",
       "  </thead>\n",
       "  <tbody>\n",
       "    <tr>\n",
       "      <th>0</th>\n",
       "      <td>data_d00_batch01_loc01_cell_membrane.csv</td>\n",
       "      <td>0</td>\n",
       "      <td>0.264068</td>\n",
       "      <td>2.037256</td>\n",
       "      <td>0.100390</td>\n",
       "      <td>7.622340</td>\n",
       "      <td>0.032597</td>\n",
       "      <td>1.403025</td>\n",
       "      <td>0.000000</td>\n",
       "      <td>0.000000</td>\n",
       "    </tr>\n",
       "    <tr>\n",
       "      <th>1</th>\n",
       "      <td>data_d00_batch02_loc02_cell_membrane.csv</td>\n",
       "      <td>0</td>\n",
       "      <td>0.104660</td>\n",
       "      <td>1.248251</td>\n",
       "      <td>0.049367</td>\n",
       "      <td>3.592711</td>\n",
       "      <td>0.014697</td>\n",
       "      <td>0.568148</td>\n",
       "      <td>0.084145</td>\n",
       "      <td>0.693760</td>\n",
       "    </tr>\n",
       "    <tr>\n",
       "      <th>2</th>\n",
       "      <td>data_d00_batch02_loc03_cell_membrane.csv</td>\n",
       "      <td>0</td>\n",
       "      <td>0.151635</td>\n",
       "      <td>1.537155</td>\n",
       "      <td>0.066531</td>\n",
       "      <td>4.961855</td>\n",
       "      <td>0.035140</td>\n",
       "      <td>1.475965</td>\n",
       "      <td>0.002341</td>\n",
       "      <td>0.028092</td>\n",
       "    </tr>\n",
       "    <tr>\n",
       "      <th>3</th>\n",
       "      <td>data_d07_batch01_loc01_cell_membrane.csv</td>\n",
       "      <td>7</td>\n",
       "      <td>0.082997</td>\n",
       "      <td>0.783812</td>\n",
       "      <td>0.033130</td>\n",
       "      <td>2.451717</td>\n",
       "      <td>0.026311</td>\n",
       "      <td>0.960785</td>\n",
       "      <td>0.028290</td>\n",
       "      <td>0.223710</td>\n",
       "    </tr>\n",
       "    <tr>\n",
       "      <th>4</th>\n",
       "      <td>data_d07_batch02_loc01_cell_membrane.csv</td>\n",
       "      <td>7</td>\n",
       "      <td>0.100262</td>\n",
       "      <td>0.944913</td>\n",
       "      <td>0.040430</td>\n",
       "      <td>3.024240</td>\n",
       "      <td>0.052748</td>\n",
       "      <td>1.773757</td>\n",
       "      <td>0.011260</td>\n",
       "      <td>0.072177</td>\n",
       "    </tr>\n",
       "    <tr>\n",
       "      <th>5</th>\n",
       "      <td>data_d07_batch02_loc02_cell_membrane.csv</td>\n",
       "      <td>7</td>\n",
       "      <td>0.087257</td>\n",
       "      <td>0.945172</td>\n",
       "      <td>0.037387</td>\n",
       "      <td>2.714057</td>\n",
       "      <td>0.030135</td>\n",
       "      <td>1.135391</td>\n",
       "      <td>0.003535</td>\n",
       "      <td>0.050466</td>\n",
       "    </tr>\n",
       "    <tr>\n",
       "      <th>6</th>\n",
       "      <td>data_d14_batch01_loc01_cell_membrane.csv</td>\n",
       "      <td>14</td>\n",
       "      <td>0.115421</td>\n",
       "      <td>0.890460</td>\n",
       "      <td>0.043879</td>\n",
       "      <td>3.331633</td>\n",
       "      <td>0.050532</td>\n",
       "      <td>1.886806</td>\n",
       "      <td>0.160098</td>\n",
       "      <td>0.260503</td>\n",
       "    </tr>\n",
       "    <tr>\n",
       "      <th>7</th>\n",
       "      <td>data_d17_batch01_loc01_01_cell_membrane.csv</td>\n",
       "      <td>17</td>\n",
       "      <td>0.092251</td>\n",
       "      <td>0.851617</td>\n",
       "      <td>0.037789</td>\n",
       "      <td>2.827342</td>\n",
       "      <td>0.056926</td>\n",
       "      <td>2.101300</td>\n",
       "      <td>0.002286</td>\n",
       "      <td>0.032955</td>\n",
       "    </tr>\n",
       "    <tr>\n",
       "      <th>8</th>\n",
       "      <td>data_d17_batch01_loc01_02_cell_membrane.csv</td>\n",
       "      <td>17</td>\n",
       "      <td>0.090506</td>\n",
       "      <td>0.869351</td>\n",
       "      <td>0.037513</td>\n",
       "      <td>2.808354</td>\n",
       "      <td>0.027951</td>\n",
       "      <td>1.140780</td>\n",
       "      <td>0.001641</td>\n",
       "      <td>0.019655</td>\n",
       "    </tr>\n",
       "    <tr>\n",
       "      <th>9</th>\n",
       "      <td>data_d21_batch01_loc01_cell_membrane.csv</td>\n",
       "      <td>21</td>\n",
       "      <td>0.078120</td>\n",
       "      <td>0.692607</td>\n",
       "      <td>0.031826</td>\n",
       "      <td>2.381870</td>\n",
       "      <td>0.027641</td>\n",
       "      <td>1.031079</td>\n",
       "      <td>0.056595</td>\n",
       "      <td>0.197637</td>\n",
       "    </tr>\n",
       "  </tbody>\n",
       "</table>\n",
       "</div>"
      ],
      "text/plain": [
       "                                      filename  day  mito_Volume3d_µm^3  \\\n",
       "0     data_d00_batch01_loc01_cell_membrane.csv    0            0.264068   \n",
       "1     data_d00_batch02_loc02_cell_membrane.csv    0            0.104660   \n",
       "2     data_d00_batch02_loc03_cell_membrane.csv    0            0.151635   \n",
       "3     data_d07_batch01_loc01_cell_membrane.csv    7            0.082997   \n",
       "4     data_d07_batch02_loc01_cell_membrane.csv    7            0.100262   \n",
       "5     data_d07_batch02_loc02_cell_membrane.csv    7            0.087257   \n",
       "6     data_d14_batch01_loc01_cell_membrane.csv   14            0.115421   \n",
       "7  data_d17_batch01_loc01_01_cell_membrane.csv   17            0.092251   \n",
       "8  data_d17_batch01_loc01_02_cell_membrane.csv   17            0.090506   \n",
       "9     data_d21_batch01_loc01_cell_membrane.csv   21            0.078120   \n",
       "\n",
       "   mito_Area3d_µm^2  cristae_Volume3d_µm^3  cristae_Area3d_µm^2  \\\n",
       "0          2.037256               0.100390             7.622340   \n",
       "1          1.248251               0.049367             3.592711   \n",
       "2          1.537155               0.066531             4.961855   \n",
       "3          0.783812               0.033130             2.451717   \n",
       "4          0.944913               0.040430             3.024240   \n",
       "5          0.945172               0.037387             2.714057   \n",
       "6          0.890460               0.043879             3.331633   \n",
       "7          0.851617               0.037789             2.827342   \n",
       "8          0.869351               0.037513             2.808354   \n",
       "9          0.692607               0.031826             2.381870   \n",
       "\n",
       "   ER_Volume3d_µm^3  ER_Area3d_µm^2  inclusion_Volume3d_µm^3  \\\n",
       "0          0.032597        1.403025                 0.000000   \n",
       "1          0.014697        0.568148                 0.084145   \n",
       "2          0.035140        1.475965                 0.002341   \n",
       "3          0.026311        0.960785                 0.028290   \n",
       "4          0.052748        1.773757                 0.011260   \n",
       "5          0.030135        1.135391                 0.003535   \n",
       "6          0.050532        1.886806                 0.160098   \n",
       "7          0.056926        2.101300                 0.002286   \n",
       "8          0.027951        1.140780                 0.001641   \n",
       "9          0.027641        1.031079                 0.056595   \n",
       "\n",
       "   inclusion_Area3d_µm^2  \n",
       "0               0.000000  \n",
       "1               0.693760  \n",
       "2               0.028092  \n",
       "3               0.223710  \n",
       "4               0.072177  \n",
       "5               0.050466  \n",
       "6               0.260503  \n",
       "7               0.032955  \n",
       "8               0.019655  \n",
       "9               0.197637  "
      ]
     },
     "execution_count": 14,
     "metadata": {},
     "output_type": "execute_result"
    }
   ],
   "source": [
    "df_sum_compiled_normalized = pd.DataFrame()\n",
    "df_sum_compiled_normalized[['filename', 'day']] = df_cell_membrane_sum_grouped[['filename', 'day']]\n",
    "cal_tmp = df_sum_compiled.iloc[:, 2:].div(df_cyto['Volume3d_µm^3'], axis=0)\n",
    "df_sum_compiled_normalized = pd.concat([df_sum_compiled_normalized, cal_tmp], axis=1)\n",
    "df_sum_compiled_normalized"
   ]
  },
  {
   "cell_type": "code",
   "execution_count": 15,
   "metadata": {},
   "outputs": [
    {
     "data": {
      "image/png": "[encoded data removed]",
      "text/plain": [
       "<Figure size 720x720 with 4 Axes>"
      ]
     },
     "metadata": {
      "needs_background": "light"
     },
     "output_type": "display_data"
    },
    {
     "data": {
      "text/plain": [
       "<Figure size 432x288 with 0 Axes>"
      ]
     },
     "metadata": {},
     "output_type": "display_data"
    }
   ],
   "source": [
    "fig, ax = plt.subplots(nrows=2, ncols=2, figsize=(10, 10))\n",
    "idx = 0\n",
    "for i in range(2):\n",
    "    for j in range(2):\n",
    "        ax[i, j].bar(df_sum_compiled_normalized.index, \n",
    "                  df_sum_compiled_normalized.iloc[:, idx +2], \n",
    "                  tick_label=['0', '0', '0', '7', '7', '7', '14', '17', '17', '21'])\n",
    "        ax[i, j].set_title(df_sum_compiled_normalized.columns[idx+2])\n",
    "        ax[i, j].set_xlabel('Day')\n",
    "        idx += 1\n",
    "        # ax[i].set_ylabel('Total Volume ($µm^3$)')\n",
    "    \n",
    "fig.tight_layout(pad=3.0)\n",
    "plt.show()\n",
    "\n",
    "mainpath = 'D:\\PerlmutterData'\n",
    "folder = 'segmentation_compiled_export'\n",
    "data_folder = 'data'\n",
    "\n",
    "plt.savefig(os.path.join(mainpath, folder, data_folder, 'plot', ))"
   ]
  },
  {
   "cell_type": "code",
   "execution_count": 16,
   "metadata": {},
   "outputs": [
    {
     "data": {
      "image/png": "[encoded data removed]",
      "text/plain": [
       "<Figure size 720x720 with 4 Axes>"
      ]
     },
     "metadata": {
      "needs_background": "light"
     },
     "output_type": "display_data"
    },
    {
     "data": {
      "text/plain": [
       "<Figure size 432x288 with 0 Axes>"
      ]
     },
     "metadata": {},
     "output_type": "display_data"
    }
   ],
   "source": [
    "fig, ax = plt.subplots(nrows=2, ncols=2, figsize=(10, 10))\n",
    "idx = 4\n",
    "for i in range(2):\n",
    "    for j in range(2):\n",
    "        ax[i, j].bar(df_sum_compiled_normalized.index, \n",
    "                  df_sum_compiled_normalized.iloc[:, idx +2], \n",
    "                  tick_label=['0', '0', '0', '7', '7', '7', '14', '17', '17', '21'])\n",
    "        ax[i, j].set_title(df_sum_compiled_normalized.columns[idx+2])\n",
    "        ax[i, j].set_xlabel('Day')\n",
    "        idx += 1\n",
    "        # ax[i].set_ylabel('Total Volume ($µm^3$)')\n",
    "    \n",
    "fig.tight_layout(pad=3.0)\n",
    "plt.show()\n",
    "\n",
    "mainpath = 'D:\\PerlmutterData'\n",
    "folder = 'segmentation_compiled_export'\n",
    "data_folder = 'data'\n",
    "\n",
    "plt.savefig(os.path.join(mainpath, folder, data_folder, 'plot', ))"
   ]
  },
  {
   "cell_type": "markdown",
   "metadata": {},
   "source": [
    "### 02-05 Compile mean volume of mito, cristate, ER and inclusion into one table\n",
    "1. raw value\n",
    "2. normalized by the total volume of cytoplasm"
   ]
  },
  {
   "cell_type": "code",
   "execution_count": 42,
   "metadata": {},
   "outputs": [
    {
     "data": {
      "text/html": [
       "<div>\n",
       "<style scoped>\n",
       "    .dataframe tbody tr th:only-of-type {\n",
       "        vertical-align: middle;\n",
       "    }\n",
       "\n",
       "    .dataframe tbody tr th {\n",
       "        vertical-align: top;\n",
       "    }\n",
       "\n",
       "    .dataframe thead th {\n",
       "        text-align: right;\n",
       "    }\n",
       "</style>\n",
       "<table border=\"1\" class=\"dataframe\">\n",
       "  <thead>\n",
       "    <tr style=\"text-align: right;\">\n",
       "      <th></th>\n",
       "      <th>filename</th>\n",
       "      <th>day</th>\n",
       "      <th>mito_Volume3d_µm^3</th>\n",
       "      <th>mito_Area3d_µm^2</th>\n",
       "      <th>cristae_Volume3d_µm^3</th>\n",
       "      <th>cristae_Area3d_µm^2</th>\n",
       "      <th>ER_Volume3d_µm^3</th>\n",
       "      <th>ER_Area3d_µm^2</th>\n",
       "      <th>inclusion_Volume3d_µm^3</th>\n",
       "      <th>inclusion_Area3d_µm^2</th>\n",
       "    </tr>\n",
       "  </thead>\n",
       "  <tbody>\n",
       "    <tr>\n",
       "      <th>0</th>\n",
       "      <td>data_d00_batch01_loc01_cell_membrane.csv</td>\n",
       "      <td>0</td>\n",
       "      <td>0.857091</td>\n",
       "      <td>6.612360</td>\n",
       "      <td>0.007178</td>\n",
       "      <td>0.545015</td>\n",
       "      <td>0.008055</td>\n",
       "      <td>0.346683</td>\n",
       "      <td>0.000000</td>\n",
       "      <td>0.000000</td>\n",
       "    </tr>\n",
       "    <tr>\n",
       "      <th>1</th>\n",
       "      <td>data_d00_batch02_loc02_cell_membrane.csv</td>\n",
       "      <td>0</td>\n",
       "      <td>0.306658</td>\n",
       "      <td>3.657440</td>\n",
       "      <td>0.013209</td>\n",
       "      <td>0.961315</td>\n",
       "      <td>0.005119</td>\n",
       "      <td>0.197892</td>\n",
       "      <td>1.216315</td>\n",
       "      <td>10.028243</td>\n",
       "    </tr>\n",
       "    <tr>\n",
       "      <th>2</th>\n",
       "      <td>data_d00_batch02_loc03_cell_membrane.csv</td>\n",
       "      <td>0</td>\n",
       "      <td>0.456697</td>\n",
       "      <td>4.629633</td>\n",
       "      <td>0.008641</td>\n",
       "      <td>0.644417</td>\n",
       "      <td>0.007923</td>\n",
       "      <td>0.332775</td>\n",
       "      <td>0.177066</td>\n",
       "      <td>2.124593</td>\n",
       "    </tr>\n",
       "    <tr>\n",
       "      <th>3</th>\n",
       "      <td>data_d07_batch01_loc01_cell_membrane.csv</td>\n",
       "      <td>7</td>\n",
       "      <td>0.317044</td>\n",
       "      <td>2.994117</td>\n",
       "      <td>0.008099</td>\n",
       "      <td>0.599387</td>\n",
       "      <td>0.010043</td>\n",
       "      <td>0.366744</td>\n",
       "      <td>0.408255</td>\n",
       "      <td>3.228330</td>\n",
       "    </tr>\n",
       "    <tr>\n",
       "      <th>4</th>\n",
       "      <td>data_d07_batch02_loc01_cell_membrane.csv</td>\n",
       "      <td>7</td>\n",
       "      <td>0.472165</td>\n",
       "      <td>4.449912</td>\n",
       "      <td>0.012771</td>\n",
       "      <td>0.955298</td>\n",
       "      <td>0.020444</td>\n",
       "      <td>0.687477</td>\n",
       "      <td>0.428822</td>\n",
       "      <td>2.748817</td>\n",
       "    </tr>\n",
       "    <tr>\n",
       "      <th>5</th>\n",
       "      <td>data_d07_batch02_loc02_cell_membrane.csv</td>\n",
       "      <td>7</td>\n",
       "      <td>0.485281</td>\n",
       "      <td>5.256588</td>\n",
       "      <td>0.012152</td>\n",
       "      <td>0.882192</td>\n",
       "      <td>0.009553</td>\n",
       "      <td>0.359913</td>\n",
       "      <td>0.234703</td>\n",
       "      <td>3.350456</td>\n",
       "    </tr>\n",
       "    <tr>\n",
       "      <th>6</th>\n",
       "      <td>data_d14_batch01_loc01_cell_membrane.csv</td>\n",
       "      <td>14</td>\n",
       "      <td>0.857091</td>\n",
       "      <td>6.612360</td>\n",
       "      <td>0.007178</td>\n",
       "      <td>0.545015</td>\n",
       "      <td>0.019525</td>\n",
       "      <td>0.729028</td>\n",
       "      <td>10.144857</td>\n",
       "      <td>16.507230</td>\n",
       "    </tr>\n",
       "    <tr>\n",
       "      <th>7</th>\n",
       "      <td>data_d17_batch01_loc01_01_cell_membrane.csv</td>\n",
       "      <td>17</td>\n",
       "      <td>0.701990</td>\n",
       "      <td>6.480415</td>\n",
       "      <td>0.008721</td>\n",
       "      <td>0.652497</td>\n",
       "      <td>0.022385</td>\n",
       "      <td>0.826295</td>\n",
       "      <td>0.107256</td>\n",
       "      <td>1.546449</td>\n",
       "    </tr>\n",
       "    <tr>\n",
       "      <th>8</th>\n",
       "      <td>data_d17_batch01_loc01_02_cell_membrane.csv</td>\n",
       "      <td>17</td>\n",
       "      <td>0.522486</td>\n",
       "      <td>5.018701</td>\n",
       "      <td>0.009032</td>\n",
       "      <td>0.676173</td>\n",
       "      <td>0.010070</td>\n",
       "      <td>0.411005</td>\n",
       "      <td>0.162975</td>\n",
       "      <td>1.951606</td>\n",
       "    </tr>\n",
       "    <tr>\n",
       "      <th>9</th>\n",
       "      <td>data_d21_batch01_loc01_cell_membrane.csv</td>\n",
       "      <td>21</td>\n",
       "      <td>0.507236</td>\n",
       "      <td>4.497101</td>\n",
       "      <td>0.009326</td>\n",
       "      <td>0.697961</td>\n",
       "      <td>0.012410</td>\n",
       "      <td>0.462939</td>\n",
       "      <td>4.525678</td>\n",
       "      <td>15.804304</td>\n",
       "    </tr>\n",
       "  </tbody>\n",
       "</table>\n",
       "</div>"
      ],
      "text/plain": [
       "                                      filename  day  mito_Volume3d_µm^3  \\\n",
       "0     data_d00_batch01_loc01_cell_membrane.csv    0            0.857091   \n",
       "1     data_d00_batch02_loc02_cell_membrane.csv    0            0.306658   \n",
       "2     data_d00_batch02_loc03_cell_membrane.csv    0            0.456697   \n",
       "3     data_d07_batch01_loc01_cell_membrane.csv    7            0.317044   \n",
       "4     data_d07_batch02_loc01_cell_membrane.csv    7            0.472165   \n",
       "5     data_d07_batch02_loc02_cell_membrane.csv    7            0.485281   \n",
       "6     data_d14_batch01_loc01_cell_membrane.csv   14            0.857091   \n",
       "7  data_d17_batch01_loc01_01_cell_membrane.csv   17            0.701990   \n",
       "8  data_d17_batch01_loc01_02_cell_membrane.csv   17            0.522486   \n",
       "9     data_d21_batch01_loc01_cell_membrane.csv   21            0.507236   \n",
       "\n",
       "   mito_Area3d_µm^2  cristae_Volume3d_µm^3  cristae_Area3d_µm^2  \\\n",
       "0          6.612360               0.007178             0.545015   \n",
       "1          3.657440               0.013209             0.961315   \n",
       "2          4.629633               0.008641             0.644417   \n",
       "3          2.994117               0.008099             0.599387   \n",
       "4          4.449912               0.012771             0.955298   \n",
       "5          5.256588               0.012152             0.882192   \n",
       "6          6.612360               0.007178             0.545015   \n",
       "7          6.480415               0.008721             0.652497   \n",
       "8          5.018701               0.009032             0.676173   \n",
       "9          4.497101               0.009326             0.697961   \n",
       "\n",
       "   ER_Volume3d_µm^3  ER_Area3d_µm^2  inclusion_Volume3d_µm^3  \\\n",
       "0          0.008055        0.346683                 0.000000   \n",
       "1          0.005119        0.197892                 1.216315   \n",
       "2          0.007923        0.332775                 0.177066   \n",
       "3          0.010043        0.366744                 0.408255   \n",
       "4          0.020444        0.687477                 0.428822   \n",
       "5          0.009553        0.359913                 0.234703   \n",
       "6          0.019525        0.729028                10.144857   \n",
       "7          0.022385        0.826295                 0.107256   \n",
       "8          0.010070        0.411005                 0.162975   \n",
       "9          0.012410        0.462939                 4.525678   \n",
       "\n",
       "   inclusion_Area3d_µm^2  \n",
       "0               0.000000  \n",
       "1              10.028243  \n",
       "2               2.124593  \n",
       "3               3.228330  \n",
       "4               2.748817  \n",
       "5               3.350456  \n",
       "6              16.507230  \n",
       "7               1.546449  \n",
       "8               1.951606  \n",
       "9              15.804304  "
      ]
     },
     "execution_count": 42,
     "metadata": {},
     "output_type": "execute_result"
    }
   ],
   "source": [
    "df_mean_compiled = pd.DataFrame()\n",
    "df_mean_compiled[['filename', 'day']] = df_cell_membrane_sum_grouped[['filename', 'day']]\n",
    "df_mean_compiled['day'] = df_mean_compiled['day'].astype('int8')\n",
    "df_mean_compiled[['mito_Volume3d_µm^3', 'mito_Area3d_µm^2']] = df_mito_mean_grouped[['Volume3d_µm^3', 'Area3d_µm^2']]\n",
    "df_mean_compiled[['cristae_Volume3d_µm^3', 'cristae_Area3d_µm^2']] = df_cristae_mean_grouped[['Volume3d_µm^3', 'Area3d_µm^2']]\n",
    "df_mean_compiled[['ER_Volume3d_µm^3', 'ER_Area3d_µm^2']] = df_ER_mean_grouped[['Volume3d_µm^3', 'Area3d_µm^2']]\n",
    "\n",
    "df_inclusion_mean_tmp = df_inclusion_mean_grouped[['Volume3d_µm^3', 'Area3d_µm^2']]\n",
    "df_inclusion_mean_fill = pd.DataFrame([[0, 0]], columns = ['Volume3d_µm^3', 'Area3d_µm^2'])\n",
    "df_inclusion_mean_tmp = df_inclusion_mean_fill.append(df_inclusion_mean_tmp, ignore_index = True)\n",
    "\n",
    "df_mean_compiled[['inclusion_Volume3d_µm^3', 'inclusion_Area3d_µm^2']] = df_inclusion_mean_tmp\n",
    "df_mean_compiled"
   ]
  },
  {
   "cell_type": "code",
   "execution_count": 43,
   "metadata": {},
   "outputs": [
    {
     "data": {
      "image/png": "[encoded data removed]",
      "text/plain": [
       "<Figure size 720x720 with 4 Axes>"
      ]
     },
     "metadata": {
      "needs_background": "light"
     },
     "output_type": "display_data"
    },
    {
     "data": {
      "text/plain": [
       "<Figure size 432x288 with 0 Axes>"
      ]
     },
     "metadata": {},
     "output_type": "display_data"
    }
   ],
   "source": [
    "fig, ax = plt.subplots(nrows=2, ncols=2, figsize=(10, 10))\n",
    "idx = 0\n",
    "for i in range(2):\n",
    "    for j in range(2):\n",
    "        ax[i, j].bar(df_mean_compiled.index, \n",
    "                  df_mean_compiled.iloc[:, idx +2], \n",
    "                  tick_label=['0', '0', '0', '7', '7', '7', '14', '17', '17', '21'])\n",
    "        ax[i, j].set_title(df_mean_compiled.columns[idx+2])\n",
    "        ax[i, j].set_xlabel('Day')\n",
    "        idx += 1\n",
    "        # ax[i].set_ylabel('Total Volume ($µm^3$)')\n",
    "    \n",
    "fig.tight_layout(pad=3.0)\n",
    "plt.show()\n",
    "\n",
    "mainpath = 'D:\\PerlmutterData'\n",
    "folder = 'segmentation_compiled_export'\n",
    "data_folder = 'data'\n",
    "\n",
    "plt.savefig(os.path.join(mainpath, folder, data_folder, 'plot', ))"
   ]
  },
  {
   "cell_type": "code",
   "execution_count": 45,
   "metadata": {},
   "outputs": [
    {
     "data": {
      "image/png": "[encoded data removed]",
      "text/plain": [
       "<Figure size 720x720 with 4 Axes>"
      ]
     },
     "metadata": {
      "needs_background": "light"
     },
     "output_type": "display_data"
    },
    {
     "data": {
      "text/plain": [
       "<Figure size 432x288 with 0 Axes>"
      ]
     },
     "metadata": {},
     "output_type": "display_data"
    }
   ],
   "source": [
    "fig, ax = plt.subplots(nrows=2, ncols=2, figsize=(10, 10))\n",
    "idx = 4\n",
    "for i in range(2):\n",
    "    for j in range(2):\n",
    "        ax[i, j].bar(df_mean_compiled.index, \n",
    "                  df_mean_compiled.iloc[:, idx +2], \n",
    "                  tick_label=['0', '0', '0', '7', '7', '7', '14', '17', '17', '21'])\n",
    "        ax[i, j].set_title(df_mean_compiled.columns[idx+2])\n",
    "        ax[i, j].set_xlabel('Day')\n",
    "        idx += 1\n",
    "        # ax[i].set_ylabel('Total Volume ($µm^3$)')\n",
    "    \n",
    "fig.tight_layout(pad=3.0)\n",
    "plt.show()\n",
    "\n",
    "mainpath = 'D:\\PerlmutterData'\n",
    "folder = 'segmentation_compiled_export'\n",
    "data_folder = 'data'\n",
    "\n",
    "plt.savefig(os.path.join(mainpath, folder, data_folder, 'plot', ))"
   ]
  },
  {
   "cell_type": "code",
   "execution_count": 20,
   "metadata": {},
   "outputs": [
    {
     "data": {
      "text/plain": [
       "\"\\ndf_mean_compiled_normalized = pd.DataFrame()\\ndf_mean_compiled_normalized[['filename', 'day']] = df_cell_membrane_sum_grouped[['filename', 'day']]\\ncal_tmp = df_mean_compiled.iloc[:, 2:].div(df_cyto['Volume3d_µm^3'], axis=0)\\ndf_mean_compiled_normalized = pd.concat([df_mean_compiled_normalized, cal_tmp], axis=1)\\ndf_mean_compiled_normalized\\n\""
      ]
     },
     "execution_count": 20,
     "metadata": {},
     "output_type": "execute_result"
    }
   ],
   "source": [
    "'''\n",
    "df_mean_compiled_normalized = pd.DataFrame()\n",
    "df_mean_compiled_normalized[['filename', 'day']] = df_cell_membrane_sum_grouped[['filename', 'day']]\n",
    "cal_tmp = df_mean_compiled.iloc[:, 2:].div(df_cyto['Volume3d_µm^3'], axis=0)\n",
    "df_mean_compiled_normalized = pd.concat([df_mean_compiled_normalized, cal_tmp], axis=1)\n",
    "df_mean_compiled_normalized\n",
    "'''"
   ]
  },
  {
   "cell_type": "code",
   "execution_count": 21,
   "metadata": {},
   "outputs": [
    {
     "data": {
      "text/plain": [
       "\"\\nfig, ax = plt.subplots(nrows=8, ncols=1, figsize=(5, 30))\\n\\nfor i in range(8):\\n    ax[i].bar(df_mean_compiled_normalized.index, \\n              df_mean_compiled_normalized.iloc[:, i +2], \\n              tick_label=['0', '0', '0', '7', '7', '7', '14', '17', '17', '21'])\\n    ax[i].set_title(df_mean_compiled_normalized.columns[i+2])\\n    ax[i].set_xlabel('Day')\\n    \\nfig.tight_layout(pad=3.0)\\nplt.show()\\n\""
      ]
     },
     "execution_count": 21,
     "metadata": {},
     "output_type": "execute_result"
    }
   ],
   "source": [
    "'''\n",
    "fig, ax = plt.subplots(nrows=8, ncols=1, figsize=(5, 30))\n",
    "\n",
    "for i in range(8):\n",
    "    ax[i].bar(df_mean_compiled_normalized.index, \n",
    "              df_mean_compiled_normalized.iloc[:, i +2], \n",
    "              tick_label=['0', '0', '0', '7', '7', '7', '14', '17', '17', '21'])\n",
    "    ax[i].set_title(df_mean_compiled_normalized.columns[i+2])\n",
    "    ax[i].set_xlabel('Day')\n",
    "    \n",
    "fig.tight_layout(pad=3.0)\n",
    "plt.show()\n",
    "'''"
   ]
  },
  {
   "cell_type": "markdown",
   "metadata": {},
   "source": [
    "### 02-06 Distribution"
   ]
  },
  {
   "cell_type": "code",
   "execution_count": 22,
   "metadata": {},
   "outputs": [
    {
     "name": "stdout",
     "output_type": "stream",
     "text": [
      "46.7896\n",
      "0.005008\n"
     ]
    },
    {
     "name": "stderr",
     "output_type": "stream",
     "text": [
      "C:\\Users\\wucci_admin\\Anaconda3\\envs\\tfdl02\\lib\\site-packages\\ipykernel_launcher.py:16: UserWarning: Attempted to set non-positive bottom ylim on a log-scaled axis.\n",
      "Invalid limit will be ignored.\n",
      "  app.launch_new_instance()\n"
     ]
    },
    {
     "data": {
      "image/png": "[encoded data removed]",
      "text/plain": [
       "<Figure size 1080x1080 with 6 Axes>"
      ]
     },
     "metadata": {
      "needs_background": "light"
     },
     "output_type": "display_data"
    }
   ],
   "source": [
    "# mito\n",
    "maxval = df_mito['Volume3d_µm^3'].max()\n",
    "minval = df_mito['Volume3d_µm^3'].min()\n",
    "print(maxval)\n",
    "print(minval)\n",
    "bins = np.linspace(minval + (maxval - minval)* 0, minval + (maxval - minval)* 1, num = 100)\n",
    "# bins = np.linspace(500000000, minval + (maxval - minval)* 1, num = 50)\n",
    "days = [0, 7, 14, 17, 21]\n",
    "\n",
    "fig, axes = plt.subplots(nrows=3, ncols=2, figsize=(15, 15))\n",
    "\n",
    "for i, day in enumerate(days):\n",
    "    df_tmp = df_mito.loc[df_mito['day'] == day, :]\n",
    "    axes[i%3, i//3].hist(df_tmp['Volume3d_µm^3'], bins= bins, log=True, density = True)\n",
    "    axes[i%3, i//3].set_xlim([0, maxval])\n",
    "    axes[i%3, i//3].set_ylim([0, 1])\n",
    "    axes[i%3, i//3].set_title('Day ' + str(day))\n",
    "plt.show()"
   ]
  },
  {
   "cell_type": "code",
   "execution_count": 23,
   "metadata": {},
   "outputs": [
    {
     "name": "stdout",
     "output_type": "stream",
     "text": [
      "1311.66\n",
      "0.0003004190000000001\n"
     ]
    },
    {
     "name": "stderr",
     "output_type": "stream",
     "text": [
      "C:\\Users\\wucci_admin\\Anaconda3\\envs\\tfdl02\\lib\\site-packages\\ipykernel_launcher.py:16: UserWarning: Attempted to set non-positive bottom ylim on a log-scaled axis.\n",
      "Invalid limit will be ignored.\n",
      "  app.launch_new_instance()\n"
     ]
    },
    {
     "data": {
      "image/png": "[encoded data removed]",
      "text/plain": [
       "<Figure size 1080x1080 with 6 Axes>"
      ]
     },
     "metadata": {
      "needs_background": "light"
     },
     "output_type": "display_data"
    }
   ],
   "source": [
    "# cristae\n",
    "maxval = df_cristae['Area3d_µm^2'].max()\n",
    "minval = df_cristae['Area3d_µm^2'].min()\n",
    "print(maxval)\n",
    "print(minval)\n",
    "bins = np.linspace(minval + (maxval - minval)* 0, minval + (maxval - minval)* 1, num = 100)\n",
    "# bins = np.linspace(500000000, minval + (maxval - minval)* 1, num = 50)\n",
    "days = [0, 7, 14, 17, 21]\n",
    "\n",
    "fig, axes = plt.subplots(nrows=3, ncols=2, figsize=(15, 15))\n",
    "\n",
    "for i, day in enumerate(days):\n",
    "    df_tmp = df_cristae.loc[df_cristae['day'] == day, :]\n",
    "    axes[i%3, i//3].hist(df_tmp['Area3d_µm^2'], bins= bins, log=True, density = True)\n",
    "    axes[i%3, i//3].set_xlim([0, maxval])\n",
    "    axes[i%3, i//3].set_ylim([0, 0.1])\n",
    "    axes[i%3, i//3].set_title('Day ' + str(day))\n",
    "plt.show()"
   ]
  },
  {
   "cell_type": "code",
   "execution_count": 46,
   "metadata": {},
   "outputs": [
    {
     "name": "stdout",
     "output_type": "stream",
     "text": [
      "86.4886\n",
      "1e-06\n"
     ]
    },
    {
     "name": "stderr",
     "output_type": "stream",
     "text": [
      "C:\\Users\\wucci_admin\\Anaconda3\\envs\\tfdl02\\lib\\site-packages\\ipykernel_launcher.py:17: UserWarning: Attempted to set non-positive bottom ylim on a log-scaled axis.\n",
      "Invalid limit will be ignored.\n"
     ]
    },
    {
     "data": {
      "image/png": "[encoded data removed]",
      "text/plain": [
       "<Figure size 1080x1080 with 6 Axes>"
      ]
     },
     "metadata": {
      "needs_background": "light"
     },
     "output_type": "display_data"
    }
   ],
   "source": [
    "# ER\n",
    "maxval = df_ER['Volume3d_µm^3'].max()\n",
    "minval = df_ER['Volume3d_µm^3'].min()\n",
    "print(maxval)\n",
    "print(minval)\n",
    "factor = 0.03\n",
    "\n",
    "bins = np.linspace(minval + (maxval - minval)* 0, minval + (maxval - minval)* factor, num = 100)\n",
    "days = [0, 7, 14, 17, 21]\n",
    "\n",
    "fig, axes = plt.subplots(nrows=3, ncols=2, figsize=(15, 15))\n",
    "\n",
    "for i, day in enumerate(days):\n",
    "    df_tmp = df_ER.loc[df_ER['day'] == day, :]\n",
    "    axes[i%3, i//3].hist(df_tmp['Volume3d_µm^3'], bins= bins, log=True, density = True)\n",
    "    axes[i%3, i//3].set_xlim([0, minval + (maxval - minval)* factor])\n",
    "    axes[i%3, i//3].set_ylim([0, 100])\n",
    "    axes[i%3, i//3].set_title('Day ' + str(day))\n",
    "plt.show()"
   ]
  },
  {
   "cell_type": "code",
   "execution_count": 47,
   "metadata": {},
   "outputs": [
    {
     "name": "stdout",
     "output_type": "stream",
     "text": [
      "261.036\n",
      "1e-06\n"
     ]
    },
    {
     "name": "stderr",
     "output_type": "stream",
     "text": [
      "C:\\Users\\wucci_admin\\Anaconda3\\envs\\tfdl02\\lib\\site-packages\\ipykernel_launcher.py:17: UserWarning: Attempted to set non-positive bottom ylim on a log-scaled axis.\n",
      "Invalid limit will be ignored.\n"
     ]
    },
    {
     "data": {
      "image/png": "[encoded data removed]",
      "text/plain": [
       "<Figure size 1080x1080 with 6 Axes>"
      ]
     },
     "metadata": {
      "needs_background": "light"
     },
     "output_type": "display_data"
    }
   ],
   "source": [
    "# inclusion\n",
    "maxval = df_inclusion['Volume3d_µm^3'].max()\n",
    "minval = df_inclusion['Volume3d_µm^3'].min()\n",
    "print(maxval)\n",
    "print(minval)\n",
    "factor = 1\n",
    "\n",
    "bins = np.linspace(minval + (maxval - minval)* 0, minval + (maxval - minval)* factor, num = 100)\n",
    "days = [0, 7, 14, 17, 21]\n",
    "\n",
    "fig, axes = plt.subplots(nrows=3, ncols=2, figsize=(15, 15))\n",
    "\n",
    "for i, day in enumerate(days):\n",
    "    df_tmp = df_inclusion.loc[df_inclusion['day'] == day, :]\n",
    "    axes[i%3, i//3].hist(df_tmp['Volume3d_µm^3'], bins= bins, log=True, density = True)\n",
    "    axes[i%3, i//3].set_xlim([0, minval + (maxval - minval)* factor])\n",
    "    axes[i%3, i//3].set_ylim([0, 1])\n",
    "    axes[i%3, i//3].set_title('Day ' + str(day))\n",
    "plt.show()"
   ]
  },
  {
   "cell_type": "markdown",
   "metadata": {},
   "source": [
    "# 03 Load Data from Auto Skeletonization of Mitocondria"
   ]
  },
  {
   "cell_type": "markdown",
   "metadata": {},
   "source": [
    "## 03-01"
   ]
  },
  {
   "cell_type": "code",
   "execution_count": 26,
   "metadata": {},
   "outputs": [
    {
     "name": "stdout",
     "output_type": "stream",
     "text": [
      "D:\\PerlmutterData\\segmentation_compiled_export\\data\n"
     ]
    }
   ],
   "source": [
    "mainpath = 'D:\\PerlmutterData'\n",
    "folder = 'segmentation_compiled_export'\n",
    "data_folder = 'data'\n",
    "\n",
    "path = os.path.join(mainpath, folder, data_folder)\n",
    "print(path)\n",
    "\n",
    "folders = ['skeleton_output']\n",
    "subcat = ['nodes', 'points', 'segments_s']"
   ]
  },
  {
   "cell_type": "code",
   "execution_count": 27,
   "metadata": {},
   "outputs": [
    {
     "name": "stdout",
     "output_type": "stream",
     "text": [
      "['cell_membrane', 'cristae', 'ER', 'inclusion', 'mito', 'nodes', 'nucleus', 'points', 'segments_s']\n"
     ]
    }
   ],
   "source": [
    "target_list = glob.glob(os.path.join(path, 'compile', '*.csv'))\n",
    "target_list = [os.path.basename(x) for x in target_list]\n",
    "target_list = [os.path.splitext(x)[0] for x in target_list]\n",
    "print(target_list)"
   ]
  },
  {
   "cell_type": "code",
   "execution_count": 28,
   "metadata": {},
   "outputs": [],
   "source": [
    "file_meta = {\n",
    "    'data_d00_batch01_loc01': 0,\n",
    "    'data_d00_batch02_loc02': 0,\n",
    "    'data_d00_batch02_loc03': 0,\n",
    "    'data_d07_batch01_loc01': 7, \n",
    "    'data_d07_batch02_loc01': 7,\n",
    "    'data_d07_batch02_loc02': 7, \n",
    "    'data_d14_batch01_loc01': 14, \n",
    "    'data_d17_batch01_loc01': 17,\n",
    "    'data_d21_batch01_loc01': 21,\n",
    "}"
   ]
  },
  {
   "cell_type": "code",
   "execution_count": 29,
   "metadata": {},
   "outputs": [],
   "source": [
    "for i in subcat:\n",
    "    file_list = glob.glob(os.path.join(path, 'raw', 'skeleton_output', '*', i + '.csv'))\n",
    "    # print(file_list)\n",
    "    \n",
    "    if not i in target_list:\n",
    "        df = pd.DataFrame()\n",
    "\n",
    "        for j in file_list:    \n",
    "            data_temp = pd.read_csv(j, header = 0)\n",
    "            \n",
    "            foldername_tmp = os.path.dirname(j)\n",
    "            foldername_tmp = os.path.basename(foldername_tmp)\n",
    "            \n",
    "            # add filename\n",
    "            data_temp['filename'] = foldername_tmp\n",
    "            \n",
    "            # add day\n",
    "            pattern = re.compile(\"data_d[0-9][0-9]_batch[0-9][0-9]_loc[0-9][0-9]\")\n",
    "            original_foldername = pattern.search(foldername_tmp).group(0)\n",
    "            day_tmp = file_meta[original_foldername]\n",
    "            \n",
    "            data_temp['day'] = day_tmp\n",
    "            \n",
    "            df = df.append(data_temp, ignore_index = True)\n",
    "            \n",
    "        display(df)\n",
    "        df.to_csv(os.path.join(path, 'compile', i + '.csv'))"
   ]
  },
  {
   "cell_type": "code",
   "execution_count": 30,
   "metadata": {},
   "outputs": [],
   "source": [
    "df_points = pd.read_csv(os.path.join(path, 'compile', 'points' + '.csv'))\n",
    "df_segments = pd.read_csv(os.path.join(path, 'compile', 'segments_s' + '.csv'))\n",
    "df_nodes = pd.read_csv(os.path.join(path, 'compile', 'nodes' + '.csv'))"
   ]
  },
  {
   "cell_type": "code",
   "execution_count": 31,
   "metadata": {},
   "outputs": [
    {
     "data": {
      "image/png": "[encoded data removed]",
      "text/plain": [
       "<Figure size 720x1080 with 5 Axes>"
      ]
     },
     "metadata": {
      "needs_background": "light"
     },
     "output_type": "display_data"
    }
   ],
   "source": [
    "# points\n",
    "maxval = df_points['thickness'].max()\n",
    "minval = df_points['thickness'].min()\n",
    "days = [0, 7, 14, 17, 21]\n",
    "bins = np.linspace(minval + (maxval - minval)* 0, minval + (maxval - minval)* 1, num = 20)\n",
    "\n",
    "nrows = 5\n",
    "ncols = 1\n",
    "fig, axes = plt.subplots(nrows=nrows, ncols=ncols, figsize=(10, 15))\n",
    "\n",
    "for i, day in enumerate(days):\n",
    "    df_tmp = df_points.loc[df_points['day'] == day, :]\n",
    "    axes[i%nrows].hist(df_tmp['thickness'], bins= bins, log=False, density = True)\n",
    "    axes[i%nrows].set_ylim([0, 0.008])\n",
    "    axes[i%nrows].set_title('Day ' + str(day))\n",
    "plt.show()"
   ]
  },
  {
   "cell_type": "code",
   "execution_count": 32,
   "metadata": {},
   "outputs": [
    {
     "data": {
      "image/png": "[encoded data removed]",
      "text/plain": [
       "<Figure size 720x1080 with 5 Axes>"
      ]
     },
     "metadata": {
      "needs_background": "light"
     },
     "output_type": "display_data"
    }
   ],
   "source": [
    "# segments\n",
    "maxval = df_segments['thickness'].max()\n",
    "minval = df_segments['thickness'].min()\n",
    "days = [0, 7, 14, 17, 21]\n",
    "bins = np.linspace(minval + (maxval - minval)* 0, minval + (maxval - minval)* 1, num = 20)\n",
    "\n",
    "nrows = 5\n",
    "ncols = 1\n",
    "fig, axes = plt.subplots(nrows=nrows, ncols=ncols, figsize=(10, 15))\n",
    "\n",
    "for i, day in enumerate(days):\n",
    "    df_tmp = df_segments.loc[df_segments['day'] == day, :]\n",
    "    axes[i%nrows].hist(df_tmp['thickness'], bins= bins, log=False, density = True)\n",
    "    axes[i%nrows].set_ylim([0, 0.008])\n",
    "    axes[i%nrows].set_title('Day ' + str(day))\n",
    "plt.show()"
   ]
  },
  {
   "cell_type": "code",
   "execution_count": 33,
   "metadata": {},
   "outputs": [
    {
     "data": {
      "text/html": [
       "<div>\n",
       "<style scoped>\n",
       "    .dataframe tbody tr th:only-of-type {\n",
       "        vertical-align: middle;\n",
       "    }\n",
       "\n",
       "    .dataframe tbody tr th {\n",
       "        vertical-align: top;\n",
       "    }\n",
       "\n",
       "    .dataframe thead th {\n",
       "        text-align: right;\n",
       "    }\n",
       "</style>\n",
       "<table border=\"1\" class=\"dataframe\">\n",
       "  <thead>\n",
       "    <tr style=\"text-align: right;\">\n",
       "      <th></th>\n",
       "      <th>day</th>\n",
       "      <th>filename</th>\n",
       "      <th>Coordination Number</th>\n",
       "      <th>Unnamed: 0</th>\n",
       "      <th>Node ID</th>\n",
       "      <th>X Coord</th>\n",
       "      <th>Y Coord</th>\n",
       "      <th>Z Coord</th>\n",
       "    </tr>\n",
       "  </thead>\n",
       "  <tbody>\n",
       "    <tr>\n",
       "      <th>0</th>\n",
       "      <td>0</td>\n",
       "      <td>data_d00_batch01_loc01_mito</td>\n",
       "      <td>1</td>\n",
       "      <td>452</td>\n",
       "      <td>452</td>\n",
       "      <td>452</td>\n",
       "      <td>452</td>\n",
       "      <td>452</td>\n",
       "    </tr>\n",
       "    <tr>\n",
       "      <th>1</th>\n",
       "      <td>0</td>\n",
       "      <td>data_d00_batch01_loc01_mito</td>\n",
       "      <td>3</td>\n",
       "      <td>601</td>\n",
       "      <td>601</td>\n",
       "      <td>601</td>\n",
       "      <td>601</td>\n",
       "      <td>601</td>\n",
       "    </tr>\n",
       "    <tr>\n",
       "      <th>2</th>\n",
       "      <td>0</td>\n",
       "      <td>data_d00_batch01_loc01_mito</td>\n",
       "      <td>4</td>\n",
       "      <td>111</td>\n",
       "      <td>111</td>\n",
       "      <td>111</td>\n",
       "      <td>111</td>\n",
       "      <td>111</td>\n",
       "    </tr>\n",
       "    <tr>\n",
       "      <th>3</th>\n",
       "      <td>0</td>\n",
       "      <td>data_d00_batch01_loc01_mito</td>\n",
       "      <td>5</td>\n",
       "      <td>20</td>\n",
       "      <td>20</td>\n",
       "      <td>20</td>\n",
       "      <td>20</td>\n",
       "      <td>20</td>\n",
       "    </tr>\n",
       "    <tr>\n",
       "      <th>4</th>\n",
       "      <td>0</td>\n",
       "      <td>data_d00_batch01_loc01_mito</td>\n",
       "      <td>6</td>\n",
       "      <td>13</td>\n",
       "      <td>13</td>\n",
       "      <td>13</td>\n",
       "      <td>13</td>\n",
       "      <td>13</td>\n",
       "    </tr>\n",
       "    <tr>\n",
       "      <th>...</th>\n",
       "      <td>...</td>\n",
       "      <td>...</td>\n",
       "      <td>...</td>\n",
       "      <td>...</td>\n",
       "      <td>...</td>\n",
       "      <td>...</td>\n",
       "      <td>...</td>\n",
       "      <td>...</td>\n",
       "    </tr>\n",
       "    <tr>\n",
       "      <th>63</th>\n",
       "      <td>21</td>\n",
       "      <td>data_d21_batch01_loc01_mito</td>\n",
       "      <td>3</td>\n",
       "      <td>243</td>\n",
       "      <td>243</td>\n",
       "      <td>243</td>\n",
       "      <td>243</td>\n",
       "      <td>243</td>\n",
       "    </tr>\n",
       "    <tr>\n",
       "      <th>64</th>\n",
       "      <td>21</td>\n",
       "      <td>data_d21_batch01_loc01_mito</td>\n",
       "      <td>4</td>\n",
       "      <td>35</td>\n",
       "      <td>35</td>\n",
       "      <td>35</td>\n",
       "      <td>35</td>\n",
       "      <td>35</td>\n",
       "    </tr>\n",
       "    <tr>\n",
       "      <th>65</th>\n",
       "      <td>21</td>\n",
       "      <td>data_d21_batch01_loc01_mito</td>\n",
       "      <td>5</td>\n",
       "      <td>6</td>\n",
       "      <td>6</td>\n",
       "      <td>6</td>\n",
       "      <td>6</td>\n",
       "      <td>6</td>\n",
       "    </tr>\n",
       "    <tr>\n",
       "      <th>66</th>\n",
       "      <td>21</td>\n",
       "      <td>data_d21_batch01_loc01_mito</td>\n",
       "      <td>6</td>\n",
       "      <td>5</td>\n",
       "      <td>5</td>\n",
       "      <td>5</td>\n",
       "      <td>5</td>\n",
       "      <td>5</td>\n",
       "    </tr>\n",
       "    <tr>\n",
       "      <th>67</th>\n",
       "      <td>21</td>\n",
       "      <td>data_d21_batch01_loc01_mito</td>\n",
       "      <td>9</td>\n",
       "      <td>1</td>\n",
       "      <td>1</td>\n",
       "      <td>1</td>\n",
       "      <td>1</td>\n",
       "      <td>1</td>\n",
       "    </tr>\n",
       "  </tbody>\n",
       "</table>\n",
       "<p>68 rows × 8 columns</p>\n",
       "</div>"
      ],
      "text/plain": [
       "    day                     filename  Coordination Number  Unnamed: 0  \\\n",
       "0     0  data_d00_batch01_loc01_mito                    1         452   \n",
       "1     0  data_d00_batch01_loc01_mito                    3         601   \n",
       "2     0  data_d00_batch01_loc01_mito                    4         111   \n",
       "3     0  data_d00_batch01_loc01_mito                    5          20   \n",
       "4     0  data_d00_batch01_loc01_mito                    6          13   \n",
       "..  ...                          ...                  ...         ...   \n",
       "63   21  data_d21_batch01_loc01_mito                    3         243   \n",
       "64   21  data_d21_batch01_loc01_mito                    4          35   \n",
       "65   21  data_d21_batch01_loc01_mito                    5           6   \n",
       "66   21  data_d21_batch01_loc01_mito                    6           5   \n",
       "67   21  data_d21_batch01_loc01_mito                    9           1   \n",
       "\n",
       "    Node ID  X Coord  Y Coord  Z Coord  \n",
       "0       452      452      452      452  \n",
       "1       601      601      601      601  \n",
       "2       111      111      111      111  \n",
       "3        20       20       20       20  \n",
       "4        13       13       13       13  \n",
       "..      ...      ...      ...      ...  \n",
       "63      243      243      243      243  \n",
       "64       35       35       35       35  \n",
       "65        6        6        6        6  \n",
       "66        5        5        5        5  \n",
       "67        1        1        1        1  \n",
       "\n",
       "[68 rows x 8 columns]"
      ]
     },
     "execution_count": 33,
     "metadata": {},
     "output_type": "execute_result"
    }
   ],
   "source": [
    "df_segments_count_grouped = df_nodes.groupby(['day', 'filename', 'Coordination Number']).count().reset_index()\n",
    "df_segments_count_grouped"
   ]
  },
  {
   "cell_type": "code",
   "execution_count": 34,
   "metadata": {},
   "outputs": [
    {
     "name": "stdout",
     "output_type": "stream",
     "text": [
      "['data_d00_batch01_loc01_mito' 'data_d00_batch02_loc02_mito'\n",
      " 'data_d00_batch02_loc03_mito' 'data_d07_batch01_loc01_mito'\n",
      " 'data_d07_batch02_loc01_mito' 'data_d07_batch02_loc02_mito'\n",
      " 'data_d14_batch01_loc01_mito' 'data_d17_batch01_loc01_01_mito'\n",
      " 'data_d17_batch01_loc01_02_mito' 'data_d21_batch01_loc01_mito']\n"
     ]
    }
   ],
   "source": [
    "filename = df_segments_count_grouped['filename'].unique()\n",
    "print(filename)"
   ]
  },
  {
   "cell_type": "code",
   "execution_count": 35,
   "metadata": {},
   "outputs": [
    {
     "data": {
      "image/png": "[encoded data removed]",
      "text/plain": [
       "<Figure size 1080x1080 with 6 Axes>"
      ]
     },
     "metadata": {
      "needs_background": "light"
     },
     "output_type": "display_data"
    }
   ],
   "source": [
    "fig, axes = plt.subplots(nrows=3, ncols=2, figsize=(15, 15))\n",
    "\n",
    "days = [0, 7, 14, 17, 21]\n",
    "\n",
    "for i, day in enumerate(days):\n",
    "    df_tmp = df_segments_count_grouped.loc[df_segments_count_grouped['day'] == day]\n",
    "    \n",
    "    x = df_tmp['Coordination Number']\n",
    "    y = df_tmp['Node ID']\n",
    "    x_pos = [str(i) for i in x]\n",
    "    \n",
    "    axes[i%3, i//3].bar(x_pos, y)\n",
    "    axes[i%3, i//3].set_title('Day ' + str(day))\n",
    "plt.show()"
   ]
  },
  {
   "cell_type": "markdown",
   "metadata": {},
   "source": [
    "# 04 ER Inference"
   ]
  },
  {
   "cell_type": "code",
   "execution_count": 36,
   "metadata": {},
   "outputs": [
    {
     "data": {
      "text/html": [
       "<div>\n",
       "<style scoped>\n",
       "    .dataframe tbody tr th:only-of-type {\n",
       "        vertical-align: middle;\n",
       "    }\n",
       "\n",
       "    .dataframe tbody tr th {\n",
       "        vertical-align: top;\n",
       "    }\n",
       "\n",
       "    .dataframe thead th {\n",
       "        text-align: right;\n",
       "    }\n",
       "</style>\n",
       "<table border=\"1\" class=\"dataframe\">\n",
       "  <thead>\n",
       "    <tr style=\"text-align: right;\">\n",
       "      <th></th>\n",
       "      <th>day</th>\n",
       "      <th>filename</th>\n",
       "      <th>Unnamed: 0</th>\n",
       "      <th>Volume3d</th>\n",
       "      <th>Area3d</th>\n",
       "      <th>BaryCenterX</th>\n",
       "      <th>BaryCenterY</th>\n",
       "      <th>BaryCenterZ</th>\n",
       "      <th>Mean</th>\n",
       "      <th>index</th>\n",
       "      <th>Volume3d_µm^3</th>\n",
       "      <th>Area3d_µm^2</th>\n",
       "    </tr>\n",
       "  </thead>\n",
       "  <tbody>\n",
       "    <tr>\n",
       "      <th>0</th>\n",
       "      <td>0</td>\n",
       "      <td>data_d00_batch01_loc01_ER.csv</td>\n",
       "      <td>2521.5</td>\n",
       "      <td>8.054682e+06</td>\n",
       "      <td>346682.999921</td>\n",
       "      <td>14347.676119</td>\n",
       "      <td>1871.367496</td>\n",
       "      <td>10703.924879</td>\n",
       "      <td>1.0</td>\n",
       "      <td>2522.5</td>\n",
       "      <td>0.008055</td>\n",
       "      <td>0.346683</td>\n",
       "    </tr>\n",
       "    <tr>\n",
       "      <th>1</th>\n",
       "      <td>0</td>\n",
       "      <td>data_d00_batch02_loc02_ER.csv</td>\n",
       "      <td>6911.0</td>\n",
       "      <td>5.119046e+06</td>\n",
       "      <td>197892.450889</td>\n",
       "      <td>10626.098799</td>\n",
       "      <td>3125.518585</td>\n",
       "      <td>7911.309465</td>\n",
       "      <td>1.0</td>\n",
       "      <td>1868.0</td>\n",
       "      <td>0.005119</td>\n",
       "      <td>0.197892</td>\n",
       "    </tr>\n",
       "    <tr>\n",
       "      <th>2</th>\n",
       "      <td>0</td>\n",
       "      <td>data_d00_batch02_loc03_ER.csv</td>\n",
       "      <td>10288.0</td>\n",
       "      <td>7.922718e+06</td>\n",
       "      <td>332774.530424</td>\n",
       "      <td>10757.591985</td>\n",
       "      <td>2030.938104</td>\n",
       "      <td>6227.620324</td>\n",
       "      <td>1.0</td>\n",
       "      <td>1510.0</td>\n",
       "      <td>0.007923</td>\n",
       "      <td>0.332775</td>\n",
       "    </tr>\n",
       "    <tr>\n",
       "      <th>3</th>\n",
       "      <td>7</td>\n",
       "      <td>data_d07_batch01_loc01_ER.csv</td>\n",
       "      <td>12478.0</td>\n",
       "      <td>1.004320e+07</td>\n",
       "      <td>366744.449270</td>\n",
       "      <td>15506.612498</td>\n",
       "      <td>2411.354219</td>\n",
       "      <td>4962.483950</td>\n",
       "      <td>1.0</td>\n",
       "      <td>681.0</td>\n",
       "      <td>0.010043</td>\n",
       "      <td>0.366744</td>\n",
       "    </tr>\n",
       "    <tr>\n",
       "      <th>4</th>\n",
       "      <td>7</td>\n",
       "      <td>data_d07_batch02_loc01_ER.csv</td>\n",
       "      <td>14288.5</td>\n",
       "      <td>2.044425e+07</td>\n",
       "      <td>687476.856261</td>\n",
       "      <td>9643.519023</td>\n",
       "      <td>2577.130951</td>\n",
       "      <td>6763.751836</td>\n",
       "      <td>1.0</td>\n",
       "      <td>1130.5</td>\n",
       "      <td>0.020444</td>\n",
       "      <td>0.687477</td>\n",
       "    </tr>\n",
       "    <tr>\n",
       "      <th>5</th>\n",
       "      <td>7</td>\n",
       "      <td>data_d07_batch02_loc02_ER.csv</td>\n",
       "      <td>17094.0</td>\n",
       "      <td>9.552707e+06</td>\n",
       "      <td>359912.763357</td>\n",
       "      <td>10127.047733</td>\n",
       "      <td>2035.010020</td>\n",
       "      <td>5934.590479</td>\n",
       "      <td>1.0</td>\n",
       "      <td>1676.0</td>\n",
       "      <td>0.009553</td>\n",
       "      <td>0.359913</td>\n",
       "    </tr>\n",
       "    <tr>\n",
       "      <th>6</th>\n",
       "      <td>14</td>\n",
       "      <td>data_d14_batch01_loc01_ER.csv</td>\n",
       "      <td>22459.5</td>\n",
       "      <td>1.952485e+07</td>\n",
       "      <td>729028.008832</td>\n",
       "      <td>12391.421489</td>\n",
       "      <td>3927.648782</td>\n",
       "      <td>10459.067475</td>\n",
       "      <td>1.0</td>\n",
       "      <td>3690.5</td>\n",
       "      <td>0.019525</td>\n",
       "      <td>0.729028</td>\n",
       "    </tr>\n",
       "    <tr>\n",
       "      <th>7</th>\n",
       "      <td>17</td>\n",
       "      <td>data_d17_batch01_loc01_01_ER.csv</td>\n",
       "      <td>27223.5</td>\n",
       "      <td>2.238514e+07</td>\n",
       "      <td>826295.307774</td>\n",
       "      <td>9011.935552</td>\n",
       "      <td>2292.567413</td>\n",
       "      <td>4709.401176</td>\n",
       "      <td>1.0</td>\n",
       "      <td>1074.5</td>\n",
       "      <td>0.022385</td>\n",
       "      <td>0.826295</td>\n",
       "    </tr>\n",
       "    <tr>\n",
       "      <th>8</th>\n",
       "      <td>17</td>\n",
       "      <td>data_d17_batch01_loc01_02_ER.csv</td>\n",
       "      <td>28986.5</td>\n",
       "      <td>1.007039e+07</td>\n",
       "      <td>411005.416451</td>\n",
       "      <td>15858.410467</td>\n",
       "      <td>2269.463240</td>\n",
       "      <td>16016.600348</td>\n",
       "      <td>1.0</td>\n",
       "      <td>689.5</td>\n",
       "      <td>0.010070</td>\n",
       "      <td>0.411005</td>\n",
       "    </tr>\n",
       "    <tr>\n",
       "      <th>9</th>\n",
       "      <td>21</td>\n",
       "      <td>data_d21_batch01_loc01_ER.csv</td>\n",
       "      <td>31367.5</td>\n",
       "      <td>1.241037e+07</td>\n",
       "      <td>462938.576389</td>\n",
       "      <td>11160.661897</td>\n",
       "      <td>2101.740460</td>\n",
       "      <td>9698.789277</td>\n",
       "      <td>1.0</td>\n",
       "      <td>1692.5</td>\n",
       "      <td>0.012410</td>\n",
       "      <td>0.462939</td>\n",
       "    </tr>\n",
       "  </tbody>\n",
       "</table>\n",
       "</div>"
      ],
      "text/plain": [
       "   day                          filename  Unnamed: 0      Volume3d  \\\n",
       "0    0     data_d00_batch01_loc01_ER.csv      2521.5  8.054682e+06   \n",
       "1    0     data_d00_batch02_loc02_ER.csv      6911.0  5.119046e+06   \n",
       "2    0     data_d00_batch02_loc03_ER.csv     10288.0  7.922718e+06   \n",
       "3    7     data_d07_batch01_loc01_ER.csv     12478.0  1.004320e+07   \n",
       "4    7     data_d07_batch02_loc01_ER.csv     14288.5  2.044425e+07   \n",
       "5    7     data_d07_batch02_loc02_ER.csv     17094.0  9.552707e+06   \n",
       "6   14     data_d14_batch01_loc01_ER.csv     22459.5  1.952485e+07   \n",
       "7   17  data_d17_batch01_loc01_01_ER.csv     27223.5  2.238514e+07   \n",
       "8   17  data_d17_batch01_loc01_02_ER.csv     28986.5  1.007039e+07   \n",
       "9   21     data_d21_batch01_loc01_ER.csv     31367.5  1.241037e+07   \n",
       "\n",
       "          Area3d   BaryCenterX  BaryCenterY   BaryCenterZ  Mean   index  \\\n",
       "0  346682.999921  14347.676119  1871.367496  10703.924879   1.0  2522.5   \n",
       "1  197892.450889  10626.098799  3125.518585   7911.309465   1.0  1868.0   \n",
       "2  332774.530424  10757.591985  2030.938104   6227.620324   1.0  1510.0   \n",
       "3  366744.449270  15506.612498  2411.354219   4962.483950   1.0   681.0   \n",
       "4  687476.856261   9643.519023  2577.130951   6763.751836   1.0  1130.5   \n",
       "5  359912.763357  10127.047733  2035.010020   5934.590479   1.0  1676.0   \n",
       "6  729028.008832  12391.421489  3927.648782  10459.067475   1.0  3690.5   \n",
       "7  826295.307774   9011.935552  2292.567413   4709.401176   1.0  1074.5   \n",
       "8  411005.416451  15858.410467  2269.463240  16016.600348   1.0   689.5   \n",
       "9  462938.576389  11160.661897  2101.740460   9698.789277   1.0  1692.5   \n",
       "\n",
       "   Volume3d_µm^3  Area3d_µm^2  \n",
       "0       0.008055     0.346683  \n",
       "1       0.005119     0.197892  \n",
       "2       0.007923     0.332775  \n",
       "3       0.010043     0.366744  \n",
       "4       0.020444     0.687477  \n",
       "5       0.009553     0.359913  \n",
       "6       0.019525     0.729028  \n",
       "7       0.022385     0.826295  \n",
       "8       0.010070     0.411005  \n",
       "9       0.012410     0.462939  "
      ]
     },
     "execution_count": 36,
     "metadata": {},
     "output_type": "execute_result"
    }
   ],
   "source": [
    "df_ER_mean_grouped"
   ]
  },
  {
   "cell_type": "code",
   "execution_count": 37,
   "metadata": {},
   "outputs": [
    {
     "data": {
      "text/html": [
       "<div>\n",
       "<style scoped>\n",
       "    .dataframe tbody tr th:only-of-type {\n",
       "        vertical-align: middle;\n",
       "    }\n",
       "\n",
       "    .dataframe tbody tr th {\n",
       "        vertical-align: top;\n",
       "    }\n",
       "\n",
       "    .dataframe thead th {\n",
       "        text-align: right;\n",
       "    }\n",
       "</style>\n",
       "<table border=\"1\" class=\"dataframe\">\n",
       "  <thead>\n",
       "    <tr style=\"text-align: right;\">\n",
       "      <th></th>\n",
       "      <th>day</th>\n",
       "      <th>Volume3d_µm^3</th>\n",
       "    </tr>\n",
       "  </thead>\n",
       "  <tbody>\n",
       "    <tr>\n",
       "      <th>0</th>\n",
       "      <td>0</td>\n",
       "      <td>0.007032</td>\n",
       "    </tr>\n",
       "    <tr>\n",
       "      <th>1</th>\n",
       "      <td>7</td>\n",
       "      <td>0.013347</td>\n",
       "    </tr>\n",
       "    <tr>\n",
       "      <th>2</th>\n",
       "      <td>14</td>\n",
       "      <td>0.019525</td>\n",
       "    </tr>\n",
       "    <tr>\n",
       "      <th>3</th>\n",
       "      <td>17</td>\n",
       "      <td>0.016228</td>\n",
       "    </tr>\n",
       "    <tr>\n",
       "      <th>4</th>\n",
       "      <td>21</td>\n",
       "      <td>0.012410</td>\n",
       "    </tr>\n",
       "  </tbody>\n",
       "</table>\n",
       "</div>"
      ],
      "text/plain": [
       "   day  Volume3d_µm^3\n",
       "0    0       0.007032\n",
       "1    7       0.013347\n",
       "2   14       0.019525\n",
       "3   17       0.016228\n",
       "4   21       0.012410"
      ]
     },
     "execution_count": 37,
     "metadata": {},
     "output_type": "execute_result"
    }
   ],
   "source": [
    "ER_mean = df_ER_mean_grouped[['day', 'Volume3d_µm^3']].groupby(['day']).mean().reset_index()\n",
    "ER_mean"
   ]
  },
  {
   "cell_type": "code",
   "execution_count": 38,
   "metadata": {},
   "outputs": [
    {
     "data": {
      "text/html": [
       "<div>\n",
       "<style scoped>\n",
       "    .dataframe tbody tr th:only-of-type {\n",
       "        vertical-align: middle;\n",
       "    }\n",
       "\n",
       "    .dataframe tbody tr th {\n",
       "        vertical-align: top;\n",
       "    }\n",
       "\n",
       "    .dataframe thead th {\n",
       "        text-align: right;\n",
       "    }\n",
       "</style>\n",
       "<table border=\"1\" class=\"dataframe\">\n",
       "  <thead>\n",
       "    <tr style=\"text-align: right;\">\n",
       "      <th></th>\n",
       "      <th>day</th>\n",
       "      <th>Volume3d_µm^3</th>\n",
       "    </tr>\n",
       "  </thead>\n",
       "  <tbody>\n",
       "    <tr>\n",
       "      <th>0</th>\n",
       "      <td>0</td>\n",
       "      <td>0.000957</td>\n",
       "    </tr>\n",
       "    <tr>\n",
       "      <th>1</th>\n",
       "      <td>7</td>\n",
       "      <td>0.003552</td>\n",
       "    </tr>\n",
       "    <tr>\n",
       "      <th>2</th>\n",
       "      <td>14</td>\n",
       "      <td>NaN</td>\n",
       "    </tr>\n",
       "    <tr>\n",
       "      <th>3</th>\n",
       "      <td>17</td>\n",
       "      <td>0.006157</td>\n",
       "    </tr>\n",
       "    <tr>\n",
       "      <th>4</th>\n",
       "      <td>21</td>\n",
       "      <td>NaN</td>\n",
       "    </tr>\n",
       "  </tbody>\n",
       "</table>\n",
       "</div>"
      ],
      "text/plain": [
       "   day  Volume3d_µm^3\n",
       "0    0       0.000957\n",
       "1    7       0.003552\n",
       "2   14            NaN\n",
       "3   17       0.006157\n",
       "4   21            NaN"
      ]
     },
     "execution_count": 38,
     "metadata": {},
     "output_type": "execute_result"
    }
   ],
   "source": [
    "ER_sem = df_ER_mean_grouped[['day', 'Volume3d_µm^3']].groupby(['day']).sem().reset_index()\n",
    "ER_sem"
   ]
  },
  {
   "cell_type": "code",
   "execution_count": 39,
   "metadata": {},
   "outputs": [],
   "source": [
    "from scipy import stats\n",
    "day0 = df_ER_mean_grouped.loc[df_ER_mean_grouped['day']== 0,'Volume3d_µm^3']\n",
    "day7 = df_ER_mean_grouped.loc[df_ER_mean_grouped['day']== 7,'Volume3d_µm^3']"
   ]
  },
  {
   "cell_type": "code",
   "execution_count": 40,
   "metadata": {},
   "outputs": [
    {
     "data": {
      "text/plain": [
       "Ttest_indResult(statistic=-1.7166867811684914, pvalue=0.16117388812279004)"
      ]
     },
     "execution_count": 40,
     "metadata": {},
     "output_type": "execute_result"
    }
   ],
   "source": [
    "stats.ttest_ind(day0, day7)"
   ]
  },
  {
   "cell_type": "code",
   "execution_count": null,
   "metadata": {},
   "outputs": [],
   "source": []
  },
  {
   "cell_type": "code",
   "execution_count": 41,
   "metadata": {},
   "outputs": [
    {
     "data": {
      "text/plain": [
       "Ttest_indResult(statistic=0.16301818701915188, pvalue=0.8784085768208135)"
      ]
     },
     "execution_count": 41,
     "metadata": {},
     "output_type": "execute_result"
    }
   ],
   "source": [
    "day0 = df_mean_compiled.loc[df_mean_compiled['day']== 0,'inclusion_Volume3d_µm^3']\n",
    "day7 = df_mean_compiled.loc[df_mean_compiled['day']== 7,'inclusion_Volume3d_µm^3']\n",
    "stats.ttest_ind(day0, day7)"
   ]
  },
  {
   "cell_type": "code",
   "execution_count": null,
   "metadata": {},
   "outputs": [],
   "source": []
  }
 ],
 "metadata": {
  "kernelspec": {
   "display_name": "Python 3",
   "language": "python",
   "name": "python3"
  },
  "language_info": {
   "codemirror_mode": {
    "name": "ipython",
    "version": 3
   },
   "file_extension": ".py",
   "mimetype": "text/x-python",
   "name": "python",
   "nbconvert_exporter": "python",
   "pygments_lexer": "ipython3",
   "version": "3.6.9"
  }
 },
 "nbformat": 4,
 "nbformat_minor": 2
}
