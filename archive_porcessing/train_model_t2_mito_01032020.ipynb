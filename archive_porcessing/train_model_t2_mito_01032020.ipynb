{
 "cells": [
  {
   "cell_type": "markdown",
   "metadata": {},
   "source": [
    " # Training Model\n",
    " Keras on Tensorflow\n"
   ]
  },
  {
   "cell_type": "code",
   "execution_count": 1,
   "metadata": {},
   "outputs": [],
   "source": [
    "import os, sys\n",
    "import cv2\n",
    "import numpy as np\n",
    "import uuid\n",
    "import tensorflow as tf\n",
    "from skimage.io import imread, imsave, imshow\n",
    "from PIL import Image, ImageTk\n",
    "import matplotlib.pyplot as plt\n",
    "from imutils import paths\n",
    "import itertools\n",
    "import json\n",
    "from pprint import pprint\n",
    "\n",
    "from tensorflow.keras.preprocessing.image import ImageDataGenerator\n",
    "from core.imageprep import dir_checker, random_crop, crop_generator, random_crop_batch\n",
    "from core.models import UNet\n",
    "from core.metrics import iou_coef, dice_coef\n",
    "\n",
    "from tensorflow.python.keras.callbacks import ModelCheckpoint, TensorBoard, EarlyStopping, ReduceLROnPlateau\n",
    "from datetime import datetime\n",
    "\n",
    "from IPython import get_ipython\n",
    "# %load_ext autoreload\n",
    "get_ipython().run_line_magic('load_ext', 'autoreload')\n",
    "# %autoreload 2\n",
    "get_ipython().run_line_magic('autoreload', '2')\n",
    "# %load_ext tensorboard\n",
    "get_ipython().run_line_magic('load_ext', 'tensorboard')"
   ]
  },
  {
   "cell_type": "code",
   "execution_count": 2,
   "metadata": {},
   "outputs": [
    {
     "name": "stdout",
     "output_type": "stream",
     "text": [
      "TensorFlow version:  2.0.0\n"
     ]
    }
   ],
   "source": [
    "from packaging import version\n",
    "print(\"TensorFlow version: \", tf.__version__)\n",
    "assert version.parse(tf.__version__).release[0] >= 2, \\\n",
    "    \"This notebook requires TensorFlow 2.0 or above.\""
   ]
  },
  {
   "cell_type": "code",
   "execution_count": 3,
   "metadata": {},
   "outputs": [
    {
     "data": {
      "text/plain": [
       "'C:\\\\Users\\\\wucci_admin\\\\Anaconda3\\\\envs\\\\tfdl02\\\\python.exe'"
      ]
     },
     "execution_count": 3,
     "metadata": {},
     "output_type": "execute_result"
    }
   ],
   "source": [
    "sys.executable"
   ]
  },
  {
   "cell_type": "markdown",
   "metadata": {},
   "source": [
    " ## Load Training Dataset"
   ]
  },
  {
   "cell_type": "code",
   "execution_count": 4,
   "metadata": {},
   "outputs": [
    {
     "name": "stdout",
     "output_type": "stream",
     "text": [
      "Load Images...\n",
      "D:PerlmutterData\\dl_seg_project_raw\\data_crop\\2020_01_03_14_12_5x\n",
      "D:PerlmutterData\\dl_seg_project_raw\\data_crop\\2020_01_03_14_12_5x\\images\n",
      "D:PerlmutterData\\dl_seg_project_raw\\data_crop\\2020_01_03_14_12_5x\\labels\n",
      "logs exists in D:PerlmutterData\n",
      "fit exists in D:PerlmutterData\\logs\n",
      "model exists in D:PerlmutterData\\logs\n",
      "pars exists in D:PerlmutterData\\logs\n"
     ]
    }
   ],
   "source": [
    "# load image\n",
    "print(\"Load Images...\")\n",
    "# on mac\n",
    "# path = \"/Volumes/LaCie_DataStorage/PerlmutterData/\"\n",
    "\n",
    "# on Window PC \n",
    "path = os.path.join('D:', 'PerlmutterData')\n",
    "\n",
    "# input set\n",
    "# crop_input_set = '2019_12_06_17_06'\n",
    "# crop_input_set = '2019_12_10_15_33_5x' # small training set\n",
    "crop_input_set = '2020_01_03_14_12_5x'\n",
    "\n",
    "imginput = os.path.join('dl_seg_project_raw', 'data_crop', crop_input_set,)\n",
    "imgpath = os.path.join(path, imginput)\n",
    "\n",
    "print(imgpath)\n",
    "\n",
    "img_dir = os.path.join(imgpath, 'images')\n",
    "label_dir = os.path.join(imgpath, 'labels')\n",
    "print(img_dir)\n",
    "print(label_dir)\n",
    "\n",
    "# check if the output folder exist. If not, create a folder\n",
    "dir_checker('logs', path)\n",
    "path_logs = os.path.join(path, 'logs')\n",
    "dir_checker('fit', path_logs)\n",
    "dir_checker('model', path_logs)\n",
    "dir_checker('pars', path_logs)"
   ]
  },
  {
   "cell_type": "markdown",
   "metadata": {},
   "source": [
    " Print the first file name."
   ]
  },
  {
   "cell_type": "code",
   "execution_count": 5,
   "metadata": {},
   "outputs": [
    {
     "name": "stdout",
     "output_type": "stream",
     "text": [
      "D:PerlmutterData\\dl_seg_project_raw\\data_crop\\2020_01_03_14_12_5x\\images\\autophagosome\\0001.tif\n"
     ]
    }
   ],
   "source": [
    "imgpath_all = list(paths.list_images(imgpath))\n",
    "print(imgpath_all[0])"
   ]
  },
  {
   "cell_type": "markdown",
   "metadata": {},
   "source": [
    " ## Create Image Datagenerator\n",
    " 1. create only one datagen\n",
    " 2. specify valiation split in datagen argument\n",
    " 3. add split data when calling `datagen.flow_from_directory`"
   ]
  },
  {
   "cell_type": "code",
   "execution_count": 6,
   "metadata": {},
   "outputs": [],
   "source": [
    "timestamp = datetime.now().strftime(\"%Y_%m_%d_%H_%M\")\n",
    "date =  datetime.now().strftime(\"%Y_%m_%d\")\n",
    "seed = 100\n",
    "batch_size = 16\n",
    "epoch = 500\n",
    "validation_steps = 20\n",
    "validation_split = 0.1\n",
    "training_sample_size = len(imgpath_all)\n",
    "IMG_HEIGHT = None\n",
    "IMG_WIDTH = None\n",
    "classes = ['cell_membrane', 'nucleus', 'autophagosome', 'mitochondria']\n",
    "inputclass = [classes[3]]\n",
    "learning_rate = 1e-5\n",
    "loss = \"binary_crossentropy\"\n",
    "metrics = ['accuracy', iou_coef, dice_coef]\n",
    "\n",
    "metrics_name = []\n",
    "for f in metrics:\n",
    "    if callable(f):\n",
    "        metrics_name.append(f.__name__)\n",
    "    else:\n",
    "        metrics_name.append(f)"
   ]
  },
  {
   "cell_type": "code",
   "execution_count": 7,
   "metadata": {},
   "outputs": [
    {
     "name": "stdout",
     "output_type": "stream",
     "text": [
      "mitochondria exists in D:PerlmutterData\\logs\\pars\n",
      "2020_01_06 does not exist in D:PerlmutterData\\logs\\pars\\mitochondria\n",
      "{'IMG_HEIGHT': None,\n",
      " 'IMG_WIDTH': None,\n",
      " 'batch_size': 16,\n",
      " 'classes': ['cell_membrane', 'nucleus', 'autophagosome', 'mitochondria'],\n",
      " 'crop_input_set': '2020_01_03_14_12_5x',\n",
      " 'data_gen_img_args': {'height_shift_range': 0.1,\n",
      "                       'horizontal_flip': True,\n",
      "                       'rescale': 0.00392156862745098,\n",
      "                       'rotation_range': 90.0,\n",
      "                       'shear_range': 0.07,\n",
      "                       'validation_split': 0.1,\n",
      "                       'vertical_flip': True,\n",
      "                       'width_shift_range': 0.1,\n",
      "                       'zoom_range': 0.2},\n",
      " 'data_gen_label_args': {'height_shift_range': 0.1,\n",
      "                         'horizontal_flip': True,\n",
      "                         'rescale': 0.00392156862745098,\n",
      "                         'rotation_range': 90.0,\n",
      "                         'shear_range': 0.07,\n",
      "                         'validation_split': 0.1,\n",
      "                         'vertical_flip': True,\n",
      "                         'width_shift_range': 0.1,\n",
      "                         'zoom_range': 0.2},\n",
      " 'date': '2020_01_06',\n",
      " 'epoch': 500,\n",
      " 'inputclass': ['mitochondria'],\n",
      " 'learning_rate': 1e-05,\n",
      " 'loss': 'binary_crossentropy',\n",
      " 'metrics_name': ['accuracy', 'iou_coef', 'dice_coef'],\n",
      " 'seed': 100,\n",
      " 'timestamp': '2020_01_06_08_56',\n",
      " 'training_sample_size': 18210,\n",
      " 'validation_split': 0.1,\n",
      " 'validation_steps': 20}\n"
     ]
    }
   ],
   "source": [
    "# create arguments for data generator\n",
    "data_gen_img_args = dict(\n",
    "                # featurewise_center = True,\n",
    "                # featurewise_std_normalization = True,\n",
    "                horizontal_flip = True,\n",
    "                vertical_flip = True,\n",
    "                rotation_range = 90.,\n",
    "                width_shift_range = 0.1,\n",
    "                height_shift_range = 0.1,\n",
    "                shear_range = 0.07,\n",
    "                zoom_range = 0.2,\n",
    "                validation_split = validation_split, # <- specify validation_split ratio\n",
    "                # fill_mode='constant',\n",
    "                # cval=0.,\n",
    "                rescale=1.0/255.0,\n",
    "                )\n",
    "\n",
    "data_gen_label_args = dict(\n",
    "                # featurewise_center=True,\n",
    "                # featurewise_std_normalization=True,\n",
    "                horizontal_flip = True,\n",
    "                vertical_flip = True,\n",
    "                rotation_range = 90.,\n",
    "                width_shift_range = 0.1,\n",
    "                height_shift_range = 0.1,\n",
    "                shear_range = 0.07,\n",
    "                zoom_range = 0.2,\n",
    "                validation_split = validation_split, # <- specify validation_split ratio\n",
    "                # fill_mode='constant',\n",
    "                # cval=0.,\n",
    "                # rescale=1.0/255.0,\n",
    "                rescale=1.0/255.0,\n",
    "                )\n",
    "\n",
    "# create parameter\n",
    "pars = dict(\n",
    "                # basic information\n",
    "                timestamp = timestamp,\n",
    "                date = date,\n",
    "                seed = seed,\n",
    "                batch_size = batch_size,\n",
    "                \n",
    "                # Data generator\n",
    "                crop_input_set = crop_input_set,\n",
    "                validation_steps = validation_steps,\n",
    "                validation_split = validation_split,\n",
    "                training_sample_size = training_sample_size,\n",
    "                \n",
    "                # training class\n",
    "                classes = classes,\n",
    "                inputclass = inputclass,\n",
    "    \n",
    "                # add datagen args\n",
    "                data_gen_img_args = data_gen_img_args,\n",
    "                data_gen_label_args = data_gen_label_args,\n",
    "                \n",
    "                # Build model\n",
    "                IMG_HEIGHT = IMG_HEIGHT,\n",
    "                IMG_WIDTH = IMG_WIDTH,\n",
    "                epoch = epoch, \n",
    "                loss = loss,\n",
    "                metrics_name = metrics_name,\n",
    "                learning_rate = learning_rate,\n",
    "                )\n",
    "\n",
    "# save parameter\n",
    "path_pars = os.path.join(path_logs, 'pars')\n",
    "dir_checker(inputclass[0], path_pars)\n",
    "dir_checker(date, os.path.join(path_pars, inputclass[0]))\n",
    "\n",
    "pprint(pars)"
   ]
  },
  {
   "cell_type": "code",
   "execution_count": 8,
   "metadata": {},
   "outputs": [
    {
     "name": "stdout",
     "output_type": "stream",
     "text": [
      "D:PerlmutterData\\logs\\pars\\mitochondria\\2020_01_06\\pars_2020_01_06_08_56.json\n"
     ]
    }
   ],
   "source": [
    "par_file_dir = os.path.join(path_pars, inputclass[0], date, 'pars_' + timestamp + '.json')\n",
    "print(par_file_dir)\n",
    "\n",
    "with open(par_file_dir, 'w') as outfile:\n",
    "    json.dump(pars, outfile, indent=4)\n"
   ]
  },
  {
   "cell_type": "code",
   "execution_count": 9,
   "metadata": {},
   "outputs": [],
   "source": [
    "# create generator\n",
    "image_datagen = ImageDataGenerator(**data_gen_img_args)\n",
    "label_datagen = ImageDataGenerator(**data_gen_label_args)"
   ]
  },
  {
   "cell_type": "code",
   "execution_count": 10,
   "metadata": {},
   "outputs": [
    {
     "name": "stdout",
     "output_type": "stream",
     "text": [
      "Found 5760 images belonging to 1 classes.\n",
      "Found 5760 images belonging to 1 classes.\n",
      "Found 640 images belonging to 1 classes.\n",
      "Found 640 images belonging to 1 classes.\n"
     ]
    }
   ],
   "source": [
    "# load images into generator\n",
    "train_image_generator = image_datagen.flow_from_directory(\n",
    "    img_dir,\n",
    "    class_mode=None,\n",
    "    classes=inputclass,\n",
    "    color_mode='grayscale',\n",
    "    batch_size=batch_size,\n",
    "    subset='training', # <- define subset as 'training'\n",
    "    seed=seed)\n",
    "\n",
    "train_label_generator = label_datagen.flow_from_directory(\n",
    "    label_dir,\n",
    "    class_mode=None,\n",
    "    classes=inputclass,\n",
    "    color_mode='grayscale',\n",
    "    batch_size=batch_size,\n",
    "    subset='training',\n",
    "    seed=seed)\n",
    "\n",
    "valid_image_generator = image_datagen.flow_from_directory(\n",
    "    img_dir,\n",
    "    class_mode=None,\n",
    "    classes=inputclass,\n",
    "    color_mode='grayscale',\n",
    "    batch_size=batch_size,\n",
    "    subset='validation', # <- define subset as 'validation'\n",
    "    seed=seed)\n",
    "\n",
    "valid_label_generator = label_datagen.flow_from_directory(\n",
    "    label_dir,\n",
    "    class_mode=None,\n",
    "    classes=inputclass,\n",
    "    color_mode='grayscale',\n",
    "    batch_size=batch_size,\n",
    "    subset='validation',\n",
    "    seed=seed)"
   ]
  },
  {
   "cell_type": "code",
   "execution_count": 11,
   "metadata": {},
   "outputs": [],
   "source": [
    "\n",
    "# merge image and label generator\n",
    "def combine_generator(gen1, gen2):\n",
    "    while True:\n",
    "        yield(gen1.next(), gen2.next()) \n",
    "train_generator = combine_generator(train_image_generator, train_label_generator)\n",
    "valid_generator = combine_generator(valid_image_generator, valid_label_generator)\n"
   ]
  },
  {
   "cell_type": "code",
   "execution_count": 12,
   "metadata": {},
   "outputs": [
    {
     "data": {
      "text/plain": [
       "'\\ntrain_generator = zip(train_image_generator, train_label_generator)\\nvalid_generator = zip(valid_image_generator, valid_label_generator)\\n'"
      ]
     },
     "execution_count": 12,
     "metadata": {},
     "output_type": "execute_result"
    }
   ],
   "source": [
    "'''\n",
    "train_generator = zip(train_image_generator, train_label_generator)\n",
    "valid_generator = zip(valid_image_generator, valid_label_generator)\n",
    "'''"
   ]
  },
  {
   "cell_type": "markdown",
   "metadata": {},
   "source": [
    " ## Training"
   ]
  },
  {
   "cell_type": "code",
   "execution_count": 13,
   "metadata": {},
   "outputs": [
    {
     "name": "stdout",
     "output_type": "stream",
     "text": [
      "Start training...\n"
     ]
    }
   ],
   "source": [
    "print(\"Start training...\")"
   ]
  },
  {
   "cell_type": "markdown",
   "metadata": {},
   "source": [
    " ### Define Callbacks"
   ]
  },
  {
   "cell_type": "code",
   "execution_count": 14,
   "metadata": {},
   "outputs": [
    {
     "name": "stdout",
     "output_type": "stream",
     "text": [
      "mitochondria exists in D:PerlmutterData\\logs\\model\n",
      "2020_01_06 does not exist in D:PerlmutterData\\logs\\model\\mitochondria\n",
      "mitochondria exists in D:PerlmutterData\\logs\\fit\n",
      "2020_01_06 does not exist in D:PerlmutterData\\logs\\fit\\mitochondria\n"
     ]
    }
   ],
   "source": [
    "# checkpoint\n",
    "modelfilename = 'model_' + timestamp + '.h5'\n",
    "dir_checker(inputclass[0], os.path.join(path_logs, 'model'))\n",
    "dir_checker(date, os.path.join(path_logs, 'model', inputclass[0]))\n",
    "modelfile_path = os.path.join(path_logs, 'model', inputclass[0], date, modelfilename)\n",
    "\n",
    "checkpointer = ModelCheckpoint(filepath = modelfile_path, \n",
    "                               monitor = 'val_loss', \n",
    "                               mode = 'min', \n",
    "                               verbose = 1, \n",
    "                               save_best_only = True)\n",
    "\n",
    "# early stopping \n",
    "early_stopping = EarlyStopping(monitor='val_loss',\n",
    "                           patience=8,\n",
    "                           verbose=1,\n",
    "                           min_delta=1e-4)\n",
    "\n",
    "# learning rate adjustment\n",
    "reduceLR = ReduceLROnPlateau(monitor='val_loss',\n",
    "                    factor=0.1,\n",
    "                    patience=4,\n",
    "                    verbose=1,\n",
    "                    min_delta=1e-4)\n",
    "\n",
    "# tensorboard\n",
    "from tensorflow.summary import create_file_writer\n",
    "\n",
    "dir_checker(inputclass[0], os.path.join(path_logs, 'fit'))\n",
    "dir_checker(date, os.path.join(path_logs, 'fit', inputclass[0]))\n",
    "logdir = os.path.join(path_logs, 'fit', inputclass[0], date, timestamp)\n",
    "\n",
    "file_writer = create_file_writer(logdir + \"/metrics\")\n",
    "file_writer.set_as_default()\n",
    "\n",
    "metrics = ['accuracy', iou_coef, dice_coef]\n",
    "\n",
    "\n",
    "tensorboard_callback = TensorBoard(log_dir = logdir, \n",
    "                                   profile_batch = 0, \n",
    "                                   update_freq= 500,\n",
    "                                   histogram_freq = 1\n",
    "                                   )\n",
    "\n",
    "# compile callbacks\n",
    "callbacks = [checkpointer, tensorboard_callback, early_stopping, reduceLR]"
   ]
  },
  {
   "cell_type": "markdown",
   "metadata": {},
   "source": [
    " ### Setup the model"
   ]
  },
  {
   "cell_type": "code",
   "execution_count": 15,
   "metadata": {},
   "outputs": [
    {
     "name": "stdout",
     "output_type": "stream",
     "text": [
      "Steps per epoch: 1024.0\n"
     ]
    }
   ],
   "source": [
    "# calculate steps_per_epoch\n",
    "steps_per_epoch = training_sample_size * (1 - validation_split) // batch_size\n",
    "print(\"Steps per epoch: {}\".format(steps_per_epoch))"
   ]
  },
  {
   "cell_type": "code",
   "execution_count": 16,
   "metadata": {},
   "outputs": [
    {
     "name": "stdout",
     "output_type": "stream",
     "text": [
      "D:PerlmutterData\\logs\\fit\\mitochondria\\2020_01_06\\2020_01_06_08_56\n"
     ]
    }
   ],
   "source": [
    "print(logdir)"
   ]
  },
  {
   "cell_type": "code",
   "execution_count": 17,
   "metadata": {},
   "outputs": [
    {
     "name": "stdout",
     "output_type": "stream",
     "text": [
      "Segmentation Models: using `tf.keras` framework.\n",
      "Epoch 1/500\n",
      "1023/1024 [============================>.] - ETA: 0s - loss: 0.2877 - accuracy: 0.9309 - iou_coef: 0.0578 - dice_coef: 0.0889\n",
      "Epoch 00001: val_loss improved from inf to 0.11729, saving model to D:PerlmutterData\\logs\\model\\mitochondria\\2020_01_06\\model_2020_01_06_08_56.h5\n",
      "1024/1024 [==============================] - 621s 607ms/step - loss: 0.2876 - accuracy: 0.9309 - iou_coef: 0.0578 - dice_coef: 0.0889 - val_loss: 0.1173 - val_accuracy: 1.0000 - val_iou_coef: 1.3860e-04 - val_dice_coef: 1.3860e-04\n",
      "Epoch 2/500\n",
      "1023/1024 [============================>.] - ETA: 0s - loss: 0.1466 - accuracy: 0.9720 - iou_coef: 0.1016 - dice_coef: 0.1454\n",
      "Epoch 00002: val_loss improved from 0.11729 to 0.07096, saving model to D:PerlmutterData\\logs\\model\\mitochondria\\2020_01_06\\model_2020_01_06_08_56.h5\n",
      "1024/1024 [==============================] - 623s 608ms/step - loss: 0.1466 - accuracy: 0.9720 - iou_coef: 0.1017 - dice_coef: 0.1456 - val_loss: 0.0710 - val_accuracy: 1.0000 - val_iou_coef: 2.2309e-04 - val_dice_coef: 2.2309e-04\n",
      "Epoch 3/500\n",
      "1023/1024 [============================>.] - ETA: 0s - loss: 0.0965 - accuracy: 0.9810 - iou_coef: 0.1401 - dice_coef: 0.1898\n",
      "Epoch 00003: val_loss improved from 0.07096 to 0.04438, saving model to D:PerlmutterData\\logs\\model\\mitochondria\\2020_01_06\\model_2020_01_06_08_56.h5\n",
      "1024/1024 [==============================] - 620s 606ms/step - loss: 0.0965 - accuracy: 0.9811 - iou_coef: 0.1400 - dice_coef: 0.1897 - val_loss: 0.0444 - val_accuracy: 1.0000 - val_iou_coef: 3.5189e-04 - val_dice_coef: 3.5189e-04\n",
      "Epoch 4/500\n",
      "1023/1024 [============================>.] - ETA: 0s - loss: 0.0678 - accuracy: 0.9855 - iou_coef: 0.1729 - dice_coef: 0.2243\n",
      "Epoch 00004: val_loss improved from 0.04438 to 0.03038, saving model to D:PerlmutterData\\logs\\model\\mitochondria\\2020_01_06\\model_2020_01_06_08_56.h5\n",
      "1024/1024 [==============================] - 620s 605ms/step - loss: 0.0678 - accuracy: 0.9855 - iou_coef: 0.1729 - dice_coef: 0.2244 - val_loss: 0.0304 - val_accuracy: 1.0000 - val_iou_coef: 5.1068e-04 - val_dice_coef: 5.1068e-04\n",
      "Epoch 5/500\n",
      "1023/1024 [============================>.] - ETA: 0s - loss: 0.0507 - accuracy: 0.9879 - iou_coef: 0.1996 - dice_coef: 0.2504\n",
      "Epoch 00005: val_loss improved from 0.03038 to 0.02027, saving model to D:PerlmutterData\\logs\\model\\mitochondria\\2020_01_06\\model_2020_01_06_08_56.h5\n",
      "1024/1024 [==============================] - 620s 606ms/step - loss: 0.0507 - accuracy: 0.9879 - iou_coef: 0.1996 - dice_coef: 0.2503 - val_loss: 0.0203 - val_accuracy: 1.0000 - val_iou_coef: 7.6056e-04 - val_dice_coef: 7.6056e-04\n",
      "Epoch 6/500\n",
      "1023/1024 [============================>.] - ETA: 0s - loss: 0.0390 - accuracy: 0.9895 - iou_coef: 0.2253 - dice_coef: 0.2748\n",
      "Epoch 00006: val_loss improved from 0.02027 to 0.01364, saving model to D:PerlmutterData\\logs\\model\\mitochondria\\2020_01_06\\model_2020_01_06_08_56.h5\n",
      "1024/1024 [==============================] - 619s 604ms/step - loss: 0.0390 - accuracy: 0.9895 - iou_coef: 0.2252 - dice_coef: 0.2747 - val_loss: 0.0136 - val_accuracy: 1.0000 - val_iou_coef: 0.0011 - val_dice_coef: 0.0011\n",
      "Epoch 7/500\n",
      "1023/1024 [============================>.] - ETA: 0s - loss: 0.0312 - accuracy: 0.9907 - iou_coef: 0.2443 - dice_coef: 0.2919\n",
      "Epoch 00007: val_loss improved from 0.01364 to 0.00937, saving model to D:PerlmutterData\\logs\\model\\mitochondria\\2020_01_06\\model_2020_01_06_08_56.h5\n",
      "1024/1024 [==============================] - 620s 606ms/step - loss: 0.0312 - accuracy: 0.9907 - iou_coef: 0.2442 - dice_coef: 0.2917 - val_loss: 0.0094 - val_accuracy: 1.0000 - val_iou_coef: 0.0016 - val_dice_coef: 0.0016\n",
      "Epoch 8/500\n",
      "1023/1024 [============================>.] - ETA: 0s - loss: 0.0255 - accuracy: 0.9915 - iou_coef: 0.2618 - dice_coef: 0.3068\n",
      "Epoch 00008: val_loss improved from 0.00937 to 0.00606, saving model to D:PerlmutterData\\logs\\model\\mitochondria\\2020_01_06\\model_2020_01_06_08_56.h5\n",
      "1024/1024 [==============================] - 619s 605ms/step - loss: 0.0255 - accuracy: 0.9916 - iou_coef: 0.2617 - dice_coef: 0.3067 - val_loss: 0.0061 - val_accuracy: 1.0000 - val_iou_coef: 0.0025 - val_dice_coef: 0.0025\n",
      "Epoch 9/500\n",
      "1023/1024 [============================>.] - ETA: 0s - loss: 0.0210 - accuracy: 0.9923 - iou_coef: 0.2786 - dice_coef: 0.3214\n",
      "Epoch 00009: val_loss improved from 0.00606 to 0.00382, saving model to D:PerlmutterData\\logs\\model\\mitochondria\\2020_01_06\\model_2020_01_06_08_56.h5\n",
      "1024/1024 [==============================] - 620s 605ms/step - loss: 0.0210 - accuracy: 0.9923 - iou_coef: 0.2786 - dice_coef: 0.3213 - val_loss: 0.0038 - val_accuracy: 1.0000 - val_iou_coef: 0.0040 - val_dice_coef: 0.0040\n",
      "Epoch 10/500\n",
      "1023/1024 [============================>.] - ETA: 0s - loss: 0.0188 - accuracy: 0.9926 - iou_coef: 0.2887 - dice_coef: 0.3293\n",
      "Epoch 00010: val_loss improved from 0.00382 to 0.00255, saving model to D:PerlmutterData\\logs\\model\\mitochondria\\2020_01_06\\model_2020_01_06_08_56.h5\n",
      "1024/1024 [==============================] - 620s 605ms/step - loss: 0.0188 - accuracy: 0.9926 - iou_coef: 0.2889 - dice_coef: 0.3295 - val_loss: 0.0026 - val_accuracy: 1.0000 - val_iou_coef: 0.0060 - val_dice_coef: 0.0060\n",
      "Epoch 11/500\n",
      "1023/1024 [============================>.] - ETA: 0s - loss: 0.0162 - accuracy: 0.9932 - iou_coef: 0.2994 - dice_coef: 0.3379\n",
      "Epoch 00011: val_loss improved from 0.00255 to 0.00173, saving model to D:PerlmutterData\\logs\\model\\mitochondria\\2020_01_06\\model_2020_01_06_08_56.h5\n",
      "1024/1024 [==============================] - 619s 605ms/step - loss: 0.0162 - accuracy: 0.9932 - iou_coef: 0.2994 - dice_coef: 0.3379 - val_loss: 0.0017 - val_accuracy: 1.0000 - val_iou_coef: 0.0087 - val_dice_coef: 0.0087\n",
      "Epoch 12/500\n",
      "1023/1024 [============================>.] - ETA: 0s - loss: 0.0151 - accuracy: 0.9933 - iou_coef: 0.3092 - dice_coef: 0.3468\n",
      "Epoch 00012: val_loss improved from 0.00173 to 0.00125, saving model to D:PerlmutterData\\logs\\model\\mitochondria\\2020_01_06\\model_2020_01_06_08_56.h5\n",
      "1024/1024 [==============================] - 613s 599ms/step - loss: 0.0151 - accuracy: 0.9933 - iou_coef: 0.3091 - dice_coef: 0.3467 - val_loss: 0.0013 - val_accuracy: 1.0000 - val_iou_coef: 0.0120 - val_dice_coef: 0.0120\n",
      "Epoch 13/500\n",
      "1023/1024 [============================>.] - ETA: 0s - loss: 0.0137 - accuracy: 0.9936 - iou_coef: 0.3222 - dice_coef: 0.3582\n",
      "Epoch 00013: val_loss improved from 0.00125 to 0.00083, saving model to D:PerlmutterData\\logs\\model\\mitochondria\\2020_01_06\\model_2020_01_06_08_56.h5\n",
      "1024/1024 [==============================] - 610s 596ms/step - loss: 0.0137 - accuracy: 0.9936 - iou_coef: 0.3222 - dice_coef: 0.3583 - val_loss: 8.2521e-04 - val_accuracy: 1.0000 - val_iou_coef: 0.0182 - val_dice_coef: 0.0182\n",
      "Epoch 14/500\n",
      "1023/1024 [============================>.] - ETA: 0s - loss: 0.0128 - accuracy: 0.9938 - iou_coef: 0.3309 - dice_coef: 0.3660\n",
      "Epoch 00014: val_loss improved from 0.00083 to 0.00059, saving model to D:PerlmutterData\\logs\\model\\mitochondria\\2020_01_06\\model_2020_01_06_08_56.h5\n",
      "1024/1024 [==============================] - 610s 596ms/step - loss: 0.0128 - accuracy: 0.9938 - iou_coef: 0.3309 - dice_coef: 0.3660 - val_loss: 5.8970e-04 - val_accuracy: 1.0000 - val_iou_coef: 0.0253 - val_dice_coef: 0.0253\n",
      "Epoch 15/500\n",
      "1023/1024 [============================>.] - ETA: 0s - loss: 0.0128 - accuracy: 0.9937 - iou_coef: 0.3369 - dice_coef: 0.3711\n",
      "Epoch 00015: val_loss improved from 0.00059 to 0.00041, saving model to D:PerlmutterData\\logs\\model\\mitochondria\\2020_01_06\\model_2020_01_06_08_56.h5\n",
      "1024/1024 [==============================] - 610s 596ms/step - loss: 0.0128 - accuracy: 0.9937 - iou_coef: 0.3368 - dice_coef: 0.3710 - val_loss: 4.0954e-04 - val_accuracy: 1.0000 - val_iou_coef: 0.0360 - val_dice_coef: 0.0360\n",
      "Epoch 16/500\n",
      "1023/1024 [============================>.] - ETA: 0s - loss: 0.0114 - accuracy: 0.9942 - iou_coef: 0.3483 - dice_coef: 0.3814\n",
      "Epoch 00016: val_loss improved from 0.00041 to 0.00029, saving model to D:PerlmutterData\\logs\\model\\mitochondria\\2020_01_06\\model_2020_01_06_08_56.h5\n",
      "1024/1024 [==============================] - 609s 595ms/step - loss: 0.0114 - accuracy: 0.9942 - iou_coef: 0.3481 - dice_coef: 0.3812 - val_loss: 2.8921e-04 - val_accuracy: 1.0000 - val_iou_coef: 0.0501 - val_dice_coef: 0.0501\n"
     ]
    },
    {
     "name": "stdout",
     "output_type": "stream",
     "text": [
      "Epoch 17/500\n",
      "1023/1024 [============================>.] - ETA: 0s - loss: 0.0113 - accuracy: 0.9942 - iou_coef: 0.3604 - dice_coef: 0.3927\n",
      "Epoch 00017: val_loss improved from 0.00029 to 0.00022, saving model to D:PerlmutterData\\logs\\model\\mitochondria\\2020_01_06\\model_2020_01_06_08_56.h5\n",
      "1024/1024 [==============================] - 608s 594ms/step - loss: 0.0113 - accuracy: 0.9942 - iou_coef: 0.3604 - dice_coef: 0.3926 - val_loss: 2.1992e-04 - val_accuracy: 1.0000 - val_iou_coef: 0.0651 - val_dice_coef: 0.0651\n",
      "Epoch 18/500\n",
      "1023/1024 [============================>.] - ETA: 0s - loss: 0.0106 - accuracy: 0.9944 - iou_coef: 0.3690 - dice_coef: 0.4002\n",
      "Epoch 00018: val_loss improved from 0.00022 to 0.00018, saving model to D:PerlmutterData\\logs\\model\\mitochondria\\2020_01_06\\model_2020_01_06_08_56.h5\n",
      "1024/1024 [==============================] - 610s 596ms/step - loss: 0.0106 - accuracy: 0.9944 - iou_coef: 0.3688 - dice_coef: 0.4000 - val_loss: 1.7732e-04 - val_accuracy: 1.0000 - val_iou_coef: 0.0794 - val_dice_coef: 0.0794\n",
      "Epoch 19/500\n",
      "1023/1024 [============================>.] - ETA: 0s - loss: 0.0103 - accuracy: 0.9944 - iou_coef: 0.3813 - dice_coef: 0.4124\n",
      "Epoch 00019: val_loss improved from 0.00018 to 0.00015, saving model to D:PerlmutterData\\logs\\model\\mitochondria\\2020_01_06\\model_2020_01_06_08_56.h5\n",
      "1024/1024 [==============================] - 610s 596ms/step - loss: 0.0103 - accuracy: 0.9944 - iou_coef: 0.3813 - dice_coef: 0.4125 - val_loss: 1.4936e-04 - val_accuracy: 1.0000 - val_iou_coef: 0.0929 - val_dice_coef: 0.0929\n",
      "Epoch 20/500\n",
      "1023/1024 [============================>.] - ETA: 0s - loss: 0.0100 - accuracy: 0.9945 - iou_coef: 0.3931 - dice_coef: 0.4237\n",
      "Epoch 00020: val_loss improved from 0.00015 to 0.00012, saving model to D:PerlmutterData\\logs\\model\\mitochondria\\2020_01_06\\model_2020_01_06_08_56.h5\n",
      "1024/1024 [==============================] - 610s 595ms/step - loss: 0.0100 - accuracy: 0.9945 - iou_coef: 0.3931 - dice_coef: 0.4237 - val_loss: 1.2137e-04 - val_accuracy: 1.0000 - val_iou_coef: 0.1121 - val_dice_coef: 0.1121\n",
      "Epoch 21/500\n",
      "1023/1024 [============================>.] - ETA: 0s - loss: 0.0098 - accuracy: 0.9946 - iou_coef: 0.4103 - dice_coef: 0.4402\n",
      "Epoch 00021: val_loss improved from 0.00012 to 0.00009, saving model to D:PerlmutterData\\logs\\model\\mitochondria\\2020_01_06\\model_2020_01_06_08_56.h5\n",
      "1024/1024 [==============================] - 610s 595ms/step - loss: 0.0098 - accuracy: 0.9946 - iou_coef: 0.4103 - dice_coef: 0.4402 - val_loss: 8.8493e-05 - val_accuracy: 1.0000 - val_iou_coef: 0.1474 - val_dice_coef: 0.1474\n",
      "Epoch 22/500\n",
      "1023/1024 [============================>.] - ETA: 0s - loss: 0.0094 - accuracy: 0.9947 - iou_coef: 0.4246 - dice_coef: 0.4540\n",
      "Epoch 00022: val_loss improved from 0.00009 to 0.00007, saving model to D:PerlmutterData\\logs\\model\\mitochondria\\2020_01_06\\model_2020_01_06_08_56.h5\n",
      "1024/1024 [==============================] - 610s 596ms/step - loss: 0.0094 - accuracy: 0.9947 - iou_coef: 0.4246 - dice_coef: 0.4540 - val_loss: 6.7410e-05 - val_accuracy: 1.0000 - val_iou_coef: 0.1849 - val_dice_coef: 0.1849\n",
      "Epoch 23/500\n",
      "1023/1024 [============================>.] - ETA: 0s - loss: 0.0091 - accuracy: 0.9949 - iou_coef: 0.4414 - dice_coef: 0.4704\n",
      "Epoch 00023: val_loss improved from 0.00007 to 0.00006, saving model to D:PerlmutterData\\logs\\model\\mitochondria\\2020_01_06\\model_2020_01_06_08_56.h5\n",
      "1024/1024 [==============================] - 609s 594ms/step - loss: 0.0091 - accuracy: 0.9948 - iou_coef: 0.4417 - dice_coef: 0.4707 - val_loss: 5.6377e-05 - val_accuracy: 1.0000 - val_iou_coef: 0.2132 - val_dice_coef: 0.2132\n",
      "Epoch 24/500\n",
      "1023/1024 [============================>.] - ETA: 0s - loss: 0.0089 - accuracy: 0.9949 - iou_coef: 0.4651 - dice_coef: 0.4938\n",
      "Epoch 00024: val_loss improved from 0.00006 to 0.00005, saving model to D:PerlmutterData\\logs\\model\\mitochondria\\2020_01_06\\model_2020_01_06_08_56.h5\n",
      "1024/1024 [==============================] - 611s 597ms/step - loss: 0.0089 - accuracy: 0.9949 - iou_coef: 0.4652 - dice_coef: 0.4939 - val_loss: 4.6233e-05 - val_accuracy: 1.0000 - val_iou_coef: 0.2481 - val_dice_coef: 0.2481\n",
      "Epoch 25/500\n",
      "1023/1024 [============================>.] - ETA: 0s - loss: 0.0090 - accuracy: 0.9948 - iou_coef: 0.4914 - dice_coef: 0.5196\n",
      "Epoch 00025: val_loss improved from 0.00005 to 0.00003, saving model to D:PerlmutterData\\logs\\model\\mitochondria\\2020_01_06\\model_2020_01_06_08_56.h5\n",
      "1024/1024 [==============================] - 609s 595ms/step - loss: 0.0090 - accuracy: 0.9948 - iou_coef: 0.4914 - dice_coef: 0.5196 - val_loss: 3.4021e-05 - val_accuracy: 1.0000 - val_iou_coef: 0.3093 - val_dice_coef: 0.3093\n",
      "Epoch 26/500\n",
      "1023/1024 [============================>.] - ETA: 0s - loss: 0.0092 - accuracy: 0.9948 - iou_coef: 0.5061 - dice_coef: 0.5345\n",
      "Epoch 00026: val_loss improved from 0.00003 to 0.00003, saving model to D:PerlmutterData\\logs\\model\\mitochondria\\2020_01_06\\model_2020_01_06_08_56.h5\n",
      "\n",
      "Epoch 00026: ReduceLROnPlateau reducing learning rate to 9.999999747378752e-07.\n",
      "1024/1024 [==============================] - 608s 594ms/step - loss: 0.0093 - accuracy: 0.9948 - iou_coef: 0.5062 - dice_coef: 0.5345 - val_loss: 2.9183e-05 - val_accuracy: 1.0000 - val_iou_coef: 0.3437 - val_dice_coef: 0.3437\n",
      "Epoch 27/500\n",
      "1023/1024 [============================>.] - ETA: 0s - loss: 0.0083 - accuracy: 0.9951 - iou_coef: 0.5180 - dice_coef: 0.5453\n",
      "Epoch 00027: val_loss did not improve from 0.00003\n",
      "1024/1024 [==============================] - 608s 593ms/step - loss: 0.0083 - accuracy: 0.9951 - iou_coef: 0.5179 - dice_coef: 0.5451 - val_loss: 3.1949e-05 - val_accuracy: 1.0000 - val_iou_coef: 0.3254 - val_dice_coef: 0.3254\n",
      "Epoch 28/500\n",
      "1023/1024 [============================>.] - ETA: 0s - loss: 0.0084 - accuracy: 0.9951 - iou_coef: 0.5178 - dice_coef: 0.5450\n",
      "Epoch 00028: val_loss did not improve from 0.00003\n",
      "1024/1024 [==============================] - 607s 593ms/step - loss: 0.0084 - accuracy: 0.9951 - iou_coef: 0.5179 - dice_coef: 0.5451 - val_loss: 2.9710e-05 - val_accuracy: 1.0000 - val_iou_coef: 0.3400 - val_dice_coef: 0.3400\n",
      "Epoch 29/500\n",
      "1023/1024 [============================>.] - ETA: 0s - loss: 0.0081 - accuracy: 0.9951 - iou_coef: 0.5238 - dice_coef: 0.5508\n",
      "Epoch 00029: val_loss did not improve from 0.00003\n",
      "1024/1024 [==============================] - 607s 593ms/step - loss: 0.0081 - accuracy: 0.9951 - iou_coef: 0.5238 - dice_coef: 0.5508 - val_loss: 2.9379e-05 - val_accuracy: 1.0000 - val_iou_coef: 0.3426 - val_dice_coef: 0.3426\n",
      "Epoch 30/500\n",
      "1023/1024 [============================>.] - ETA: 0s - loss: 0.0082 - accuracy: 0.9951 - iou_coef: 0.5232 - dice_coef: 0.5501\n",
      "Epoch 00030: val_loss improved from 0.00003 to 0.00003, saving model to D:PerlmutterData\\logs\\model\\mitochondria\\2020_01_06\\model_2020_01_06_08_56.h5\n",
      "\n",
      "Epoch 00030: ReduceLROnPlateau reducing learning rate to 9.999999974752428e-08.\n",
      "1024/1024 [==============================] - 609s 595ms/step - loss: 0.0082 - accuracy: 0.9951 - iou_coef: 0.5234 - dice_coef: 0.5502 - val_loss: 2.8556e-05 - val_accuracy: 1.0000 - val_iou_coef: 0.3485 - val_dice_coef: 0.3485\n",
      "Epoch 00030: early stopping\n"
     ]
    },
    {
     "data": {
      "text/plain": [
       "<tensorflow.python.keras.callbacks.History at 0x22184b533c8>"
      ]
     },
     "execution_count": 17,
     "metadata": {},
     "output_type": "execute_result"
    }
   ],
   "source": [
    "import segmentation_models as sm\n",
    "from tensorflow.keras.optimizers import Adam\n",
    "from tensorflow.keras.models import Model\n",
    "from tensorflow.keras.layers import Input, Conv2D\n",
    "\n",
    "BACKBONE = 'resnet34'\n",
    "\n",
    "# prepare the model\n",
    "base_model = sm.Unet(BACKBONE, classes=1, encoder_weights='imagenet')\n",
    "\n",
    "inp = Input(shape=(None, None, 1))\n",
    "l1 = Conv2D(3, (1, 1))(inp) # map N channels data to 3 channels\n",
    "out = base_model(l1)\n",
    "\n",
    "unetmodel = Model(inp, out, name=base_model.name)\n",
    "\n",
    "unetmodel.compile(\n",
    "    optimizer = Adam(lr = learning_rate),\n",
    "    lr = learning_rate,\n",
    "    loss=loss,\n",
    "    metrics=metrics,\n",
    ")\n",
    "\n",
    "# train the model\n",
    "unetmodel.fit_generator(\n",
    "                    generator = train_generator, \n",
    "                    validation_data = valid_generator,\n",
    "                    validation_steps = validation_steps,\n",
    "                    steps_per_epoch = steps_per_epoch,\n",
    "                    epochs = epoch,  \n",
    "                    callbacks = callbacks,\n",
    "                    verbose = 1, \n",
    "                    )"
   ]
  },
  {
   "cell_type": "code",
   "execution_count": 18,
   "metadata": {},
   "outputs": [
    {
     "name": "stdout",
     "output_type": "stream",
     "text": [
      "Mon Jan 06 14:03:48 2020       \n",
      "+-----------------------------------------------------------------------------+\n",
      "| NVIDIA-SMI 419.17       Driver Version: 419.17       CUDA Version: 10.1     |\n",
      "|-------------------------------+----------------------+----------------------+\n",
      "| GPU  Name            TCC/WDDM | Bus-Id        Disp.A | Volatile Uncorr. ECC |\n",
      "| Fan  Temp  Perf  Pwr:Usage/Cap|         Memory-Usage | GPU-Util  Compute M. |\n",
      "|===============================+======================+======================|\n",
      "|   0  Quadro P5000       WDDM  | 00000000:73:00.0 Off |                  Off |\n",
      "| 41%   62C    P0    44W / 180W |  13808MiB / 16384MiB |      0%      Default |\n",
      "+-------------------------------+----------------------+----------------------+\n",
      "                                                                               \n",
      "+-----------------------------------------------------------------------------+\n",
      "| Processes:                                                       GPU Memory |\n",
      "|  GPU       PID   Type   Process name                             Usage      |\n",
      "|=============================================================================|\n",
      "|    0      2252    C+G   Insufficient Permissions                   N/A      |\n",
      "|    0      3488    C+G   ...t_cw5n1h2txyewy\\ShellExperienceHost.exe N/A      |\n",
      "|    0      3872    C+G   ...hell.Experiences.TextInput.InputApp.exe N/A      |\n",
      "|    0      5648      C   ..._admin\\Anaconda3\\envs\\tfdl02\\python.exe N/A      |\n",
      "|    0      7760    C+G   ...x64__8wekyb3d8bbwe\\Microsoft.Photos.exe N/A      |\n",
      "|    0      7960    C+G   C:\\Windows\\explorer.exe                    N/A      |\n",
      "|    0      8676    C+G   ...dows.Cortana_cw5n1h2txyewy\\SearchUI.exe N/A      |\n",
      "|    0      9580    C+G   Insufficient Permissions                   N/A      |\n",
      "|    0     12064    C+G   ...5.131.0_x64__kzf8qxf38zg5c\\SkypeApp.exe N/A      |\n",
      "|    0     12920    C+G   ....113.0_x64__8wekyb3d8bbwe\\YourPhone.exe N/A      |\n",
      "|    0     13356    C+G   ...osoft.LockApp_cw5n1h2txyewy\\LockApp.exe N/A      |\n",
      "|    0     14792    C+G   ...1.0_x64__8wekyb3d8bbwe\\WinStore.App.exe N/A      |\n",
      "+-----------------------------------------------------------------------------+\n"
     ]
    }
   ],
   "source": [
    "!nvidia-smi"
   ]
  }
 ],
 "metadata": {
  "file_extension": ".py",
  "kernelspec": {
   "display_name": "tfdl02",
   "language": "python",
   "name": "tfdl02"
  },
  "language_info": {
   "codemirror_mode": {
    "name": "ipython",
    "version": 3
   },
   "file_extension": ".py",
   "mimetype": "text/x-python",
   "name": "python",
   "nbconvert_exporter": "python",
   "pygments_lexer": "ipython3",
   "version": "3.6.9"
  },
  "mimetype": "text/x-python",
  "name": "python",
  "npconvert_exporter": "python",
  "pygments_lexer": "ipython3",
  "version": 3
 },
 "nbformat": 4,
 "nbformat_minor": 2
}
