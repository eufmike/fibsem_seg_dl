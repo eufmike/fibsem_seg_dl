{
 "cells": [
  {
   "cell_type": "markdown",
   "metadata": {},
   "source": [
    " # Training Model\n",
    " Keras on Tensorflow\n"
   ]
  },
  {
   "cell_type": "code",
   "execution_count": 1,
   "metadata": {},
   "outputs": [],
   "source": [
    "import os, sys\n",
    "import cv2\n",
    "import numpy as np\n",
    "import uuid\n",
    "import tensorflow as tf\n",
    "from skimage.io import imread, imsave, imshow\n",
    "from PIL import Image, ImageTk\n",
    "import matplotlib.pyplot as plt\n",
    "from imutils import paths\n",
    "import itertools\n",
    "import json\n",
    "from pprint import pprint\n",
    "\n",
    "from tensorflow.keras.preprocessing.image import ImageDataGenerator\n",
    "from core.imageprep import dir_checker, random_crop, crop_generator, random_crop_batch\n",
    "from core.models import UNet, UNet_hp\n",
    "from core.metrics import iou_coef, dice_coef\n",
    "\n",
    "from tensorflow.python.keras.callbacks import ModelCheckpoint, TensorBoard, EarlyStopping, ReduceLROnPlateau\n",
    "from tensorboard.plugins.hparams import api as hp\n",
    "from tensorflow.summary import create_file_writer\n",
    "\n",
    "from datetime import datetime\n",
    "\n",
    "from IPython import get_ipython\n",
    "# %load_ext autoreload\n",
    "get_ipython().run_line_magic('load_ext', 'autoreload')\n",
    "# %autoreload 2\n",
    "get_ipython().run_line_magic('autoreload', '2')\n",
    "# %load_ext tensorboard\n",
    "get_ipython().run_line_magic('load_ext', 'tensorboard')"
   ]
  },
  {
   "cell_type": "code",
   "execution_count": 2,
   "metadata": {},
   "outputs": [
    {
     "name": "stdout",
     "output_type": "stream",
     "text": [
      "TensorFlow version:  2.0.0\n"
     ]
    }
   ],
   "source": [
    "from packaging import version\n",
    "print(\"TensorFlow version: \", tf.__version__)\n",
    "assert version.parse(tf.__version__).release[0] >= 2, \\\n",
    "    \"This notebook requires TensorFlow 2.0 or above.\""
   ]
  },
  {
   "cell_type": "code",
   "execution_count": 3,
   "metadata": {},
   "outputs": [
    {
     "data": {
      "text/plain": [
       "'C:\\\\Users\\\\wucci_admin\\\\Anaconda3\\\\envs\\\\tfdl02\\\\python.exe'"
      ]
     },
     "execution_count": 3,
     "metadata": {},
     "output_type": "execute_result"
    }
   ],
   "source": [
    "sys.executable"
   ]
  },
  {
   "cell_type": "markdown",
   "metadata": {},
   "source": [
    " ## Load Training Dataset"
   ]
  },
  {
   "cell_type": "code",
   "execution_count": 4,
   "metadata": {},
   "outputs": [
    {
     "name": "stdout",
     "output_type": "stream",
     "text": [
      "Load Images...\n",
      "D:PerlmutterData\\dl_seg_project_raw\\data_crop\\2019_12_06_17_06\n",
      "D:PerlmutterData\\dl_seg_project_raw\\data_crop\\2019_12_06_17_06\\images\n",
      "D:PerlmutterData\\dl_seg_project_raw\\data_crop\\2019_12_06_17_06\\labels\n",
      "logs exists in D:PerlmutterData\n",
      "fit exists in D:PerlmutterData\\logs\n",
      "model exists in D:PerlmutterData\\logs\n",
      "pars exists in D:PerlmutterData\\logs\n"
     ]
    }
   ],
   "source": [
    "# load image\n",
    "print(\"Load Images...\")\n",
    "# on mac\n",
    "# path = \"/Volumes/LaCie_DataStorage/PerlmutterData/\"\n",
    "\n",
    "# on Window PC \n",
    "path = os.path.join('D:', 'PerlmutterData')\n",
    "\n",
    "# input set\n",
    "crop_input_set = '2019_12_06_17_06'\n",
    "# crop_input_set = '2019_12_10_15_33_5x' # small training set\n",
    "\n",
    "imginput = os.path.join('dl_seg_project_raw', 'data_crop', crop_input_set,)\n",
    "imgpath = os.path.join(path, imginput)\n",
    "\n",
    "print(imgpath)\n",
    "\n",
    "img_dir = os.path.join(imgpath, 'images')\n",
    "label_dir = os.path.join(imgpath, 'labels')\n",
    "print(img_dir)\n",
    "print(label_dir)\n",
    "\n",
    "# check if the output folder exist. If not, create a folder\n",
    "dir_checker('logs', path)\n",
    "path_logs = os.path.join(path, 'logs')\n",
    "dir_checker('fit', path_logs)\n",
    "dir_checker('model', path_logs)\n",
    "dir_checker('pars', path_logs)"
   ]
  },
  {
   "cell_type": "markdown",
   "metadata": {},
   "source": [
    " Print the first file name."
   ]
  },
  {
   "cell_type": "code",
   "execution_count": 5,
   "metadata": {},
   "outputs": [
    {
     "name": "stdout",
     "output_type": "stream",
     "text": [
      "D:PerlmutterData\\dl_seg_project_raw\\data_crop\\2019_12_06_17_06\\images\\autophagosome\\0001.tif\n"
     ]
    }
   ],
   "source": [
    "imgpath_all = list(paths.list_images(imgpath))\n",
    "print(imgpath_all[0])"
   ]
  },
  {
   "cell_type": "markdown",
   "metadata": {},
   "source": [
    " ## Create Image Datagenerator\n",
    " 1. create only one datagen\n",
    " 2. specify valiation split in datagen argument\n",
    " 3. add split data when calling `datagen.flow_from_directory`"
   ]
  },
  {
   "cell_type": "code",
   "execution_count": 6,
   "metadata": {},
   "outputs": [],
   "source": [
    "timestamp = datetime.now().strftime(\"%Y_%m_%d_%H_%M\")\n",
    "date =  datetime.now().strftime(\"%Y_%m_%d\")\n",
    "seed = 100\n",
    "batch_size = 16\n",
    "epoch = 100\n",
    "validation_steps = 20\n",
    "validation_split = 0.1\n",
    "training_sample_size = len(imgpath_all)\n",
    "IMG_HEIGHT = None\n",
    "IMG_WIDTH = None\n",
    "classes = ['cell_membrane', 'nucleus', 'autophagosome']\n",
    "inputclass = [classes[1]]\n",
    "learning_rate = 1e-5\n",
    "loss = \"binary_crossentropy\"\n",
    "metrics = ['accuracy', iou_coef, dice_coef]\n",
    "\n",
    "metrics_name = []\n",
    "for f in metrics:\n",
    "    if callable(f):\n",
    "        metrics_name.append(f.__name__)\n",
    "    else:\n",
    "        metrics_name.append(f)"
   ]
  },
  {
   "cell_type": "code",
   "execution_count": 7,
   "metadata": {},
   "outputs": [
    {
     "name": "stdout",
     "output_type": "stream",
     "text": [
      "nucleus exists in D:PerlmutterData\\logs\\pars\n",
      "2019_12_13 exists in D:PerlmutterData\\logs\\pars\\nucleus\n",
      "{'IMG_HEIGHT': None,\n",
      " 'IMG_WIDTH': None,\n",
      " 'batch_size': 16,\n",
      " 'classes': ['cell_membrane', 'nucleus', 'autophagosome'],\n",
      " 'crop_input_set': '2019_12_06_17_06',\n",
      " 'data_gen_img_args': {'height_shift_range': 0.1,\n",
      "                       'horizontal_flip': True,\n",
      "                       'rescale': 0.00392156862745098,\n",
      "                       'rotation_range': 90.0,\n",
      "                       'shear_range': 0.07,\n",
      "                       'validation_split': 0.1,\n",
      "                       'vertical_flip': True,\n",
      "                       'width_shift_range': 0.1,\n",
      "                       'zoom_range': 0.2},\n",
      " 'data_gen_label_args': {'height_shift_range': 0.1,\n",
      "                         'horizontal_flip': True,\n",
      "                         'rescale': 0.00392156862745098,\n",
      "                         'rotation_range': 90.0,\n",
      "                         'shear_range': 0.07,\n",
      "                         'validation_split': 0.1,\n",
      "                         'vertical_flip': True,\n",
      "                         'width_shift_range': 0.1,\n",
      "                         'zoom_range': 0.2},\n",
      " 'date': '2019_12_13',\n",
      " 'epoch': 100,\n",
      " 'inputclass': ['nucleus'],\n",
      " 'learning_rate': 1e-05,\n",
      " 'loss': 'binary_crossentropy',\n",
      " 'metrics_name': ['accuracy', 'iou_coef', 'dice_coef'],\n",
      " 'seed': 100,\n",
      " 'timestamp': '2019_12_13_17_28',\n",
      " 'training_sample_size': 54100,\n",
      " 'validation_split': 0.1,\n",
      " 'validation_steps': 20}\n"
     ]
    }
   ],
   "source": [
    "# create arguments for data generator\n",
    "data_gen_img_args = dict(\n",
    "                # featurewise_center = True,\n",
    "                # featurewise_std_normalization = True,\n",
    "                horizontal_flip = True,\n",
    "                vertical_flip = True,\n",
    "                rotation_range = 90.,\n",
    "                width_shift_range = 0.1,\n",
    "                height_shift_range = 0.1,\n",
    "                shear_range = 0.07,\n",
    "                zoom_range = 0.2,\n",
    "                validation_split = validation_split, # <- specify validation_split ratio\n",
    "                # fill_mode='constant',\n",
    "                # cval=0.,\n",
    "                rescale=1.0/255.0,\n",
    "                )\n",
    "\n",
    "data_gen_label_args = dict(\n",
    "                # featurewise_center=True,\n",
    "                # featurewise_std_normalization=True,\n",
    "                horizontal_flip = True,\n",
    "                vertical_flip = True,\n",
    "                rotation_range = 90.,\n",
    "                width_shift_range = 0.1,\n",
    "                height_shift_range = 0.1,\n",
    "                shear_range = 0.07,\n",
    "                zoom_range = 0.2,\n",
    "                validation_split = validation_split, # <- specify validation_split ratio\n",
    "                # fill_mode='constant',\n",
    "                # cval=0.,\n",
    "                # rescale=1.0/255.0,\n",
    "                rescale=1.0/255.0,\n",
    "                )\n",
    "\n",
    "# create parameter\n",
    "pars = dict(\n",
    "                # basic information\n",
    "                timestamp = timestamp,\n",
    "                date = date,\n",
    "                seed = seed,\n",
    "                batch_size = batch_size,\n",
    "                \n",
    "                # Data generator\n",
    "                crop_input_set = crop_input_set,\n",
    "                validation_steps = validation_steps,\n",
    "                validation_split = validation_split,\n",
    "                training_sample_size = training_sample_size,\n",
    "                \n",
    "                # training class\n",
    "                classes = classes,\n",
    "                inputclass = inputclass,\n",
    "    \n",
    "                # add datagen args\n",
    "                data_gen_img_args = data_gen_img_args,\n",
    "                data_gen_label_args = data_gen_label_args,\n",
    "                \n",
    "                # Build model\n",
    "                IMG_HEIGHT = IMG_HEIGHT,\n",
    "                IMG_WIDTH = IMG_WIDTH,\n",
    "                epoch = epoch, \n",
    "                loss = loss,\n",
    "                metrics_name = metrics_name,\n",
    "                learning_rate = learning_rate,\n",
    "                )\n",
    "\n",
    "# save parameter\n",
    "path_pars = os.path.join(path_logs, 'pars')\n",
    "dir_checker(inputclass[0], path_pars)\n",
    "dir_checker(date, os.path.join(path_pars, inputclass[0]))\n",
    "\n",
    "pprint(pars)"
   ]
  },
  {
   "cell_type": "code",
   "execution_count": 8,
   "metadata": {},
   "outputs": [
    {
     "name": "stdout",
     "output_type": "stream",
     "text": [
      "D:PerlmutterData\\logs\\pars\\nucleus\\2019_12_13\\pars_2019_12_13_17_28.json\n"
     ]
    }
   ],
   "source": [
    "par_file_dir = os.path.join(path_pars, inputclass[0], date, 'pars_' + timestamp + '.json')\n",
    "print(par_file_dir)\n",
    "\n",
    "with open(par_file_dir, 'w') as outfile:\n",
    "    json.dump(pars, outfile, indent=4)\n"
   ]
  },
  {
   "cell_type": "code",
   "execution_count": 9,
   "metadata": {},
   "outputs": [],
   "source": [
    "# create generator\n",
    "image_datagen = ImageDataGenerator(**data_gen_img_args)\n",
    "label_datagen = ImageDataGenerator(**data_gen_label_args)"
   ]
  },
  {
   "cell_type": "code",
   "execution_count": 10,
   "metadata": {},
   "outputs": [
    {
     "name": "stdout",
     "output_type": "stream",
     "text": [
      "Found 10395 images belonging to 1 classes.\n",
      "Found 10395 images belonging to 1 classes.\n",
      "Found 1155 images belonging to 1 classes.\n",
      "Found 1155 images belonging to 1 classes.\n"
     ]
    }
   ],
   "source": [
    "# load images into generator\n",
    "train_image_generator = image_datagen.flow_from_directory(\n",
    "    img_dir,\n",
    "    class_mode=None,\n",
    "    classes=inputclass,\n",
    "    color_mode='grayscale',\n",
    "    batch_size=batch_size,\n",
    "    subset='training', # <- define subset as 'training'\n",
    "    seed=seed)\n",
    "\n",
    "train_label_generator = label_datagen.flow_from_directory(\n",
    "    label_dir,\n",
    "    class_mode=None,\n",
    "    classes=inputclass,\n",
    "    color_mode='grayscale',\n",
    "    batch_size=batch_size,\n",
    "    subset='training',\n",
    "    seed=seed)\n",
    "\n",
    "valid_image_generator = image_datagen.flow_from_directory(\n",
    "    img_dir,\n",
    "    class_mode=None,\n",
    "    classes=inputclass,\n",
    "    color_mode='grayscale',\n",
    "    batch_size=batch_size,\n",
    "    subset='validation', # <- define subset as 'validation'\n",
    "    seed=seed)\n",
    "\n",
    "valid_label_generator = label_datagen.flow_from_directory(\n",
    "    label_dir,\n",
    "    class_mode=None,\n",
    "    classes=inputclass,\n",
    "    color_mode='grayscale',\n",
    "    batch_size=batch_size,\n",
    "    subset='validation',\n",
    "    seed=seed)"
   ]
  },
  {
   "cell_type": "code",
   "execution_count": 11,
   "metadata": {},
   "outputs": [],
   "source": [
    "\n",
    "# merge image and label generator\n",
    "def combine_generator(gen1, gen2):\n",
    "    while True:\n",
    "        yield(gen1.next(), gen2.next()) \n",
    "train_generator = combine_generator(train_image_generator, train_label_generator)\n",
    "valid_generator = combine_generator(valid_image_generator, valid_label_generator)\n"
   ]
  },
  {
   "cell_type": "code",
   "execution_count": 12,
   "metadata": {},
   "outputs": [
    {
     "data": {
      "text/plain": [
       "'\\ntrain_generator = zip(train_image_generator, train_label_generator)\\nvalid_generator = zip(valid_image_generator, valid_label_generator)\\n'"
      ]
     },
     "execution_count": 12,
     "metadata": {},
     "output_type": "execute_result"
    }
   ],
   "source": [
    "'''\n",
    "train_generator = zip(train_image_generator, train_label_generator)\n",
    "valid_generator = zip(valid_image_generator, valid_label_generator)\n",
    "'''"
   ]
  },
  {
   "cell_type": "markdown",
   "metadata": {},
   "source": [
    " ## Training"
   ]
  },
  {
   "cell_type": "code",
   "execution_count": 13,
   "metadata": {},
   "outputs": [
    {
     "name": "stdout",
     "output_type": "stream",
     "text": [
      "Start training...\n"
     ]
    }
   ],
   "source": [
    "print(\"Start training...\")"
   ]
  },
  {
   "cell_type": "markdown",
   "metadata": {},
   "source": [
    " ### Define Callbacks"
   ]
  },
  {
   "cell_type": "code",
   "execution_count": null,
   "metadata": {},
   "outputs": [],
   "source": []
  },
  {
   "cell_type": "markdown",
   "metadata": {},
   "source": [
    " ### Setup the model"
   ]
  },
  {
   "cell_type": "code",
   "execution_count": 14,
   "metadata": {},
   "outputs": [
    {
     "name": "stdout",
     "output_type": "stream",
     "text": [
      "Steps per epoch: 3043.0\n"
     ]
    }
   ],
   "source": [
    "# calculate steps_per_epoch\n",
    "steps_per_epoch = training_sample_size * (1 - validation_split) // batch_size\n",
    "print(\"Steps per epoch: {}\".format(steps_per_epoch))"
   ]
  },
  {
   "cell_type": "code",
   "execution_count": null,
   "metadata": {},
   "outputs": [],
   "source": []
  },
  {
   "cell_type": "code",
   "execution_count": 15,
   "metadata": {},
   "outputs": [
    {
     "data": {
      "text/plain": [
       "\"\\nlogdir_tb = os.path.join(path_logs, 'fit', inputclass[0], date)\\nip= 'localhost'\\nport = '6006'\\n\""
      ]
     },
     "execution_count": 15,
     "metadata": {},
     "output_type": "execute_result"
    }
   ],
   "source": [
    "'''\n",
    "logdir_tb = os.path.join(path_logs, 'fit', inputclass[0], date)\n",
    "ip= 'localhost'\n",
    "port = '6006'\n",
    "'''"
   ]
  },
  {
   "cell_type": "code",
   "execution_count": 16,
   "metadata": {},
   "outputs": [
    {
     "data": {
      "text/plain": [
       "\"\\n%tensorboard --logdir {logdir_tb} --host {ip}\\n# get_ipython().run_line_magic('tensorboard', '--logdir', )\\n\""
      ]
     },
     "execution_count": 16,
     "metadata": {},
     "output_type": "execute_result"
    }
   ],
   "source": [
    "'''\n",
    "%tensorboard --logdir {logdir_tb} --host {ip}\n",
    "# get_ipython().run_line_magic('tensorboard', '--logdir', )\n",
    "'''"
   ]
  },
  {
   "cell_type": "code",
   "execution_count": 17,
   "metadata": {},
   "outputs": [
    {
     "name": "stdout",
     "output_type": "stream",
     "text": [
      "nucleus exists in D:PerlmutterData\\logs\\fit\n",
      "2019_12_13 exists in D:PerlmutterData\\logs\\fit\\nucleus\n",
      "nucleus exists in D:PerlmutterData\\logs\\model\n",
      "2019_12_13 exists in D:PerlmutterData\\logs\\model\\nucleus\n"
     ]
    }
   ],
   "source": [
    "dir_checker(inputclass[0], os.path.join(path_logs, 'fit'))\n",
    "dir_checker(date, os.path.join(path_logs, 'fit', inputclass[0]))\n",
    "dir_checker(inputclass[0], os.path.join(path_logs, 'model'))\n",
    "dir_checker(date, os.path.join(path_logs, 'model', inputclass[0]))"
   ]
  },
  {
   "cell_type": "code",
   "execution_count": 18,
   "metadata": {},
   "outputs": [],
   "source": [
    "logdir = os.path.join(path_logs, 'fit', inputclass[0], date, timestamp)\n",
    "\n",
    "# Hyperparameter\n",
    "hparam_tuning_path = os.path.join(logdir, 'hyparam_tuning')\n",
    "\n",
    "HP_DROPOUT = hp.HParam('dropout', hp.RealInterval(0.5, 0.7))\n",
    "hparams_list = [HP_DROPOUT]\n",
    "\n",
    "with tf.summary.create_file_writer(hparam_tuning_path).as_default():\n",
    "    hp.hparams_config(\n",
    "    hparams=[HP_DROPOUT],\n",
    "    metrics=[hp.Metric('accuracy', display_name='Accuracy'), \n",
    "             hp.Metric('iou_coef', display_name='IoU_Coef'),\n",
    "             hp.Metric('dice_coef', display_name='Dice_Coef')],\n",
    "  )\n",
    "    "
   ]
  },
  {
   "cell_type": "code",
   "execution_count": 19,
   "metadata": {},
   "outputs": [],
   "source": [
    "def run(run_name, path_logs, hparams):\n",
    "    \n",
    "    run_dir = os.path.join(hparam_tuning_path, run_name)\n",
    "    \n",
    "    # checkpoint\n",
    "    modelfilename = 'model_' + timestamp + '.h5'\n",
    "    dir_checker(timestamp, os.path.join(path_logs, 'model', inputclass[0], date))\n",
    "    dir_checker(run_name, os.path.join(path_logs, 'model', inputclass[0], date, timestamp))\n",
    "    modelfile_path = os.path.join(path_logs, 'model', inputclass[0], date, timestamp, run_name, modelfilename)\n",
    "\n",
    "    checkpointer = ModelCheckpoint(filepath = modelfile_path, \n",
    "                                   monitor = 'val_loss', \n",
    "                                   mode = 'min', \n",
    "                                   verbose = 1, \n",
    "                                   save_best_only = True)\n",
    "\n",
    "    # early stopping \n",
    "    early_stopping = EarlyStopping(monitor='val_loss',\n",
    "                               patience=8,\n",
    "                               verbose=1,\n",
    "                               min_delta=1e-4)\n",
    "\n",
    "    # learning rate adjustment\n",
    "    reduceLR = ReduceLROnPlateau(monitor='val_loss',\n",
    "                        factor=0.1,\n",
    "                        patience=4,\n",
    "                        verbose=1,\n",
    "                        min_delta=1e-4)\n",
    "\n",
    "    # tensorboard\n",
    "    \n",
    "    file_writer = create_file_writer(os.path.join(path_logs, 'fit', inputclass[0], date, timestamp, \"metrics\"))\n",
    "    file_writer.set_as_default()\n",
    "\n",
    "    metrics = ['accuracy', iou_coef, dice_coef]\n",
    "    \n",
    "    tensorboard_callback = TensorBoard(log_dir = logdir, \n",
    "                                       profile_batch = 0, \n",
    "                                       update_freq= 500,\n",
    "                                       histogram_freq = 1\n",
    "                                       )\n",
    "\n",
    "    # compile callbacks\n",
    "    callbacks = [checkpointer, tensorboard_callback, early_stopping, reduceLR]\n",
    "    \n",
    "    with tf.summary.create_file_writer(run_dir).as_default():\n",
    "        hp.hparams(hparams)  # record the values used in this trial\n",
    "        \n",
    "        # prepare the model\n",
    "        unetmodel = UNet_hp(shape = (IMG_HEIGHT, IMG_WIDTH), \n",
    "                         lr = learning_rate, \n",
    "                         loss = loss,\n",
    "                         metrics = metrics,\n",
    "                         hparams = hparams,\n",
    "                            hparams_list = hparams_list, \n",
    "                        )\n",
    "        \n",
    "        # train the model\n",
    "        unetmodel.fit_generator(\n",
    "                            generator = train_generator, \n",
    "                            validation_data = valid_generator,\n",
    "                            validation_steps = validation_steps,\n",
    "                            steps_per_epoch = steps_per_epoch,\n",
    "                            epochs = epoch,  \n",
    "                            callbacks = callbacks,\n",
    "                            verbose = 1, \n",
    "                            )\n",
    "        _, accuracy, iou, dice,  = unetmodel.evaluate_generator(valid_generator, steps = 50, verbose=1)\n",
    "        tf.summary.scalar('accuracy', accuracy, step = 1)\n",
    "        tf.summary.scalar('iou_coef', iou, step = 1)\n",
    "        tf.summary.scalar('dice_coef', dice, step = 1)"
   ]
  },
  {
   "cell_type": "code",
   "execution_count": 20,
   "metadata": {},
   "outputs": [
    {
     "name": "stdout",
     "output_type": "stream",
     "text": [
      "{HParam(name='dropout', domain=RealInterval(0.5, 0.7), display_name=None, description=None): 0.5}\n",
      "--- Starting trial: run-0\n",
      "{'dropout': 0.5}\n",
      "2019_12_13_17_28 does not exist in D:PerlmutterData\\logs\\model\\nucleus\\2019_12_13\n",
      "run-0 does not exist in D:PerlmutterData\\logs\\model\\nucleus\\2019_12_13\\2019_12_13_17_28\n",
      "Model: \"model_1\"\n",
      "__________________________________________________________________________________________________\n",
      "Layer (type)                    Output Shape         Param #     Connected to                     \n",
      "==================================================================================================\n",
      "input_1 (InputLayer)            [(None, None, None,  0                                            \n",
      "__________________________________________________________________________________________________\n",
      "conv2d (Conv2D)                 (None, None, None, 6 640         input_1[0][0]                    \n",
      "__________________________________________________________________________________________________\n",
      "conv2d_1 (Conv2D)               (None, None, None, 6 36928       conv2d[0][0]                     \n",
      "__________________________________________________________________________________________________\n",
      "max_pooling2d (MaxPooling2D)    (None, None, None, 6 0           conv2d_1[0][0]                   \n",
      "__________________________________________________________________________________________________\n",
      "conv2d_2 (Conv2D)               (None, None, None, 1 73856       max_pooling2d[0][0]              \n",
      "__________________________________________________________________________________________________\n",
      "conv2d_3 (Conv2D)               (None, None, None, 1 147584      conv2d_2[0][0]                   \n",
      "__________________________________________________________________________________________________\n",
      "max_pooling2d_1 (MaxPooling2D)  (None, None, None, 1 0           conv2d_3[0][0]                   \n",
      "__________________________________________________________________________________________________\n",
      "conv2d_4 (Conv2D)               (None, None, None, 2 295168      max_pooling2d_1[0][0]            \n",
      "__________________________________________________________________________________________________\n",
      "conv2d_5 (Conv2D)               (None, None, None, 2 590080      conv2d_4[0][0]                   \n",
      "__________________________________________________________________________________________________\n",
      "max_pooling2d_2 (MaxPooling2D)  (None, None, None, 2 0           conv2d_5[0][0]                   \n",
      "__________________________________________________________________________________________________\n",
      "conv2d_6 (Conv2D)               (None, None, None, 5 1180160     max_pooling2d_2[0][0]            \n",
      "__________________________________________________________________________________________________\n",
      "conv2d_7 (Conv2D)               (None, None, None, 5 2359808     conv2d_6[0][0]                   \n",
      "__________________________________________________________________________________________________\n",
      "dropout (Dropout)               (None, None, None, 5 0           conv2d_7[0][0]                   \n",
      "__________________________________________________________________________________________________\n",
      "max_pooling2d_3 (MaxPooling2D)  (None, None, None, 5 0           dropout[0][0]                    \n",
      "__________________________________________________________________________________________________\n",
      "conv2d_8 (Conv2D)               (None, None, None, 1 4719616     max_pooling2d_3[0][0]            \n",
      "__________________________________________________________________________________________________\n",
      "conv2d_9 (Conv2D)               (None, None, None, 1 9438208     conv2d_8[0][0]                   \n",
      "__________________________________________________________________________________________________\n",
      "dropout_1 (Dropout)             (None, None, None, 1 0           conv2d_9[0][0]                   \n",
      "__________________________________________________________________________________________________\n",
      "up_sampling2d (UpSampling2D)    (None, None, None, 1 0           dropout_1[0][0]                  \n",
      "__________________________________________________________________________________________________\n",
      "conv2d_10 (Conv2D)              (None, None, None, 5 2097664     up_sampling2d[0][0]              \n",
      "__________________________________________________________________________________________________\n",
      "concatenate (Concatenate)       (None, None, None, 1 0           dropout[0][0]                    \n",
      "                                                                 conv2d_10[0][0]                  \n",
      "__________________________________________________________________________________________________\n",
      "conv2d_11 (Conv2D)              (None, None, None, 5 4719104     concatenate[0][0]                \n",
      "__________________________________________________________________________________________________\n",
      "conv2d_12 (Conv2D)              (None, None, None, 5 2359808     conv2d_11[0][0]                  \n",
      "__________________________________________________________________________________________________\n",
      "up_sampling2d_1 (UpSampling2D)  (None, None, None, 5 0           conv2d_12[0][0]                  \n",
      "__________________________________________________________________________________________________\n",
      "conv2d_13 (Conv2D)              (None, None, None, 2 524544      up_sampling2d_1[0][0]            \n",
      "__________________________________________________________________________________________________\n",
      "concatenate_1 (Concatenate)     (None, None, None, 5 0           conv2d_5[0][0]                   \n",
      "                                                                 conv2d_13[0][0]                  \n",
      "__________________________________________________________________________________________________\n",
      "conv2d_14 (Conv2D)              (None, None, None, 2 1179904     concatenate_1[0][0]              \n",
      "__________________________________________________________________________________________________\n",
      "conv2d_15 (Conv2D)              (None, None, None, 2 590080      conv2d_14[0][0]                  \n",
      "__________________________________________________________________________________________________\n",
      "up_sampling2d_2 (UpSampling2D)  (None, None, None, 2 0           conv2d_15[0][0]                  \n",
      "__________________________________________________________________________________________________\n",
      "conv2d_16 (Conv2D)              (None, None, None, 1 131200      up_sampling2d_2[0][0]            \n",
      "__________________________________________________________________________________________________\n",
      "concatenate_2 (Concatenate)     (None, None, None, 2 0           conv2d_3[0][0]                   \n",
      "                                                                 conv2d_16[0][0]                  \n",
      "__________________________________________________________________________________________________\n",
      "conv2d_17 (Conv2D)              (None, None, None, 1 295040      concatenate_2[0][0]              \n",
      "__________________________________________________________________________________________________\n",
      "conv2d_18 (Conv2D)              (None, None, None, 1 147584      conv2d_17[0][0]                  \n",
      "__________________________________________________________________________________________________\n",
      "up_sampling2d_3 (UpSampling2D)  (None, None, None, 1 0           conv2d_18[0][0]                  \n",
      "__________________________________________________________________________________________________\n",
      "conv2d_19 (Conv2D)              (None, None, None, 6 32832       up_sampling2d_3[0][0]            \n",
      "__________________________________________________________________________________________________\n",
      "concatenate_3 (Concatenate)     (None, None, None, 1 0           conv2d_1[0][0]                   \n",
      "                                                                 conv2d_19[0][0]                  \n",
      "__________________________________________________________________________________________________\n",
      "conv2d_20 (Conv2D)              (None, None, None, 6 73792       concatenate_3[0][0]              \n",
      "__________________________________________________________________________________________________\n",
      "conv2d_21 (Conv2D)              (None, None, None, 6 36928       conv2d_20[0][0]                  \n",
      "__________________________________________________________________________________________________\n",
      "conv2d_22 (Conv2D)              (None, None, None, 1 65          conv2d_21[0][0]                  \n",
      "==================================================================================================\n",
      "Total params: 31,030,593\n",
      "Trainable params: 31,030,593\n",
      "Non-trainable params: 0\n",
      "__________________________________________________________________________________________________\n"
     ]
    },
    {
     "name": "stdout",
     "output_type": "stream",
     "text": [
      "Epoch 1/100\n",
      "3042/3043 [============================>.] - ETA: 0s - loss: 0.1182 - accuracy: 0.9508 - iou_coef: 0.3121 - dice_coef: 0.3382\n",
      "Epoch 00001: val_loss improved from inf to 1.42507, saving model to D:PerlmutterData\\logs\\model\\nucleus\\2019_12_13\\2019_12_13_17_28\\run-0\\model_2019_12_13_17_28.h5\n",
      "3043/3043 [==============================] - 3027s 995ms/step - loss: 0.1182 - accuracy: 0.9508 - iou_coef: 0.3121 - dice_coef: 0.3382 - val_loss: 1.4251 - val_accuracy: 0.6888 - val_iou_coef: 0.0636 - val_dice_coef: 0.0881\n",
      "Epoch 2/100\n",
      "3042/3043 [============================>.] - ETA: 0s - loss: 0.0361 - accuracy: 0.9868 - iou_coef: 0.3836 - dice_coef: 0.3995\n",
      "Epoch 00002: val_loss did not improve from 1.42507\n",
      "3043/3043 [==============================] - 3273s 1s/step - loss: 0.0361 - accuracy: 0.9868 - iou_coef: 0.3836 - dice_coef: 0.3995 - val_loss: 1.8252 - val_accuracy: 0.7204 - val_iou_coef: 0.1257 - val_dice_coef: 0.1530\n",
      "Epoch 3/100\n",
      "3042/3043 [============================>.] - ETA: 0s - loss: 0.0253 - accuracy: 0.9905 - iou_coef: 0.4143 - dice_coef: 0.4278\n",
      "Epoch 00003: val_loss improved from 1.42507 to 0.64958, saving model to D:PerlmutterData\\logs\\model\\nucleus\\2019_12_13\\2019_12_13_17_28\\run-0\\model_2019_12_13_17_28.h5\n",
      "3043/3043 [==============================] - 3030s 996ms/step - loss: 0.0253 - accuracy: 0.9905 - iou_coef: 0.4143 - dice_coef: 0.4278 - val_loss: 0.6496 - val_accuracy: 0.8537 - val_iou_coef: 0.3754 - val_dice_coef: 0.4387\n",
      "Epoch 4/100\n",
      "3042/3043 [============================>.] - ETA: 0s - loss: 0.0196 - accuracy: 0.9923 - iou_coef: 0.4449 - dice_coef: 0.4569\n",
      "Epoch 00004: val_loss did not improve from 0.64958\n",
      "3043/3043 [==============================] - 3019s 992ms/step - loss: 0.0196 - accuracy: 0.9923 - iou_coef: 0.4449 - dice_coef: 0.4569 - val_loss: 1.1696 - val_accuracy: 0.7846 - val_iou_coef: 0.3398 - val_dice_coef: 0.4021\n",
      "Epoch 5/100\n",
      "3042/3043 [============================>.] - ETA: 0s - loss: 0.0188 - accuracy: 0.9925 - iou_coef: 0.4622 - dice_coef: 0.4739\n",
      "Epoch 00005: val_loss did not improve from 0.64958\n",
      "3043/3043 [==============================] - 3010s 989ms/step - loss: 0.0188 - accuracy: 0.9925 - iou_coef: 0.4622 - dice_coef: 0.4739 - val_loss: 1.0484 - val_accuracy: 0.8229 - val_iou_coef: 0.3994 - val_dice_coef: 0.4565\n",
      "Epoch 6/100\n",
      "3042/3043 [============================>.] - ETA: 0s - loss: 0.0146 - accuracy: 0.9939 - iou_coef: 0.4781 - dice_coef: 0.4888\n",
      "Epoch 00006: val_loss did not improve from 0.64958\n",
      "3043/3043 [==============================] - 3011s 989ms/step - loss: 0.0146 - accuracy: 0.9939 - iou_coef: 0.4781 - dice_coef: 0.4888 - val_loss: 0.9899 - val_accuracy: 0.8218 - val_iou_coef: 0.4468 - val_dice_coef: 0.5089\n",
      "Epoch 7/100\n",
      "3042/3043 [============================>.] - ETA: 0s - loss: 0.0137 - accuracy: 0.9942 - iou_coef: 0.4893 - dice_coef: 0.4998\n",
      "Epoch 00007: val_loss improved from 0.64958 to 0.10900, saving model to D:PerlmutterData\\logs\\model\\nucleus\\2019_12_13\\2019_12_13_17_28\\run-0\\model_2019_12_13_17_28.h5\n",
      "3043/3043 [==============================] - 3013s 990ms/step - loss: 0.0137 - accuracy: 0.9942 - iou_coef: 0.4893 - dice_coef: 0.4997 - val_loss: 0.1090 - val_accuracy: 0.9661 - val_iou_coef: 0.5878 - val_dice_coef: 0.6158\n",
      "Epoch 8/100\n",
      "3042/3043 [============================>.] - ETA: 0s - loss: 0.0138 - accuracy: 0.9941 - iou_coef: 0.5000 - dice_coef: 0.5104\n",
      "Epoch 00008: val_loss did not improve from 0.10900\n",
      "3043/3043 [==============================] - 3009s 989ms/step - loss: 0.0138 - accuracy: 0.9941 - iou_coef: 0.5000 - dice_coef: 0.5104 - val_loss: 0.8805 - val_accuracy: 0.8415 - val_iou_coef: 0.4520 - val_dice_coef: 0.5149\n",
      "Epoch 9/100\n",
      "3042/3043 [============================>.] - ETA: 0s - loss: 0.0118 - accuracy: 0.9948 - iou_coef: 0.5079 - dice_coef: 0.5177\n",
      "Epoch 00009: val_loss did not improve from 0.10900\n",
      "3043/3043 [==============================] - 3012s 990ms/step - loss: 0.0118 - accuracy: 0.9948 - iou_coef: 0.5078 - dice_coef: 0.5176 - val_loss: 0.4101 - val_accuracy: 0.9121 - val_iou_coef: 0.6152 - val_dice_coef: 0.6592\n",
      "Epoch 10/100\n",
      "3042/3043 [============================>.] - ETA: 0s - loss: 0.0126 - accuracy: 0.9946 - iou_coef: 0.5115 - dice_coef: 0.5213\n",
      "Epoch 00010: val_loss did not improve from 0.10900\n",
      "3043/3043 [==============================] - 3011s 989ms/step - loss: 0.0126 - accuracy: 0.9946 - iou_coef: 0.5115 - dice_coef: 0.5213 - val_loss: 0.3874 - val_accuracy: 0.9210 - val_iou_coef: 0.6283 - val_dice_coef: 0.6746\n",
      "Epoch 11/100\n",
      "3042/3043 [============================>.] - ETA: 0s - loss: 0.0101 - accuracy: 0.9954 - iou_coef: 0.5331 - dice_coef: 0.5423\n",
      "Epoch 00011: val_loss did not improve from 0.10900\n",
      "\n",
      "Epoch 00011: ReduceLROnPlateau reducing learning rate to 9.999999747378752e-07.\n",
      "3043/3043 [==============================] - 3008s 988ms/step - loss: 0.0101 - accuracy: 0.9954 - iou_coef: 0.5331 - dice_coef: 0.5423 - val_loss: 1.4914 - val_accuracy: 0.8135 - val_iou_coef: 0.4897 - val_dice_coef: 0.5466\n",
      "Epoch 12/100\n",
      "3042/3043 [============================>.] - ETA: 0s - loss: 0.0088 - accuracy: 0.9958 - iou_coef: 0.5452 - dice_coef: 0.5538\n",
      "Epoch 00012: val_loss did not improve from 0.10900\n",
      "3043/3043 [==============================] - 3011s 989ms/step - loss: 0.0088 - accuracy: 0.9958 - iou_coef: 0.5452 - dice_coef: 0.5538 - val_loss: 0.3398 - val_accuracy: 0.9341 - val_iou_coef: 0.6049 - val_dice_coef: 0.6422\n",
      "Epoch 13/100\n",
      "3042/3043 [============================>.] - ETA: 0s - loss: 0.0085 - accuracy: 0.9959 - iou_coef: 0.5538 - dice_coef: 0.5623\n",
      "Epoch 00013: val_loss did not improve from 0.10900\n",
      "3043/3043 [==============================] - 3010s 989ms/step - loss: 0.0085 - accuracy: 0.9959 - iou_coef: 0.5538 - dice_coef: 0.5624 - val_loss: 0.4408 - val_accuracy: 0.9197 - val_iou_coef: 0.6481 - val_dice_coef: 0.6954\n",
      "Epoch 14/100\n",
      "3042/3043 [============================>.] - ETA: 0s - loss: 0.0085 - accuracy: 0.9959 - iou_coef: 0.5568 - dice_coef: 0.5655\n",
      "Epoch 00014: val_loss did not improve from 0.10900\n",
      "3043/3043 [==============================] - 3007s 988ms/step - loss: 0.0085 - accuracy: 0.9959 - iou_coef: 0.5568 - dice_coef: 0.5655 - val_loss: 0.4361 - val_accuracy: 0.9189 - val_iou_coef: 0.6435 - val_dice_coef: 0.6903\n",
      "Epoch 15/100\n",
      "3042/3043 [============================>.] - ETA: 0s - loss: 0.0084 - accuracy: 0.9959 - iou_coef: 0.5571 - dice_coef: 0.5657\n",
      "Epoch 00015: val_loss did not improve from 0.10900\n",
      "\n",
      "Epoch 00015: ReduceLROnPlateau reducing learning rate to 9.999999974752428e-08.\n",
      "3043/3043 [==============================] - 3009s 989ms/step - loss: 0.0084 - accuracy: 0.9959 - iou_coef: 0.5571 - dice_coef: 0.5657 - val_loss: 0.4338 - val_accuracy: 0.9145 - val_iou_coef: 0.6256 - val_dice_coef: 0.6684\n",
      "Epoch 00015: early stopping\n",
      "50/50 [==============================] - 20s 397ms/step - loss: 0.3988 - accuracy: 0.9198 - iou_coef: 0.6262 - dice_coef: 0.6678\n",
      "{HParam(name='dropout', domain=RealInterval(0.5, 0.7), display_name=None, description=None): 0.7}\n",
      "--- Starting trial: run-1\n",
      "{'dropout': 0.7}\n",
      "2019_12_13_17_28 exists in D:PerlmutterData\\logs\\model\\nucleus\\2019_12_13\n",
      "run-1 does not exist in D:PerlmutterData\\logs\\model\\nucleus\\2019_12_13\\2019_12_13_17_28\n",
      "WARNING:tensorflow:Large dropout rate: 0.7 (>0.5). In TensorFlow 2.x, dropout() uses dropout rate instead of keep_prob. Please ensure that this is intended.\n",
      "WARNING:tensorflow:Large dropout rate: 0.7 (>0.5). In TensorFlow 2.x, dropout() uses dropout rate instead of keep_prob. Please ensure that this is intended.\n",
      "Model: \"model_3\"\n",
      "__________________________________________________________________________________________________\n",
      "Layer (type)                    Output Shape         Param #     Connected to                     \n",
      "==================================================================================================\n",
      "input_2 (InputLayer)            [(None, None, None,  0                                            \n",
      "__________________________________________________________________________________________________\n",
      "conv2d_23 (Conv2D)              (None, None, None, 6 640         input_2[0][0]                    \n",
      "__________________________________________________________________________________________________\n",
      "conv2d_24 (Conv2D)              (None, None, None, 6 36928       conv2d_23[0][0]                  \n",
      "__________________________________________________________________________________________________\n",
      "max_pooling2d_4 (MaxPooling2D)  (None, None, None, 6 0           conv2d_24[0][0]                  \n",
      "__________________________________________________________________________________________________\n",
      "conv2d_25 (Conv2D)              (None, None, None, 1 73856       max_pooling2d_4[0][0]            \n",
      "__________________________________________________________________________________________________\n",
      "conv2d_26 (Conv2D)              (None, None, None, 1 147584      conv2d_25[0][0]                  \n",
      "__________________________________________________________________________________________________\n",
      "max_pooling2d_5 (MaxPooling2D)  (None, None, None, 1 0           conv2d_26[0][0]                  \n",
      "__________________________________________________________________________________________________\n",
      "conv2d_27 (Conv2D)              (None, None, None, 2 295168      max_pooling2d_5[0][0]            \n",
      "__________________________________________________________________________________________________\n",
      "conv2d_28 (Conv2D)              (None, None, None, 2 590080      conv2d_27[0][0]                  \n",
      "__________________________________________________________________________________________________\n",
      "max_pooling2d_6 (MaxPooling2D)  (None, None, None, 2 0           conv2d_28[0][0]                  \n",
      "__________________________________________________________________________________________________\n",
      "conv2d_29 (Conv2D)              (None, None, None, 5 1180160     max_pooling2d_6[0][0]            \n",
      "__________________________________________________________________________________________________\n",
      "conv2d_30 (Conv2D)              (None, None, None, 5 2359808     conv2d_29[0][0]                  \n",
      "__________________________________________________________________________________________________\n",
      "dropout_2 (Dropout)             (None, None, None, 5 0           conv2d_30[0][0]                  \n",
      "__________________________________________________________________________________________________\n",
      "max_pooling2d_7 (MaxPooling2D)  (None, None, None, 5 0           dropout_2[0][0]                  \n",
      "__________________________________________________________________________________________________\n",
      "conv2d_31 (Conv2D)              (None, None, None, 1 4719616     max_pooling2d_7[0][0]            \n",
      "__________________________________________________________________________________________________\n",
      "conv2d_32 (Conv2D)              (None, None, None, 1 9438208     conv2d_31[0][0]                  \n",
      "__________________________________________________________________________________________________\n",
      "dropout_3 (Dropout)             (None, None, None, 1 0           conv2d_32[0][0]                  \n",
      "__________________________________________________________________________________________________\n",
      "up_sampling2d_4 (UpSampling2D)  (None, None, None, 1 0           dropout_3[0][0]                  \n",
      "__________________________________________________________________________________________________\n",
      "conv2d_33 (Conv2D)              (None, None, None, 5 2097664     up_sampling2d_4[0][0]            \n",
      "__________________________________________________________________________________________________\n",
      "concatenate_4 (Concatenate)     (None, None, None, 1 0           dropout_2[0][0]                  \n",
      "                                                                 conv2d_33[0][0]                  \n",
      "__________________________________________________________________________________________________\n",
      "conv2d_34 (Conv2D)              (None, None, None, 5 4719104     concatenate_4[0][0]              \n",
      "__________________________________________________________________________________________________\n",
      "conv2d_35 (Conv2D)              (None, None, None, 5 2359808     conv2d_34[0][0]                  \n",
      "__________________________________________________________________________________________________\n",
      "up_sampling2d_5 (UpSampling2D)  (None, None, None, 5 0           conv2d_35[0][0]                  \n",
      "__________________________________________________________________________________________________\n",
      "conv2d_36 (Conv2D)              (None, None, None, 2 524544      up_sampling2d_5[0][0]            \n",
      "__________________________________________________________________________________________________\n",
      "concatenate_5 (Concatenate)     (None, None, None, 5 0           conv2d_28[0][0]                  \n",
      "                                                                 conv2d_36[0][0]                  \n",
      "__________________________________________________________________________________________________\n",
      "conv2d_37 (Conv2D)              (None, None, None, 2 1179904     concatenate_5[0][0]              \n",
      "__________________________________________________________________________________________________\n",
      "conv2d_38 (Conv2D)              (None, None, None, 2 590080      conv2d_37[0][0]                  \n",
      "__________________________________________________________________________________________________\n",
      "up_sampling2d_6 (UpSampling2D)  (None, None, None, 2 0           conv2d_38[0][0]                  \n",
      "__________________________________________________________________________________________________\n",
      "conv2d_39 (Conv2D)              (None, None, None, 1 131200      up_sampling2d_6[0][0]            \n",
      "__________________________________________________________________________________________________\n",
      "concatenate_6 (Concatenate)     (None, None, None, 2 0           conv2d_26[0][0]                  \n",
      "                                                                 conv2d_39[0][0]                  \n",
      "__________________________________________________________________________________________________\n",
      "conv2d_40 (Conv2D)              (None, None, None, 1 295040      concatenate_6[0][0]              \n",
      "__________________________________________________________________________________________________\n",
      "conv2d_41 (Conv2D)              (None, None, None, 1 147584      conv2d_40[0][0]                  \n",
      "__________________________________________________________________________________________________\n",
      "up_sampling2d_7 (UpSampling2D)  (None, None, None, 1 0           conv2d_41[0][0]                  \n",
      "__________________________________________________________________________________________________\n",
      "conv2d_42 (Conv2D)              (None, None, None, 6 32832       up_sampling2d_7[0][0]            \n",
      "__________________________________________________________________________________________________\n",
      "concatenate_7 (Concatenate)     (None, None, None, 1 0           conv2d_24[0][0]                  \n",
      "                                                                 conv2d_42[0][0]                  \n",
      "__________________________________________________________________________________________________\n",
      "conv2d_43 (Conv2D)              (None, None, None, 6 73792       concatenate_7[0][0]              \n",
      "__________________________________________________________________________________________________\n",
      "conv2d_44 (Conv2D)              (None, None, None, 6 36928       conv2d_43[0][0]                  \n",
      "__________________________________________________________________________________________________\n",
      "conv2d_45 (Conv2D)              (None, None, None, 1 65          conv2d_44[0][0]                  \n",
      "==================================================================================================\n",
      "Total params: 31,030,593\n",
      "Trainable params: 31,030,593\n",
      "Non-trainable params: 0\n",
      "__________________________________________________________________________________________________\n"
     ]
    },
    {
     "name": "stdout",
     "output_type": "stream",
     "text": [
      "Epoch 1/100\n",
      "WARNING:tensorflow:Large dropout rate: 0.7 (>0.5). In TensorFlow 2.x, dropout() uses dropout rate instead of keep_prob. Please ensure that this is intended.\n",
      "WARNING:tensorflow:Large dropout rate: 0.7 (>0.5). In TensorFlow 2.x, dropout() uses dropout rate instead of keep_prob. Please ensure that this is intended.\n",
      "   1/3043 [..............................] - ETA: 1:15:15 - loss: 0.4825 - accuracy: 0.8218 - iou_coef: 0.0655 - dice_coef: 0.1101WARNING:tensorflow:Large dropout rate: 0.7 (>0.5). In TensorFlow 2.x, dropout() uses dropout rate instead of keep_prob. Please ensure that this is intended.\n",
      "3042/3043 [============================>.] - ETA: 0s - loss: 0.1431 - accuracy: 0.9401 - iou_coef: 0.2939 - dice_coef: 0.3252\n",
      "Epoch 00001: val_loss improved from inf to 0.58333, saving model to D:PerlmutterData\\logs\\model\\nucleus\\2019_12_13\\2019_12_13_17_28\\run-1\\model_2019_12_13_17_28.h5\n",
      "3043/3043 [==============================] - 3002s 987ms/step - loss: 0.1430 - accuracy: 0.9402 - iou_coef: 0.2939 - dice_coef: 0.3253 - val_loss: 0.5833 - val_accuracy: 0.7634 - val_iou_coef: 0.1442 - val_dice_coef: 0.2080\n",
      "Epoch 2/100\n",
      "3042/3043 [============================>.] - ETA: 0s - loss: 0.0446 - accuracy: 0.9838 - iou_coef: 0.3754 - dice_coef: 0.3931\n",
      "Epoch 00002: val_loss improved from 0.58333 to 0.31961, saving model to D:PerlmutterData\\logs\\model\\nucleus\\2019_12_13\\2019_12_13_17_28\\run-1\\model_2019_12_13_17_28.h5\n",
      "3043/3043 [==============================] - 3003s 987ms/step - loss: 0.0446 - accuracy: 0.9838 - iou_coef: 0.3754 - dice_coef: 0.3931 - val_loss: 0.3196 - val_accuracy: 0.8796 - val_iou_coef: 0.3412 - val_dice_coef: 0.4067\n",
      "Epoch 3/100\n",
      "3042/3043 [============================>.] - ETA: 0s - loss: 0.0357 - accuracy: 0.9871 - iou_coef: 0.4029 - dice_coef: 0.4186\n",
      "Epoch 00003: val_loss improved from 0.31961 to 0.16326, saving model to D:PerlmutterData\\logs\\model\\nucleus\\2019_12_13\\2019_12_13_17_28\\run-1\\model_2019_12_13_17_28.h5\n",
      "3043/3043 [==============================] - 3001s 986ms/step - loss: 0.0357 - accuracy: 0.9871 - iou_coef: 0.4030 - dice_coef: 0.4187 - val_loss: 0.1633 - val_accuracy: 0.9453 - val_iou_coef: 0.3872 - val_dice_coef: 0.4228\n",
      "Epoch 4/100\n",
      "3042/3043 [============================>.] - ETA: 0s - loss: 0.0244 - accuracy: 0.9907 - iou_coef: 0.4397 - dice_coef: 0.4530\n",
      "Epoch 00004: val_loss did not improve from 0.16326\n",
      "3043/3043 [==============================] - 3001s 986ms/step - loss: 0.0244 - accuracy: 0.9907 - iou_coef: 0.4398 - dice_coef: 0.4531 - val_loss: 0.2371 - val_accuracy: 0.9296 - val_iou_coef: 0.4291 - val_dice_coef: 0.4728\n",
      "Epoch 5/100\n",
      "3042/3043 [============================>.] - ETA: 0s - loss: 0.0229 - accuracy: 0.9911 - iou_coef: 0.4543 - dice_coef: 0.4673\n",
      "Epoch 00005: val_loss did not improve from 0.16326\n",
      "3043/3043 [==============================] - 2999s 985ms/step - loss: 0.0229 - accuracy: 0.9911 - iou_coef: 0.4543 - dice_coef: 0.4674 - val_loss: 0.5523 - val_accuracy: 0.8612 - val_iou_coef: 0.3577 - val_dice_coef: 0.4199\n",
      "Epoch 6/100\n",
      "3042/3043 [============================>.] - ETA: 0s - loss: 0.0180 - accuracy: 0.9928 - iou_coef: 0.4698 - dice_coef: 0.4814\n",
      "Epoch 00006: val_loss did not improve from 0.16326\n",
      "3043/3043 [==============================] - 3000s 986ms/step - loss: 0.0180 - accuracy: 0.9928 - iou_coef: 0.4697 - dice_coef: 0.4814 - val_loss: 0.2175 - val_accuracy: 0.9333 - val_iou_coef: 0.4524 - val_dice_coef: 0.4915\n",
      "Epoch 7/100\n",
      "3042/3043 [============================>.] - ETA: 0s - loss: 0.0235 - accuracy: 0.9913 - iou_coef: 0.4356 - dice_coef: 0.4480\n",
      "Epoch 00007: val_loss improved from 0.16326 to 0.10522, saving model to D:PerlmutterData\\logs\\model\\nucleus\\2019_12_13\\2019_12_13_17_28\\run-1\\model_2019_12_13_17_28.h5\n",
      "3043/3043 [==============================] - 3000s 986ms/step - loss: 0.0235 - accuracy: 0.9913 - iou_coef: 0.4356 - dice_coef: 0.4480 - val_loss: 0.1052 - val_accuracy: 0.9662 - val_iou_coef: 0.4864 - val_dice_coef: 0.5205\n",
      "Epoch 8/100\n",
      "3042/3043 [============================>.] - ETA: 0s - loss: 0.0155 - accuracy: 0.9936 - iou_coef: 0.4662 - dice_coef: 0.4771\n",
      "Epoch 00008: val_loss improved from 0.10522 to 0.05856, saving model to D:PerlmutterData\\logs\\model\\nucleus\\2019_12_13\\2019_12_13_17_28\\run-1\\model_2019_12_13_17_28.h5\n",
      "3043/3043 [==============================] - 3000s 986ms/step - loss: 0.0155 - accuracy: 0.9936 - iou_coef: 0.4662 - dice_coef: 0.4771 - val_loss: 0.0586 - val_accuracy: 0.9820 - val_iou_coef: 0.5417 - val_dice_coef: 0.5580\n",
      "Epoch 9/100\n",
      "3042/3043 [============================>.] - ETA: 0s - loss: 0.0147 - accuracy: 0.9939 - iou_coef: 0.4879 - dice_coef: 0.4986\n",
      "Epoch 00009: val_loss did not improve from 0.05856\n",
      "3043/3043 [==============================] - 2997s 985ms/step - loss: 0.0147 - accuracy: 0.9939 - iou_coef: 0.4880 - dice_coef: 0.4986 - val_loss: 0.1898 - val_accuracy: 0.9439 - val_iou_coef: 0.5397 - val_dice_coef: 0.5792\n",
      "Epoch 10/100\n",
      "3042/3043 [============================>.] - ETA: 0s - loss: 0.0135 - accuracy: 0.9943 - iou_coef: 0.5040 - dice_coef: 0.5143\n",
      "Epoch 00010: val_loss did not improve from 0.05856\n",
      "3043/3043 [==============================] - 2995s 984ms/step - loss: 0.0135 - accuracy: 0.9943 - iou_coef: 0.5040 - dice_coef: 0.5143 - val_loss: 0.2039 - val_accuracy: 0.9389 - val_iou_coef: 0.5632 - val_dice_coef: 0.6028\n",
      "Epoch 11/100\n",
      "3042/3043 [============================>.] - ETA: 0s - loss: 0.0127 - accuracy: 0.9945 - iou_coef: 0.5128 - dice_coef: 0.5230\n",
      "Epoch 00011: val_loss did not improve from 0.05856\n",
      "3043/3043 [==============================] - 2992s 983ms/step - loss: 0.0127 - accuracy: 0.9945 - iou_coef: 0.5129 - dice_coef: 0.5230 - val_loss: 0.2834 - val_accuracy: 0.9237 - val_iou_coef: 0.5721 - val_dice_coef: 0.6175\n",
      "Epoch 12/100\n",
      "3042/3043 [============================>.] - ETA: 0s - loss: 0.0120 - accuracy: 0.9947 - iou_coef: 0.5182 - dice_coef: 0.5281\n",
      "Epoch 00012: val_loss did not improve from 0.05856\n",
      "\n",
      "Epoch 00012: ReduceLROnPlateau reducing learning rate to 9.999999747378752e-07.\n",
      "3043/3043 [==============================] - 2994s 984ms/step - loss: 0.0120 - accuracy: 0.9947 - iou_coef: 0.5182 - dice_coef: 0.5281 - val_loss: 0.3184 - val_accuracy: 0.9124 - val_iou_coef: 0.5240 - val_dice_coef: 0.5686\n",
      "Epoch 13/100\n",
      "3042/3043 [============================>.] - ETA: 0s - loss: 0.0097 - accuracy: 0.9955 - iou_coef: 0.5338 - dice_coef: 0.5429\n",
      "Epoch 00013: val_loss did not improve from 0.05856\n",
      "3043/3043 [==============================] - 2994s 984ms/step - loss: 0.0097 - accuracy: 0.9955 - iou_coef: 0.5338 - dice_coef: 0.5429 - val_loss: 0.1233 - val_accuracy: 0.9698 - val_iou_coef: 0.6265 - val_dice_coef: 0.6500\n",
      "Epoch 14/100\n",
      "3042/3043 [============================>.] - ETA: 0s - loss: 0.0096 - accuracy: 0.9955 - iou_coef: 0.5394 - dice_coef: 0.5485\n",
      "Epoch 00014: val_loss did not improve from 0.05856\n",
      "3043/3043 [==============================] - 2997s 985ms/step - loss: 0.0096 - accuracy: 0.9955 - iou_coef: 0.5394 - dice_coef: 0.5485 - val_loss: 0.1267 - val_accuracy: 0.9648 - val_iou_coef: 0.6527 - val_dice_coef: 0.6761\n",
      "Epoch 15/100\n",
      "3042/3043 [============================>.] - ETA: 0s - loss: 0.0094 - accuracy: 0.9956 - iou_coef: 0.5411 - dice_coef: 0.5502\n",
      "Epoch 00015: val_loss did not improve from 0.05856\n",
      "3043/3043 [==============================] - 2994s 984ms/step - loss: 0.0094 - accuracy: 0.9956 - iou_coef: 0.5411 - dice_coef: 0.5502 - val_loss: 0.1098 - val_accuracy: 0.9706 - val_iou_coef: 0.6569 - val_dice_coef: 0.6798\n",
      "Epoch 16/100\n",
      "3042/3043 [============================>.] - ETA: 0s - loss: 0.0093 - accuracy: 0.9956 - iou_coef: 0.5465 - dice_coef: 0.5555\n",
      "Epoch 00016: val_loss did not improve from 0.05856\n",
      "\n",
      "Epoch 00016: ReduceLROnPlateau reducing learning rate to 9.999999974752428e-08.\n",
      "3043/3043 [==============================] - 2993s 983ms/step - loss: 0.0093 - accuracy: 0.9956 - iou_coef: 0.5465 - dice_coef: 0.5555 - val_loss: 0.0592 - val_accuracy: 0.9817 - val_iou_coef: 0.6536 - val_dice_coef: 0.6715\n",
      "Epoch 00016: early stopping\n",
      "50/50 [==============================] - 21s 428ms/step - loss: 0.0631 - accuracy: 0.9820 - iou_coef: 0.6603 - dice_coef: 0.6776\n"
     ]
    }
   ],
   "source": [
    "session_num = 0\n",
    "\n",
    "for dropout_rate in (HP_DROPOUT.domain.min_value, HP_DROPOUT.domain.max_value):\n",
    "    hparams = {\n",
    "      HP_DROPOUT: dropout_rate,\n",
    "    }\n",
    "    print(hparams)\n",
    "    run_name = \"run-%d\" % session_num\n",
    "    print('--- Starting trial: %s' % run_name)\n",
    "    print({h.name: hparams[h] for h in hparams})\n",
    "    \n",
    "    run(run_name, path_logs, hparams)\n",
    "    session_num += 1\n"
   ]
  },
  {
   "cell_type": "markdown",
   "metadata": {},
   "source": [
    "!nvidia-smi"
   ]
  }
 ],
 "metadata": {
  "file_extension": ".py",
  "kernelspec": {
   "display_name": "tfdl02",
   "language": "python",
   "name": "tfdl02"
  },
  "language_info": {
   "codemirror_mode": {
    "name": "ipython",
    "version": 3
   },
   "file_extension": ".py",
   "mimetype": "text/x-python",
   "name": "python",
   "nbconvert_exporter": "python",
   "pygments_lexer": "ipython3",
   "version": "3.6.9"
  },
  "mimetype": "text/x-python",
  "name": "python",
  "npconvert_exporter": "python",
  "pygments_lexer": "ipython3",
  "version": 3
 },
 "nbformat": 4,
 "nbformat_minor": 2
}
