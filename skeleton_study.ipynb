{
 "cells": [
  {
   "cell_type": "code",
   "execution_count": 1,
   "metadata": {},
   "outputs": [],
   "source": [
    "import os, sys, re, io\n",
    "import numpy as np\n",
    "import pandas as pd\n",
    "from tqdm import tqdm\n",
    "import time\n",
    "from core.fileop import DirCheck, ListFiles\n",
    "import core.mkplot as mkplot "
   ]
  },
  {
   "cell_type": "code",
   "execution_count": 2,
   "metadata": {},
   "outputs": [],
   "source": [
    "import xml.etree.ElementTree as etree\n",
    "from core.msxml import MSXmlReader\n",
    "\n",
    "# function\n",
    "def convert_xml_csv(ippath, oppath):\n",
    "    filelist, fileabslist = ListFiles(ippath, extension='.xml')\n",
    "    \n",
    "    for idx, f in enumerate(filelist):\n",
    "        filename = f.replace('.xml', '')\n",
    "        ip = os.path.join(ippath, f) \n",
    "        op = os.path.join(oppath, filename)\n",
    "        \n",
    "        print(ip)\n",
    "        print(op)\n",
    "\n",
    "        # create path\n",
    "        if filename not in os.listdir(oppath):\n",
    "            DirCheck(op)\n",
    "            \n",
    "            # convert *.xml to *.csv \n",
    "            csv_all = MSXmlReader(ip)\n",
    "            \n",
    "            # save each spreadsheet into individual *.csv file\n",
    "            for key, value in csv_all.items():\n",
    "                oppath_tmp = os.path.join(op, key + '.csv')\n",
    "                value.to_csv(oppath_tmp, index = False)"
   ]
  },
  {
   "cell_type": "code",
   "execution_count": 3,
   "metadata": {},
   "outputs": [
    {
     "name": "stdout",
     "output_type": "stream",
     "text": [
      "D:\\PerlmutterData\\segmentation_compiled_export\\data\\raw\\skeleton\\data_d00_batch01_loc01_mito.xml\n",
      "D:\\PerlmutterData\\segmentation_compiled_export\\data\\compile\\skeleton_output\\data_d00_batch01_loc01_mito\n"
     ]
    },
    {
     "name": "stderr",
     "output_type": "stream",
     "text": [
      "100%|███████████████████████████████████████████████████████████████████████████| 1207/1207 [00:00<00:00, 77256.25it/s]\n",
      "100%|████████████████████████████████████████████████████████████████████████| 25485/25485 [00:00<00:00, 326202.03it/s]\n",
      "100%|██████████████████████████████████████████████████████████████████████████████████████| 1484/1484 [00:00<?, ?it/s]"
     ]
    },
    {
     "name": "stdout",
     "output_type": "stream",
     "text": [
      "<Element '{urn:schemas-microsoft-com:office:spreadsheet}Workbook' at 0x0000017F45FB9BD8>\n",
      "loading time: 0.8384649753570557\n"
     ]
    },
    {
     "name": "stderr",
     "output_type": "stream",
     "text": [
      "\n"
     ]
    },
    {
     "name": "stdout",
     "output_type": "stream",
     "text": [
      "D:\\PerlmutterData\\segmentation_compiled_export\\data\\raw\\skeleton\\data_d00_batch02_loc02_mito.xml\n",
      "D:\\PerlmutterData\\segmentation_compiled_export\\data\\compile\\skeleton_output\\data_d00_batch02_loc02_mito\n"
     ]
    },
    {
     "name": "stderr",
     "output_type": "stream",
     "text": [
      "100%|██████████████████████████████████████████████████████████████████████████████████████| 1331/1331 [00:00<?, ?it/s]\n",
      "100%|████████████████████████████████████████████████████████████████████████| 22588/22588 [00:00<00:00, 481867.53it/s]\n",
      "100%|██████████████████████████████████████████████████████████████████████████| 1579/1579 [00:00<00:00, 394825.68it/s]"
     ]
    },
    {
     "name": "stdout",
     "output_type": "stream",
     "text": [
      "<Element '{urn:schemas-microsoft-com:office:spreadsheet}Workbook' at 0x0000017F4D68B278>\n",
      "loading time: 0.806220531463623\n"
     ]
    },
    {
     "name": "stderr",
     "output_type": "stream",
     "text": [
      "\n"
     ]
    },
    {
     "name": "stdout",
     "output_type": "stream",
     "text": [
      "D:\\PerlmutterData\\segmentation_compiled_export\\data\\raw\\skeleton\\data_d00_batch02_loc03_mito.xml\n",
      "D:\\PerlmutterData\\segmentation_compiled_export\\data\\compile\\skeleton_output\\data_d00_batch02_loc03_mito\n"
     ]
    },
    {
     "name": "stderr",
     "output_type": "stream",
     "text": [
      "100%|████████████████████████████████████████████████████████████████████████████████████████| 720/720 [00:00<?, ?it/s]\n",
      "100%|█████████████████████████████████████████████████████████████████████████| 12644/12644 [00:00<00:00, 89911.06it/s]\n",
      "  0%|                                                                                          | 0/852 [00:00<?, ?it/s]"
     ]
    },
    {
     "name": "stdout",
     "output_type": "stream",
     "text": [
      "<Element '{urn:schemas-microsoft-com:office:spreadsheet}Workbook' at 0x0000017F46187F98>\n",
      "loading time: 0.3442082405090332\n"
     ]
    },
    {
     "name": "stderr",
     "output_type": "stream",
     "text": [
      "100%|█████████████████████████████████████████████████████████████████████████████| 852/852 [00:00<00:00, 54516.35it/s]\n",
      "100%|████████████████████████████████████████████████████████████████████████████████████████| 188/188 [00:00<?, ?it/s]\n",
      "100%|██████████████████████████████████████████████████████████████████████████████████████| 3778/3778 [00:00<?, ?it/s]\n",
      "100%|████████████████████████████████████████████████████████████████████████████████████████| 187/187 [00:00<?, ?it/s]\n"
     ]
    },
    {
     "name": "stdout",
     "output_type": "stream",
     "text": [
      "D:\\PerlmutterData\\segmentation_compiled_export\\data\\raw\\skeleton\\data_d07_batch01_loc01_mito.xml\n",
      "D:\\PerlmutterData\\segmentation_compiled_export\\data\\compile\\skeleton_output\\data_d07_batch01_loc01_mito\n",
      "<Element '{urn:schemas-microsoft-com:office:spreadsheet}Workbook' at 0x0000017F487B1F48>\n",
      "loading time: 0.06250286102294922\n",
      "D:\\PerlmutterData\\segmentation_compiled_export\\data\\raw\\skeleton\\data_d07_batch02_loc01_mito.xml\n",
      "D:\\PerlmutterData\\segmentation_compiled_export\\data\\compile\\skeleton_output\\data_d07_batch02_loc01_mito\n"
     ]
    },
    {
     "name": "stderr",
     "output_type": "stream",
     "text": [
      "100%|████████████████████████████████████████████████████████████████████████████| 417/417 [00:00<00:00, 208689.27it/s]\n",
      "100%|██████████████████████████████████████████████████████████████████████████| 9067/9067 [00:00<00:00, 412246.66it/s]\n",
      "100%|████████████████████████████████████████████████████████████████████████████| 443/443 [00:00<00:00, 445368.33it/s]"
     ]
    },
    {
     "name": "stdout",
     "output_type": "stream",
     "text": [
      "<Element '{urn:schemas-microsoft-com:office:spreadsheet}Workbook' at 0x0000017F47CC0F98>\n",
      "loading time: 0.3136739730834961\n",
      "D:\\PerlmutterData\\segmentation_compiled_export\\data\\raw\\skeleton\\data_d07_batch02_loc02_mito.xml\n",
      "D:\\PerlmutterData\\segmentation_compiled_export\\data\\compile\\skeleton_output\\data_d07_batch02_loc02_mito\n"
     ]
    },
    {
     "name": "stderr",
     "output_type": "stream",
     "text": [
      "\n",
      "100%|████████████████████████████████████████████████████████████████████████████████████████| 651/651 [00:00<?, ?it/s]\n",
      "100%|████████████████████████████████████████████████████████████████████████| 13666/13666 [00:00<00:00, 436649.06it/s]\n",
      "100%|████████████████████████████████████████████████████████████████████████████████████████| 750/750 [00:00<?, ?it/s]"
     ]
    },
    {
     "name": "stdout",
     "output_type": "stream",
     "text": [
      "<Element '{urn:schemas-microsoft-com:office:spreadsheet}Workbook' at 0x0000017F465EABD8>\n",
      "loading time: 0.3906362056732178\n",
      "D:\\PerlmutterData\\segmentation_compiled_export\\data\\raw\\skeleton\\data_d14_batch01_loc01_mito.xml\n",
      "D:\\PerlmutterData\\segmentation_compiled_export\\data\\compile\\skeleton_output\\data_d14_batch01_loc01_mito\n"
     ]
    },
    {
     "name": "stderr",
     "output_type": "stream",
     "text": [
      "\n",
      "100%|███████████████████████████████████████████████████████████████████████████| 1207/1207 [00:00<00:00, 77250.36it/s]\n",
      "100%|████████████████████████████████████████████████████████████████████████| 25485/25485 [00:00<00:00, 305047.04it/s]\n",
      "100%|██████████████████████████████████████████████████████████████████████████| 1484/1484 [00:00<00:00, 371004.78it/s]"
     ]
    },
    {
     "name": "stdout",
     "output_type": "stream",
     "text": [
      "<Element '{urn:schemas-microsoft-com:office:spreadsheet}Workbook' at 0x0000017F4805EBD8>\n",
      "loading time: 1.016770601272583\n"
     ]
    },
    {
     "name": "stderr",
     "output_type": "stream",
     "text": [
      "\n"
     ]
    },
    {
     "name": "stdout",
     "output_type": "stream",
     "text": [
      "D:\\PerlmutterData\\segmentation_compiled_export\\data\\raw\\skeleton\\data_d17_batch01_loc01_01_mito.xml\n",
      "D:\\PerlmutterData\\segmentation_compiled_export\\data\\compile\\skeleton_output\\data_d17_batch01_loc01_01_mito\n"
     ]
    },
    {
     "name": "stderr",
     "output_type": "stream",
     "text": [
      "100%|████████████████████████████████████████████████████████████████████████████████████████| 353/353 [00:00<?, ?it/s]\n",
      "100%|██████████████████████████████████████████████████████████████████████████| 9210/9210 [00:00<00:00, 294740.24it/s]\n",
      "100%|████████████████████████████████████████████████████████████████████████████████████████| 395/395 [00:00<?, ?it/s]"
     ]
    },
    {
     "name": "stdout",
     "output_type": "stream",
     "text": [
      "<Element '{urn:schemas-microsoft-com:office:spreadsheet}Workbook' at 0x0000017F4EB53DB8>\n",
      "loading time: 0.2968120574951172\n",
      "D:\\PerlmutterData\\segmentation_compiled_export\\data\\raw\\skeleton\\data_d17_batch01_loc01_02_mito.xml\n",
      "D:\\PerlmutterData\\segmentation_compiled_export\\data\\compile\\skeleton_output\\data_d17_batch01_loc01_02_mito\n"
     ]
    },
    {
     "name": "stderr",
     "output_type": "stream",
     "text": [
      "\n",
      "100%|████████████████████████████████████████████████████████████████████████████████████████| 244/244 [00:00<?, ?it/s]\n",
      "100%|██████████████████████████████████████████████████████████████████████████| 5169/5169 [00:00<00:00, 329759.34it/s]\n",
      "100%|████████████████████████████████████████████████████████████████████████████████████████| 272/272 [00:00<?, ?it/s]"
     ]
    },
    {
     "name": "stdout",
     "output_type": "stream",
     "text": [
      "<Element '{urn:schemas-microsoft-com:office:spreadsheet}Workbook' at 0x0000017F4D450228>\n",
      "loading time: 0.18756389617919922\n",
      "D:\\PerlmutterData\\segmentation_compiled_export\\data\\raw\\skeleton\\data_d21_batch01_loc01_mito.xml\n",
      "D:\\PerlmutterData\\segmentation_compiled_export\\data\\compile\\skeleton_output\\data_d21_batch01_loc01_mito\n"
     ]
    },
    {
     "name": "stderr",
     "output_type": "stream",
     "text": [
      "\n",
      "100%|████████████████████████████████████████████████████████████████████████████████████████| 606/606 [00:00<?, ?it/s]\n",
      "100%|█████████████████████████████████████████████████████████████████████████| 10536/10536 [00:00<00:00, 84268.07it/s]\n",
      "100%|█████████████████████████████████████████████████████████████████████████████| 627/627 [00:00<00:00, 40242.83it/s]"
     ]
    },
    {
     "name": "stdout",
     "output_type": "stream",
     "text": [
      "<Element '{urn:schemas-microsoft-com:office:spreadsheet}Workbook' at 0x0000017F4B86DC28>\n",
      "loading time: 0.3125159740447998\n"
     ]
    },
    {
     "name": "stderr",
     "output_type": "stream",
     "text": [
      "\n"
     ]
    }
   ],
   "source": [
    "mainpath = 'D:\\PerlmutterData'\n",
    "folder = 'segmentation_compiled_export'\n",
    "data_folder = 'data'\n",
    "data_subfolder = 'raw'\n",
    "data_cat = 'skeleton'\n",
    "\n",
    "ippath = os.path.join(mainpath, folder, data_folder, data_subfolder, data_cat)\n",
    "oppath = os.path.join(mainpath, folder, data_folder, 'compile', 'skeleton_output')\n",
    "\n",
    "\n",
    "convert_xml_csv(ippath, oppath)"
   ]
  },
  {
   "cell_type": "code",
   "execution_count": 4,
   "metadata": {},
   "outputs": [],
   "source": [
    "# load dependencies\n",
    "from core.filamentanalysis import SegStats, PNSCount\n",
    "\n",
    "# function\n",
    "def stats_calculator(ippath, oppath):\n",
    "    imglist = [x for x in os.listdir(ippath) if not x.startswith('.')]\n",
    "    \n",
    "    var = ['df_nodes', 'df_points', 'df_segments']\n",
    "    counts_combined = []\n",
    "    names= []\n",
    "    \n",
    "    for img in imglist:\n",
    "        filelist, fileabslist = ListFiles(os.path.join(ippath, img), extension='.csv')\n",
    "        \n",
    "        df_points = pd.read_csv(os.path.join(ippath, img, 'points.csv')) \n",
    "        df_segments = pd.read_csv(os.path.join(ippath, img, 'segments.csv')) \n",
    "        df_nodes = pd.read_csv(os.path.join(ippath, img,'nodes.csv'))\n",
    "        \n",
    "        opfilename = 'segments_s.csv'\n",
    "        countfilename = 'count.csv'\n",
    "        countfilename_combined = 'counts_combined.csv'\n",
    "    \n",
    "        if opfilename not in filelist:\n",
    "            df_segments_s = SegStats(df_points, df_segments)            \n",
    "            \n",
    "            DirCheck(os.path.join(oppath, img))\n",
    "            \n",
    "            df_segments_s.to_csv(os.path.join(oppath, img, opfilename), index = False)\n",
    "        \n",
    "        counts = (PNSCount(df_points, df_nodes, df_segments))\n",
    "        counts_combined.append(counts)\n",
    "        names.append(img)\n",
    "    '''\n",
    "    fileinfo = pd.read_csv(os.path.join('./par', 'lung_file_idx.csv'))\n",
    "    print(names)\n",
    "    \n",
    "    img_group = []\n",
    "    for i in names:\n",
    "        img_group.append(fileinfo[fileinfo['data_filename'] == i]['genotype'].item())\n",
    "\n",
    "    if countfilename_combined not in imglist:\n",
    "        df_counts_combined = pd.DataFrame(counts_combined, columns= ['Points', 'Nodes', 'Segments'])\n",
    "        df_counts_combined['Names'] = names\n",
    "        df_counts_combined['Genotype'] = img_group\n",
    "        \n",
    "        df_counts_combined.to_csv(os.path.join(path, countfilename_combined), index = False)\n",
    "    '''"
   ]
  },
  {
   "cell_type": "code",
   "execution_count": 5,
   "metadata": {},
   "outputs": [
    {
     "name": "stderr",
     "output_type": "stream",
     "text": [
      "100%|█████████████████████████████████████████████████████████████████████████████| 1484/1484 [00:05<00:00, 273.86it/s]\n",
      "100%|█████████████████████████████████████████████████████████████████████████████| 1579/1579 [00:05<00:00, 280.62it/s]\n",
      "100%|███████████████████████████████████████████████████████████████████████████████| 852/852 [00:03<00:00, 267.02it/s]\n",
      "100%|███████████████████████████████████████████████████████████████████████████████| 187/187 [00:00<00:00, 316.22it/s]\n",
      "100%|███████████████████████████████████████████████████████████████████████████████| 443/443 [00:01<00:00, 259.32it/s]\n",
      "100%|███████████████████████████████████████████████████████████████████████████████| 750/750 [00:02<00:00, 262.31it/s]\n",
      "100%|█████████████████████████████████████████████████████████████████████████████| 1484/1484 [00:05<00:00, 279.99it/s]\n",
      "100%|███████████████████████████████████████████████████████████████████████████████| 395/395 [00:01<00:00, 274.52it/s]\n",
      "100%|███████████████████████████████████████████████████████████████████████████████| 272/272 [00:01<00:00, 266.91it/s]\n",
      "100%|███████████████████████████████████████████████████████████████████████████████| 627/627 [00:02<00:00, 284.03it/s]\n"
     ]
    }
   ],
   "source": [
    "ippath = os.path.join(mainpath, folder, data_folder, 'compile', 'skeleton_output')\n",
    "oppath = os.path.join(mainpath, folder, data_folder, 'compile', 'skeleton_output')\n",
    "\n",
    "\n",
    "stats_calculator(ippath, oppath)"
   ]
  },
  {
   "cell_type": "code",
   "execution_count": null,
   "metadata": {},
   "outputs": [],
   "source": []
  }
 ],
 "metadata": {
  "kernelspec": {
   "display_name": "Python 3",
   "language": "python",
   "name": "python3"
  },
  "language_info": {
   "codemirror_mode": {
    "name": "ipython",
    "version": 3
   },
   "file_extension": ".py",
   "mimetype": "text/x-python",
   "name": "python",
   "nbconvert_exporter": "python",
   "pygments_lexer": "ipython3",
   "version": "3.6.9"
  }
 },
 "nbformat": 4,
 "nbformat_minor": 2
}
