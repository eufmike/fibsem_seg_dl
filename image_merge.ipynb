{
 "cells": [
  {
   "cell_type": "code",
   "execution_count": 1,
   "metadata": {},
   "outputs": [],
   "source": [
    "import os, sys\n",
    "import itertools\n",
    "import numpy as np\n",
    "from tqdm.notebook import trange\n",
    "\n",
    "# image\n",
    "import cv2\n",
    "import glob\n",
    "from skimage.io import imread, imsave, imshow\n",
    "from PIL import Image, ImageTk\n",
    "from imutils import paths\n",
    "import matplotlib.pyplot as plt \n",
    "import itertools\n",
    "import numpy as np\n",
    "from tqdm.notebook import trange, tqdm_notebook\n",
    "\n",
    "# image\n",
    "import cv2\n",
    "from skimage.io import imread, imsave, imshow\n",
    "from PIL import Image, ImageTk\n",
    "from imutils import paths\n",
    "import matplotlib.pyplot as plt\n",
    "\n",
    "# customized function\n",
    "from core.imageprep import dir_checker, random_crop, crop_generator, random_crop_batch\n",
    "from core.imageprep import create_crop_idx, crop_to_patch, construct_from_patch, create_crop_idx_whole"
   ]
  },
  {
   "cell_type": "code",
   "execution_count": 2,
   "metadata": {},
   "outputs": [
    {
     "output_type": "stream",
     "name": "stdout",
     "text": "output exists in /Volumes/LaCie_DataStorage/PerlmutterData/segmentation_compiled_export\n['/Volumes/LaCie_DataStorage/PerlmutterData/segmentation_compiled_export/input/raw_img/data_d00_batch01_loc01', '/Volumes/LaCie_DataStorage/PerlmutterData/segmentation_compiled_export/input/raw_img/data_d00_batch02_loc02', '/Volumes/LaCie_DataStorage/PerlmutterData/segmentation_compiled_export/input/raw_img/data_d00_batch02_loc03', '/Volumes/LaCie_DataStorage/PerlmutterData/segmentation_compiled_export/input/raw_img/data_d07_batch01_loc01', '/Volumes/LaCie_DataStorage/PerlmutterData/segmentation_compiled_export/input/raw_img/data_d07_batch02_loc01', '/Volumes/LaCie_DataStorage/PerlmutterData/segmentation_compiled_export/input/raw_img/data_d07_batch02_loc02', '/Volumes/LaCie_DataStorage/PerlmutterData/segmentation_compiled_export/input/raw_img/data_d14_batch01_loc01', '/Volumes/LaCie_DataStorage/PerlmutterData/segmentation_compiled_export/input/raw_img/data_d17_batch01_loc01', '/Volumes/LaCie_DataStorage/PerlmutterData/segmentation_compiled_export/input/raw_img/data_d21_batch01_loc01']\n['data_d00_batch01_loc01', 'data_d00_batch02_loc02', 'data_d00_batch02_loc03', 'data_d07_batch01_loc01', 'data_d07_batch02_loc01', 'data_d07_batch02_loc02', 'data_d14_batch01_loc01', 'data_d17_batch01_loc01', 'data_d21_batch01_loc01']\n{1: 'cell_membrane', 2: 'nucleus', 3: 'nucleolus', 4: 'lipid_droplet', 5: 'mito', 6: 'inclusion', 7: 'ER', 8: 'cristae'}\n"
    }
   ],
   "source": [
    "# on mac\n",
    "main_path = \"/Volumes/LaCie_DataStorage/PerlmutterData/\"\n",
    "img_folder = \"segmentation_compiled_export\"\n",
    "folder_raw = \"raw_img\"\n",
    "\n",
    "ip_path = os.path.join(main_path, img_folder, 'input')\n",
    "dir_checker('output', os.path.join(main_path, img_folder))\n",
    "\n",
    "rawflist = glob.glob(os.path.join(ip_path, folder_raw, '*'))\n",
    "print(rawflist)\n",
    "\n",
    "foldernames = [os.path.basename(x) for x in rawflist]\n",
    "print(foldernames)\n",
    "\n",
    "labelname = {\n",
    "    1: 'cell_membrane',\n",
    "    2: 'nucleus',\n",
    "    3: 'nucleolus',\n",
    "    4: 'lipid_droplet',\n",
    "    5: 'mito',\n",
    "    6: 'inclusion',\n",
    "    7: 'ER',\n",
    "    8: 'cristae',\n",
    "}\n",
    "print(labelname)"
   ]
  },
  {
   "cell_type": "code",
   "execution_count": 3,
   "metadata": {},
   "outputs": [
    {
     "output_type": "execute_result",
     "data": {
      "text/plain": "8"
     },
     "metadata": {},
     "execution_count": 3
    }
   ],
   "source": [
    "len(labelname)"
   ]
  },
  {
   "cell_type": "code",
   "execution_count": 11,
   "metadata": {},
   "outputs": [],
   "source": [
    "class sample: \n",
    "    def __init__(self, foldername):\n",
    "        self.foldername = os.path.basename(foldername)\n",
    "    def merge(self, path, labels):\n",
    "        print(self.foldername)\n",
    "        print(path)\n",
    "        \n",
    "        # set up path\n",
    "        filelist = {}\n",
    "        filelist['raw_img'] = glob.glob(os.path.join(path, 'input', 'raw_img', self.foldername, '*.tif'))\n",
    "\n",
    "        new_labels = {}\n",
    "        for key, item in labels.items():\n",
    "            filelist_tmp = glob.glob(os.path.join(path, 'input', item, self.foldername, '*.tif*'))\n",
    "            if len(filelist_tmp) != 0:\n",
    "                filelist[item] = filelist_tmp \n",
    "                new_labels[key] = item\n",
    "\n",
    "        img_tmp = imread(filelist['raw_img'][0])\n",
    "        img_y, img_x = img_tmp.shape\n",
    "\n",
    "        dir_checker(self.foldername, os.path.join(path, 'output'))\n",
    "        \n",
    "        for idx in tqdm_notebook(range(len(filelist['raw_img'])), leave=False):\n",
    "            img_tmp_base = np.zeros([img_y, img_x, len(labels)], dtype= 'uint8')\n",
    "            \n",
    "            for j, label in new_labels.items():\n",
    "                open_filename = os.path.join(path, 'input', label, self.foldername, filelist[label][idx])\n",
    "                img_open = imread(open_filename)\n",
    "                img_open = img_open.astype('uint8')\n",
    "                img_tmp_base[:, :, j-1] = img_open * (j)\n",
    "            \n",
    "            img_tmp_result = np.amax(img_tmp_base, axis=2)\n",
    "            imsave(os.path.join(path, 'output', self.foldername, str(idx).zfill(4) + '.tif'), img_tmp_result)\n"
   ]
  },
  {
   "cell_type": "code",
   "execution_count": 12,
   "metadata": {},
   "outputs": [
    {
     "output_type": "stream",
     "name": "stdout",
     "text": "data_d00_batch01_loc01\ndata_d00_batch01_loc01\n/Volumes/LaCie_DataStorage/PerlmutterData/segmentation_compiled_export\ndata_d00_batch01_loc01 exists in /Volumes/LaCie_DataStorage/PerlmutterData/segmentation_compiled_export/output\n"
    },
    {
     "output_type": "display_data",
     "data": {
      "text/plain": "HBox(children=(FloatProgress(value=0.0, max=1996.0), HTML(value='')))",
      "application/vnd.jupyter.widget-view+json": {
       "version_major": 2,
       "version_minor": 0,
       "model_id": "2e458dce096d4fb2ba1db2920ce7f7c5"
      }
     },
     "metadata": {}
    },
    {
     "output_type": "stream",
     "name": "stdout",
     "text": "data_d00_batch02_loc02\ndata_d00_batch02_loc02\n/Volumes/LaCie_DataStorage/PerlmutterData/segmentation_compiled_export\ndata_d00_batch02_loc02 does not exist in /Volumes/LaCie_DataStorage/PerlmutterData/segmentation_compiled_export/output\n"
    },
    {
     "output_type": "display_data",
     "data": {
      "text/plain": "HBox(children=(FloatProgress(value=0.0, max=1857.0), HTML(value='')))",
      "application/vnd.jupyter.widget-view+json": {
       "version_major": 2,
       "version_minor": 0,
       "model_id": "55e84ba511404e5695b4049c8576b71f"
      }
     },
     "metadata": {}
    },
    {
     "output_type": "stream",
     "name": "stdout",
     "text": "data_d00_batch02_loc03\ndata_d00_batch02_loc03\n/Volumes/LaCie_DataStorage/PerlmutterData/segmentation_compiled_export\ndata_d00_batch02_loc03 does not exist in /Volumes/LaCie_DataStorage/PerlmutterData/segmentation_compiled_export/output\n"
    },
    {
     "output_type": "display_data",
     "data": {
      "text/plain": "HBox(children=(FloatProgress(value=0.0, max=1235.0), HTML(value='')))",
      "application/vnd.jupyter.widget-view+json": {
       "version_major": 2,
       "version_minor": 0,
       "model_id": "da007efc7db248348a05e1d5c47ef353"
      }
     },
     "metadata": {}
    },
    {
     "output_type": "stream",
     "name": "stdout",
     "text": "data_d07_batch01_loc01\ndata_d07_batch01_loc01\n/Volumes/LaCie_DataStorage/PerlmutterData/segmentation_compiled_export\ndata_d07_batch01_loc01 does not exist in /Volumes/LaCie_DataStorage/PerlmutterData/segmentation_compiled_export/output\n"
    },
    {
     "output_type": "display_data",
     "data": {
      "text/plain": "HBox(children=(FloatProgress(value=0.0, max=1189.0), HTML(value='')))",
      "application/vnd.jupyter.widget-view+json": {
       "version_major": 2,
       "version_minor": 0,
       "model_id": "84100cb7c907481abe64b9e2496102e6"
      }
     },
     "metadata": {}
    },
    {
     "output_type": "stream",
     "name": "stdout",
     "text": "data_d07_batch02_loc01\ndata_d07_batch02_loc01\n/Volumes/LaCie_DataStorage/PerlmutterData/segmentation_compiled_export\ndata_d07_batch02_loc01 does not exist in /Volumes/LaCie_DataStorage/PerlmutterData/segmentation_compiled_export/output\n"
    },
    {
     "output_type": "display_data",
     "data": {
      "text/plain": "HBox(children=(FloatProgress(value=0.0, max=1926.0), HTML(value='')))",
      "application/vnd.jupyter.widget-view+json": {
       "version_major": 2,
       "version_minor": 0,
       "model_id": "67b29c0457d74f1d97c20e91100afe12"
      }
     },
     "metadata": {}
    },
    {
     "output_type": "stream",
     "name": "stdout",
     "text": "data_d07_batch02_loc02\ndata_d07_batch02_loc02\n/Volumes/LaCie_DataStorage/PerlmutterData/segmentation_compiled_export\ndata_d07_batch02_loc02 does not exist in /Volumes/LaCie_DataStorage/PerlmutterData/segmentation_compiled_export/output\n"
    },
    {
     "output_type": "display_data",
     "data": {
      "text/plain": "HBox(children=(FloatProgress(value=0.0, max=1881.0), HTML(value='')))",
      "application/vnd.jupyter.widget-view+json": {
       "version_major": 2,
       "version_minor": 0,
       "model_id": "672af240077348c28ee5390b435ccdb8"
      }
     },
     "metadata": {}
    },
    {
     "output_type": "stream",
     "name": "stdout",
     "text": "data_d14_batch01_loc01\ndata_d14_batch01_loc01\n/Volumes/LaCie_DataStorage/PerlmutterData/segmentation_compiled_export\ndata_d14_batch01_loc01 does not exist in /Volumes/LaCie_DataStorage/PerlmutterData/segmentation_compiled_export/output\n"
    },
    {
     "output_type": "display_data",
     "data": {
      "text/plain": "HBox(children=(FloatProgress(value=0.0, max=2156.0), HTML(value='')))",
      "application/vnd.jupyter.widget-view+json": {
       "version_major": 2,
       "version_minor": 0,
       "model_id": "3ffa0780319f4c6e8482bbbf489549cb"
      }
     },
     "metadata": {}
    },
    {
     "output_type": "stream",
     "name": "stdout",
     "text": "data_d17_batch01_loc01\ndata_d17_batch01_loc01\n/Volumes/LaCie_DataStorage/PerlmutterData/segmentation_compiled_export\ndata_d17_batch01_loc01 does not exist in /Volumes/LaCie_DataStorage/PerlmutterData/segmentation_compiled_export/output\n"
    },
    {
     "output_type": "display_data",
     "data": {
      "text/plain": "HBox(children=(FloatProgress(value=0.0, max=2096.0), HTML(value='')))",
      "application/vnd.jupyter.widget-view+json": {
       "version_major": 2,
       "version_minor": 0,
       "model_id": "75f14cfd40114fb38dd31d754b8b1749"
      }
     },
     "metadata": {}
    },
    {
     "output_type": "stream",
     "name": "stdout",
     "text": "data_d21_batch01_loc01\ndata_d21_batch01_loc01\n/Volumes/LaCie_DataStorage/PerlmutterData/segmentation_compiled_export\ndata_d21_batch01_loc01 exists in /Volumes/LaCie_DataStorage/PerlmutterData/segmentation_compiled_export/output\n"
    },
    {
     "output_type": "display_data",
     "data": {
      "text/plain": "HBox(children=(FloatProgress(value=0.0, max=1983.0), HTML(value='')))",
      "application/vnd.jupyter.widget-view+json": {
       "version_major": 2,
       "version_minor": 0,
       "model_id": "8c9182622bc04e079e95f579e71fca34"
      }
     },
     "metadata": {}
    }
   ],
   "source": [
    "for foldername in rawflist: \n",
    "    folder_tmp = sample(foldername)\n",
    "    print(folder_tmp.foldername)\n",
    "    folder_tmp.merge(os.path.join(main_path, img_folder), labelname)"
   ]
  },
  {
   "cell_type": "code",
   "execution_count": null,
   "metadata": {},
   "outputs": [],
   "source": []
  }
 ],
 "metadata": {
  "language_info": {
   "codemirror_mode": {
    "name": "ipython",
    "version": 3
   },
   "file_extension": ".py",
   "mimetype": "text/x-python",
   "name": "python",
   "nbconvert_exporter": "python",
   "pygments_lexer": "ipython3",
   "version": "3.6.9-final"
  },
  "orig_nbformat": 2,
  "kernelspec": {
   "name": "tfdl02",
   "display_name": "tfdl02"
  }
 },
 "nbformat": 4,
 "nbformat_minor": 2
}