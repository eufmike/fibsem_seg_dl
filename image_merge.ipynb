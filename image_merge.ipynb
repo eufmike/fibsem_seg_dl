{
 "cells": [
  {
   "cell_type": "markdown",
   "metadata": {},
   "source": [
    "# Merge Labels\n",
    "The script merges labels from our prediction and Ariadne. "
   ]
  },
  {
   "cell_type": "code",
   "execution_count": null,
   "metadata": {},
   "outputs": [],
   "source": [
    "import os, sys\n",
    "import itertools\n",
    "import numpy as np\n",
    "from tqdm.notebook import trange\n",
    "\n",
    "# image\n",
    "import cv2\n",
    "import glob\n",
    "from skimage.io import imread, imsave, imshow\n",
    "from PIL import Image, ImageTk\n",
    "from imutils import paths\n",
    "import matplotlib.pyplot as plt \n",
    "import itertools\n",
    "import numpy as np\n",
    "from tqdm.notebook import trange, tqdm_notebook\n",
    "\n",
    "# image\n",
    "import cv2\n",
    "from skimage.io import imread, imsave, imshow\n",
    "from PIL import Image, ImageTk\n",
    "from imutils import paths\n",
    "import matplotlib.pyplot as plt\n",
    "\n",
    "# customized function\n",
    "from core.imageprep import dir_checker, random_crop, crop_generator, random_crop_batch\n",
    "from core.imageprep import create_crop_idx, crop_to_patch, construct_from_patch, create_crop_idx_whole"
   ]
  },
  {
   "cell_type": "code",
   "execution_count": 7,
   "metadata": {},
   "outputs": [
    {
     "name": "stdout",
     "output_type": "stream",
     "text": [
      "output exists in /Volumes/LaCie_DataStorage/PerlmutterData/segmentation_compiled_export\n",
      "['/Volumes/LaCie_DataStorage/PerlmutterData/segmentation_compiled_export/input/raw_img/data_d00_batch01_loc01', '/Volumes/LaCie_DataStorage/PerlmutterData/segmentation_compiled_export/input/raw_img/data_d00_batch02_loc02', '/Volumes/LaCie_DataStorage/PerlmutterData/segmentation_compiled_export/input/raw_img/data_d00_batch02_loc03', '/Volumes/LaCie_DataStorage/PerlmutterData/segmentation_compiled_export/input/raw_img/data_d07_batch01_loc01', '/Volumes/LaCie_DataStorage/PerlmutterData/segmentation_compiled_export/input/raw_img/data_d07_batch02_loc01', '/Volumes/LaCie_DataStorage/PerlmutterData/segmentation_compiled_export/input/raw_img/data_d07_batch02_loc02', '/Volumes/LaCie_DataStorage/PerlmutterData/segmentation_compiled_export/input/raw_img/data_d14_batch01_loc01', '/Volumes/LaCie_DataStorage/PerlmutterData/segmentation_compiled_export/input/raw_img/data_d17_batch01_loc01', '/Volumes/LaCie_DataStorage/PerlmutterData/segmentation_compiled_export/input/raw_img/data_d21_batch01_loc01']\n",
      "['data_d21_batch01_loc01']\n",
      "{1: 'cell_membrane', 2: 'nucleus', 3: 'nucleolus', 4: 'lipid_droplet', 5: 'mito', 6: 'inclusion', 7: 'ER', 8: 'cristae'}\n"
     ]
    }
   ],
   "source": [
    "# on mac\n",
    "main_path = \"/Volumes/LaCie_DataStorage/PerlmutterData/\"\n",
    "img_folder = \"segmentation_compiled_export\"\n",
    "folder_raw = \"raw_img\"\n",
    "\n",
    "ip_path = os.path.join(main_path, img_folder, 'input')\n",
    "dir_checker('output', os.path.join(main_path, img_folder))\n",
    "\n",
    "rawflist = glob.glob(os.path.join(ip_path, folder_raw, '*'))\n",
    "print(rawflist)\n",
    "\n",
    "rawflist= [rawflist[-1]]\n",
    "\n",
    "foldernames = [os.path.basename(x) for x in rawflist]\n",
    "print(foldernames)\n",
    "'''\n",
    "labelname = {\n",
    "    1: 'cell_membrane',\n",
    "    2: 'nucleus',\n",
    "    3: 'nucleolus',\n",
    "    4: 'lipid_droplet',\n",
    "    5: 'mito',\n",
    "    6: 'inclusion',\n",
    "    7: 'ER',\n",
    "    8: 'cristae',\n",
    "}\n",
    "'''\n",
    "labelname = {\n",
    "    1: 'cell_membrane',\n",
    "    2: 'nucleus',\n",
    "    3: 'nucleolus',\n",
    "    4: 'lipid_droplet',\n",
    "    5: 'mito',\n",
    "}\n",
    "\n",
    "print(labelname)"
   ]
  },
  {
   "cell_type": "code",
   "execution_count": 8,
   "metadata": {},
   "outputs": [
    {
     "data": {
      "text/plain": [
       "8"
      ]
     },
     "execution_count": 8,
     "metadata": {},
     "output_type": "execute_result"
    }
   ],
   "source": [
    "len(labelname)"
   ]
  },
  {
   "cell_type": "code",
   "execution_count": 9,
   "metadata": {},
   "outputs": [],
   "source": [
    "class sample: \n",
    "    def __init__(self, foldername):\n",
    "        self.foldername = os.path.basename(foldername)\n",
    "    def merge(self, path, labels):\n",
    "        print(self.foldername)\n",
    "        print(path)\n",
    "        \n",
    "        # set up path\n",
    "        filelist = {}\n",
    "        filelist['raw_img'] = glob.glob(os.path.join(path, 'input', 'raw_img', self.foldername, '*.tif'))\n",
    "\n",
    "        new_labels = {}\n",
    "        for key, item in labels.items():\n",
    "            filelist_tmp = glob.glob(os.path.join(path, 'input', item, self.foldername, '*.tif*'))\n",
    "            if len(filelist_tmp) != 0:\n",
    "                filelist[item] = filelist_tmp \n",
    "                new_labels[key] = item\n",
    "\n",
    "        img_tmp = imread(filelist['raw_img'][0])\n",
    "        img_y, img_x = img_tmp.shape\n",
    "\n",
    "        dir_checker(self.foldername, os.path.join(path, 'output'))\n",
    "        \n",
    "        for idx in tqdm_notebook(range(len(filelist['raw_img'])), leave=False):\n",
    "            img_tmp_base = np.zeros([img_y, img_x, len(labels)], dtype= 'uint8')\n",
    "            \n",
    "            for j, label in new_labels.items():\n",
    "                open_filename = os.path.join(path, 'input', label, self.foldername, filelist[label][idx])\n",
    "                img_open = imread(open_filename)\n",
    "                img_open = img_open.astype('uint8')\n",
    "                img_tmp_base[:, :, j-1] = img_open * (j)\n",
    "            \n",
    "            img_tmp_result = np.amax(img_tmp_base, axis=2)\n",
    "            imsave(os.path.join(path, 'output', self.foldername, str(idx).zfill(4) + '.tif'), img_tmp_result)\n"
   ]
  },
  {
   "cell_type": "code",
   "execution_count": 10,
   "metadata": {},
   "outputs": [
    {
     "name": "stdout",
     "output_type": "stream",
     "text": [
      "data_d21_batch01_loc01\n",
      "data_d21_batch01_loc01\n",
      "/Volumes/LaCie_DataStorage/PerlmutterData/segmentation_compiled_export\n",
      "data_d21_batch01_loc01 does not exist in /Volumes/LaCie_DataStorage/PerlmutterData/segmentation_compiled_export/output\n"
     ]
    },
    {
     "data": {
      "application/vnd.jupyter.widget-view+json": {
       "model_id": "e134874c4264460da00f7bf2cef64c18",
       "version_major": 2,
       "version_minor": 0
      },
      "text/plain": [
       "HBox(children=(FloatProgress(value=0.0, max=1983.0), HTML(value='')))"
      ]
     },
     "metadata": {},
     "output_type": "display_data"
    },
    {
     "ename": "KeyboardInterrupt",
     "evalue": "",
     "output_type": "error",
     "traceback": [
      "\u001b[0;31m---------------------------------------------------------------------------\u001b[0m",
      "\u001b[0;31mKeyboardInterrupt\u001b[0m                         Traceback (most recent call last)",
      "\u001b[0;32m<ipython-input-10-f4264b6dd3b6>\u001b[0m in \u001b[0;36m<module>\u001b[0;34m\u001b[0m\n\u001b[1;32m      2\u001b[0m     \u001b[0mfolder_tmp\u001b[0m \u001b[0;34m=\u001b[0m \u001b[0msample\u001b[0m\u001b[0;34m(\u001b[0m\u001b[0mfoldername\u001b[0m\u001b[0;34m)\u001b[0m\u001b[0;34m\u001b[0m\u001b[0;34m\u001b[0m\u001b[0m\n\u001b[1;32m      3\u001b[0m     \u001b[0mprint\u001b[0m\u001b[0;34m(\u001b[0m\u001b[0mfolder_tmp\u001b[0m\u001b[0;34m.\u001b[0m\u001b[0mfoldername\u001b[0m\u001b[0;34m)\u001b[0m\u001b[0;34m\u001b[0m\u001b[0;34m\u001b[0m\u001b[0m\n\u001b[0;32m----> 4\u001b[0;31m     \u001b[0mfolder_tmp\u001b[0m\u001b[0;34m.\u001b[0m\u001b[0mmerge\u001b[0m\u001b[0;34m(\u001b[0m\u001b[0mos\u001b[0m\u001b[0;34m.\u001b[0m\u001b[0mpath\u001b[0m\u001b[0;34m.\u001b[0m\u001b[0mjoin\u001b[0m\u001b[0;34m(\u001b[0m\u001b[0mmain_path\u001b[0m\u001b[0;34m,\u001b[0m \u001b[0mimg_folder\u001b[0m\u001b[0;34m)\u001b[0m\u001b[0;34m,\u001b[0m \u001b[0mlabelname\u001b[0m\u001b[0;34m)\u001b[0m\u001b[0;34m\u001b[0m\u001b[0;34m\u001b[0m\u001b[0m\n\u001b[0m",
      "\u001b[0;32m<ipython-input-9-75f2af2a2a2e>\u001b[0m in \u001b[0;36mmerge\u001b[0;34m(self, path, labels)\u001b[0m\n\u001b[1;32m     27\u001b[0m             \u001b[0;32mfor\u001b[0m \u001b[0mj\u001b[0m\u001b[0;34m,\u001b[0m \u001b[0mlabel\u001b[0m \u001b[0;32min\u001b[0m \u001b[0mnew_labels\u001b[0m\u001b[0;34m.\u001b[0m\u001b[0mitems\u001b[0m\u001b[0;34m(\u001b[0m\u001b[0;34m)\u001b[0m\u001b[0;34m:\u001b[0m\u001b[0;34m\u001b[0m\u001b[0;34m\u001b[0m\u001b[0m\n\u001b[1;32m     28\u001b[0m                 \u001b[0mopen_filename\u001b[0m \u001b[0;34m=\u001b[0m \u001b[0mos\u001b[0m\u001b[0;34m.\u001b[0m\u001b[0mpath\u001b[0m\u001b[0;34m.\u001b[0m\u001b[0mjoin\u001b[0m\u001b[0;34m(\u001b[0m\u001b[0mpath\u001b[0m\u001b[0;34m,\u001b[0m \u001b[0;34m'input'\u001b[0m\u001b[0;34m,\u001b[0m \u001b[0mlabel\u001b[0m\u001b[0;34m,\u001b[0m \u001b[0mself\u001b[0m\u001b[0;34m.\u001b[0m\u001b[0mfoldername\u001b[0m\u001b[0;34m,\u001b[0m \u001b[0mfilelist\u001b[0m\u001b[0;34m[\u001b[0m\u001b[0mlabel\u001b[0m\u001b[0;34m]\u001b[0m\u001b[0;34m[\u001b[0m\u001b[0midx\u001b[0m\u001b[0;34m]\u001b[0m\u001b[0;34m)\u001b[0m\u001b[0;34m\u001b[0m\u001b[0;34m\u001b[0m\u001b[0m\n\u001b[0;32m---> 29\u001b[0;31m                 \u001b[0mimg_open\u001b[0m \u001b[0;34m=\u001b[0m \u001b[0mimread\u001b[0m\u001b[0;34m(\u001b[0m\u001b[0mopen_filename\u001b[0m\u001b[0;34m)\u001b[0m\u001b[0;34m\u001b[0m\u001b[0;34m\u001b[0m\u001b[0m\n\u001b[0m\u001b[1;32m     30\u001b[0m                 \u001b[0mimg_open\u001b[0m \u001b[0;34m=\u001b[0m \u001b[0mimg_open\u001b[0m\u001b[0;34m.\u001b[0m\u001b[0mastype\u001b[0m\u001b[0;34m(\u001b[0m\u001b[0;34m'uint8'\u001b[0m\u001b[0;34m)\u001b[0m\u001b[0;34m\u001b[0m\u001b[0;34m\u001b[0m\u001b[0m\n\u001b[1;32m     31\u001b[0m                 \u001b[0mimg_tmp_base\u001b[0m\u001b[0;34m[\u001b[0m\u001b[0;34m:\u001b[0m\u001b[0;34m,\u001b[0m \u001b[0;34m:\u001b[0m\u001b[0;34m,\u001b[0m \u001b[0mj\u001b[0m\u001b[0;34m-\u001b[0m\u001b[0;36m1\u001b[0m\u001b[0;34m]\u001b[0m \u001b[0;34m=\u001b[0m \u001b[0mimg_open\u001b[0m \u001b[0;34m*\u001b[0m \u001b[0;34m(\u001b[0m\u001b[0mj\u001b[0m\u001b[0;34m)\u001b[0m\u001b[0;34m\u001b[0m\u001b[0;34m\u001b[0m\u001b[0m\n",
      "\u001b[0;32m~/anaconda3/envs/tfdl02/lib/python3.6/site-packages/skimage/io/_io.py\u001b[0m in \u001b[0;36mimread\u001b[0;34m(fname, as_gray, plugin, **plugin_args)\u001b[0m\n\u001b[1;32m     46\u001b[0m \u001b[0;34m\u001b[0m\u001b[0m\n\u001b[1;32m     47\u001b[0m     \u001b[0;32mwith\u001b[0m \u001b[0mfile_or_url_context\u001b[0m\u001b[0;34m(\u001b[0m\u001b[0mfname\u001b[0m\u001b[0;34m)\u001b[0m \u001b[0;32mas\u001b[0m \u001b[0mfname\u001b[0m\u001b[0;34m:\u001b[0m\u001b[0;34m\u001b[0m\u001b[0;34m\u001b[0m\u001b[0m\n\u001b[0;32m---> 48\u001b[0;31m         \u001b[0mimg\u001b[0m \u001b[0;34m=\u001b[0m \u001b[0mcall_plugin\u001b[0m\u001b[0;34m(\u001b[0m\u001b[0;34m'imread'\u001b[0m\u001b[0;34m,\u001b[0m \u001b[0mfname\u001b[0m\u001b[0;34m,\u001b[0m \u001b[0mplugin\u001b[0m\u001b[0;34m=\u001b[0m\u001b[0mplugin\u001b[0m\u001b[0;34m,\u001b[0m \u001b[0;34m**\u001b[0m\u001b[0mplugin_args\u001b[0m\u001b[0;34m)\u001b[0m\u001b[0;34m\u001b[0m\u001b[0;34m\u001b[0m\u001b[0m\n\u001b[0m\u001b[1;32m     49\u001b[0m \u001b[0;34m\u001b[0m\u001b[0m\n\u001b[1;32m     50\u001b[0m     \u001b[0;32mif\u001b[0m \u001b[0;32mnot\u001b[0m \u001b[0mhasattr\u001b[0m\u001b[0;34m(\u001b[0m\u001b[0mimg\u001b[0m\u001b[0;34m,\u001b[0m \u001b[0;34m'ndim'\u001b[0m\u001b[0;34m)\u001b[0m\u001b[0;34m:\u001b[0m\u001b[0;34m\u001b[0m\u001b[0;34m\u001b[0m\u001b[0m\n",
      "\u001b[0;32m~/anaconda3/envs/tfdl02/lib/python3.6/site-packages/skimage/io/manage_plugins.py\u001b[0m in \u001b[0;36mcall_plugin\u001b[0;34m(kind, *args, **kwargs)\u001b[0m\n\u001b[1;32m    208\u001b[0m                                (plugin, kind))\n\u001b[1;32m    209\u001b[0m \u001b[0;34m\u001b[0m\u001b[0m\n\u001b[0;32m--> 210\u001b[0;31m     \u001b[0;32mreturn\u001b[0m \u001b[0mfunc\u001b[0m\u001b[0;34m(\u001b[0m\u001b[0;34m*\u001b[0m\u001b[0margs\u001b[0m\u001b[0;34m,\u001b[0m \u001b[0;34m**\u001b[0m\u001b[0mkwargs\u001b[0m\u001b[0;34m)\u001b[0m\u001b[0;34m\u001b[0m\u001b[0;34m\u001b[0m\u001b[0m\n\u001b[0m\u001b[1;32m    211\u001b[0m \u001b[0;34m\u001b[0m\u001b[0m\n\u001b[1;32m    212\u001b[0m \u001b[0;34m\u001b[0m\u001b[0m\n",
      "\u001b[0;32m~/anaconda3/envs/tfdl02/lib/python3.6/site-packages/skimage/io/_plugins/tifffile_plugin.py\u001b[0m in \u001b[0;36mimread\u001b[0;34m(fname, dtype, **kwargs)\u001b[0m\n\u001b[1;32m     47\u001b[0m     \u001b[0;31m# read and return tiff as numpy array\u001b[0m\u001b[0;34m\u001b[0m\u001b[0;34m\u001b[0m\u001b[0;34m\u001b[0m\u001b[0m\n\u001b[1;32m     48\u001b[0m     \u001b[0;32mwith\u001b[0m \u001b[0mTiffFile\u001b[0m\u001b[0;34m(\u001b[0m\u001b[0mfname\u001b[0m\u001b[0;34m,\u001b[0m \u001b[0;34m**\u001b[0m\u001b[0mkwargs_tiff\u001b[0m\u001b[0;34m)\u001b[0m \u001b[0;32mas\u001b[0m \u001b[0mtif\u001b[0m\u001b[0;34m:\u001b[0m\u001b[0;34m\u001b[0m\u001b[0;34m\u001b[0m\u001b[0m\n\u001b[0;32m---> 49\u001b[0;31m         \u001b[0;32mreturn\u001b[0m \u001b[0mtif\u001b[0m\u001b[0;34m.\u001b[0m\u001b[0masarray\u001b[0m\u001b[0;34m(\u001b[0m\u001b[0;34m**\u001b[0m\u001b[0mkwargs\u001b[0m\u001b[0;34m)\u001b[0m\u001b[0;34m\u001b[0m\u001b[0;34m\u001b[0m\u001b[0m\n\u001b[0m",
      "\u001b[0;32m~/anaconda3/envs/tfdl02/lib/python3.6/site-packages/tifffile/tifffile.py\u001b[0m in \u001b[0;36masarray\u001b[0;34m(self, key, series, out, maxworkers)\u001b[0m\n\u001b[1;32m   2305\u001b[0m                 \u001b[0mself\u001b[0m\u001b[0;34m.\u001b[0m\u001b[0mfilehandle\u001b[0m\u001b[0;34m.\u001b[0m\u001b[0mseek\u001b[0m\u001b[0;34m(\u001b[0m\u001b[0mseries\u001b[0m\u001b[0;34m.\u001b[0m\u001b[0moffset\u001b[0m\u001b[0;34m)\u001b[0m\u001b[0;34m\u001b[0m\u001b[0;34m\u001b[0m\u001b[0m\n\u001b[1;32m   2306\u001b[0m                 result = self.filehandle.read_array(\n\u001b[0;32m-> 2307\u001b[0;31m                     typecode, product(series.shape), out=out)\n\u001b[0m\u001b[1;32m   2308\u001b[0m         \u001b[0;32melif\u001b[0m \u001b[0mlen\u001b[0m\u001b[0;34m(\u001b[0m\u001b[0mpages\u001b[0m\u001b[0;34m)\u001b[0m \u001b[0;34m==\u001b[0m \u001b[0;36m1\u001b[0m\u001b[0;34m:\u001b[0m\u001b[0;34m\u001b[0m\u001b[0;34m\u001b[0m\u001b[0m\n\u001b[1;32m   2309\u001b[0m             \u001b[0mresult\u001b[0m \u001b[0;34m=\u001b[0m \u001b[0mpages\u001b[0m\u001b[0;34m[\u001b[0m\u001b[0;36m0\u001b[0m\u001b[0;34m]\u001b[0m\u001b[0;34m.\u001b[0m\u001b[0masarray\u001b[0m\u001b[0;34m(\u001b[0m\u001b[0mout\u001b[0m\u001b[0;34m=\u001b[0m\u001b[0mout\u001b[0m\u001b[0;34m,\u001b[0m \u001b[0mmaxworkers\u001b[0m\u001b[0;34m=\u001b[0m\u001b[0mmaxworkers\u001b[0m\u001b[0;34m)\u001b[0m\u001b[0;34m\u001b[0m\u001b[0;34m\u001b[0m\u001b[0m\n",
      "\u001b[0;32m~/anaconda3/envs/tfdl02/lib/python3.6/site-packages/tifffile/tifffile.py\u001b[0m in \u001b[0;36mread_array\u001b[0;34m(self, dtype, count, out)\u001b[0m\n\u001b[1;32m   6398\u001b[0m             \u001b[0;32mraise\u001b[0m \u001b[0mValueError\u001b[0m\u001b[0;34m(\u001b[0m\u001b[0;34m'size mismatch'\u001b[0m\u001b[0;34m)\u001b[0m\u001b[0;34m\u001b[0m\u001b[0;34m\u001b[0m\u001b[0m\n\u001b[1;32m   6399\u001b[0m \u001b[0;34m\u001b[0m\u001b[0m\n\u001b[0;32m-> 6400\u001b[0;31m         \u001b[0mn\u001b[0m \u001b[0;34m=\u001b[0m \u001b[0mfh\u001b[0m\u001b[0;34m.\u001b[0m\u001b[0mreadinto\u001b[0m\u001b[0;34m(\u001b[0m\u001b[0mresult\u001b[0m\u001b[0;34m)\u001b[0m\u001b[0;34m\u001b[0m\u001b[0;34m\u001b[0m\u001b[0m\n\u001b[0m\u001b[1;32m   6401\u001b[0m         \u001b[0;32mif\u001b[0m \u001b[0mn\u001b[0m \u001b[0;34m!=\u001b[0m \u001b[0msize\u001b[0m\u001b[0;34m:\u001b[0m\u001b[0;34m\u001b[0m\u001b[0;34m\u001b[0m\u001b[0m\n\u001b[1;32m   6402\u001b[0m             \u001b[0;32mraise\u001b[0m \u001b[0mValueError\u001b[0m\u001b[0;34m(\u001b[0m\u001b[0;34mf'failed to read {size} bytes'\u001b[0m\u001b[0;34m)\u001b[0m\u001b[0;34m\u001b[0m\u001b[0;34m\u001b[0m\u001b[0m\n",
      "\u001b[0;31mKeyboardInterrupt\u001b[0m: "
     ]
    }
   ],
   "source": [
    "for foldername in rawflist: \n",
    "    folder_tmp = sample(foldername)\n",
    "    print(folder_tmp.foldername)\n",
    "    folder_tmp.merge(os.path.join(main_path, img_folder), labelname)"
   ]
  },
  {
   "cell_type": "code",
   "execution_count": null,
   "metadata": {},
   "outputs": [],
   "source": []
  }
 ],
 "metadata": {
  "kernelspec": {
   "display_name": "tfdl02",
   "language": "python",
   "name": "tfdl02"
  },
  "language_info": {
   "codemirror_mode": {
    "name": "ipython",
    "version": 3
   },
   "file_extension": ".py",
   "mimetype": "text/x-python",
   "name": "python",
   "nbconvert_exporter": "python",
   "pygments_lexer": "ipython3",
   "version": "3.6.9"
  }
 },
 "nbformat": 4,
 "nbformat_minor": 2
}
