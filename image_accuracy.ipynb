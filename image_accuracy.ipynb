{
 "cells": [
  {
   "cell_type": "code",
   "execution_count": 1,
   "metadata": {},
   "outputs": [],
   "source": [
    "import os, sys\n",
    "import itertools\n",
    "import numpy as np\n",
    "from tqdm.notebook import trange\n",
    "from datetime import datetime\n",
    "\n",
    "# image\n",
    "import cv2\n",
    "import glob\n",
    "from skimage.io import imread, imsave, imshow\n",
    "from PIL import Image, ImageTk\n",
    "from imutils import paths\n",
    "import matplotlib.pyplot as plt \n",
    "import itertools\n",
    "import numpy as np\n",
    "from tqdm.notebook import trange, tqdm_notebook\n",
    "\n",
    "# image\n",
    "import cv2\n",
    "from skimage.io import imread, imsave, imshow\n",
    "from PIL import Image, ImageTk\n",
    "from imutils import paths\n",
    "import matplotlib.pyplot as plt\n",
    "\n",
    "# customized function\n",
    "from core.imageprep import dir_checker, random_crop, crop_generator, random_crop_batch\n",
    "from core.imageprep import create_crop_idx, crop_to_patch, construct_from_patch, create_crop_idx_whole"
   ]
  },
  {
   "cell_type": "code",
   "execution_count": 2,
   "metadata": {},
   "outputs": [
    {
     "output_type": "stream",
     "name": "stdout",
     "text": "Load Images...\nTraining timestamp: 2020_02_05_16_29\nInput Images Path: D:/PerlmutterData/dl_seg_project_raw/data_crop/2019_12_06_17_06\nModel Path: D:/PerlmutterData/logs/fit/nucleus/2020_02_05/2020_02_05_16_29/run-2/model/model_2020_02_05_16_29.h5\nRaw Path: D:/PerlmutterData/raw_input_image\n"
    },
    {
     "output_type": "error",
     "ename": "FileNotFoundError",
     "evalue": "[Errno 2] No such file or directory: 'D:/PerlmutterData/dl_seg_project_raw'",
     "traceback": [
      "\u001b[0;31m---------------------------------------------------------------------------\u001b[0m",
      "\u001b[0;31mFileNotFoundError\u001b[0m                         Traceback (most recent call last)",
      "\u001b[0;32m<ipython-input-2-5df715baac69>\u001b[0m in \u001b[0;36m<module>\u001b[0;34m\u001b[0m\n\u001b[1;32m     42\u001b[0m \u001b[0;31m# prediction path\u001b[0m\u001b[0;34m\u001b[0m\u001b[0;34m\u001b[0m\u001b[0;34m\u001b[0m\u001b[0m\n\u001b[1;32m     43\u001b[0m \u001b[0mpred_path\u001b[0m \u001b[0;34m=\u001b[0m \u001b[0mos\u001b[0m\u001b[0;34m.\u001b[0m\u001b[0mpath\u001b[0m\u001b[0;34m.\u001b[0m\u001b[0mjoin\u001b[0m\u001b[0;34m(\u001b[0m\u001b[0mpath\u001b[0m\u001b[0;34m,\u001b[0m \u001b[0mexp_name\u001b[0m\u001b[0;34m)\u001b[0m\u001b[0;34m\u001b[0m\u001b[0;34m\u001b[0m\u001b[0m\n\u001b[0;32m---> 44\u001b[0;31m \u001b[0mdir_checker\u001b[0m\u001b[0;34m(\u001b[0m\u001b[0;34m'pred_img'\u001b[0m\u001b[0;34m,\u001b[0m \u001b[0mpred_path\u001b[0m\u001b[0;34m)\u001b[0m\u001b[0;34m\u001b[0m\u001b[0;34m\u001b[0m\u001b[0m\n\u001b[0m",
      "\u001b[0;32m~/Documents/code/wucci/fibsem_seg_dl/core/imageprep.py\u001b[0m in \u001b[0;36mdir_checker\u001b[0;34m(folder_name, path)\u001b[0m\n\u001b[1;32m     12\u001b[0m \u001b[0;34m\u001b[0m\u001b[0m\n\u001b[1;32m     13\u001b[0m \u001b[0;32mdef\u001b[0m \u001b[0mdir_checker\u001b[0m\u001b[0;34m(\u001b[0m\u001b[0mfolder_name\u001b[0m\u001b[0;34m,\u001b[0m \u001b[0mpath\u001b[0m\u001b[0;34m)\u001b[0m\u001b[0;34m:\u001b[0m\u001b[0;34m\u001b[0m\u001b[0;34m\u001b[0m\u001b[0m\n\u001b[0;32m---> 14\u001b[0;31m     \u001b[0;32mif\u001b[0m \u001b[0;32mnot\u001b[0m \u001b[0mfolder_name\u001b[0m \u001b[0;32min\u001b[0m \u001b[0mos\u001b[0m\u001b[0;34m.\u001b[0m\u001b[0mlistdir\u001b[0m\u001b[0;34m(\u001b[0m\u001b[0mpath\u001b[0m\u001b[0;34m)\u001b[0m\u001b[0;34m:\u001b[0m\u001b[0;34m\u001b[0m\u001b[0;34m\u001b[0m\u001b[0m\n\u001b[0m\u001b[1;32m     15\u001b[0m         \u001b[0mprint\u001b[0m\u001b[0;34m(\u001b[0m\u001b[0;34m'{} does not exist in {}'\u001b[0m\u001b[0;34m.\u001b[0m\u001b[0mformat\u001b[0m\u001b[0;34m(\u001b[0m\u001b[0mfolder_name\u001b[0m\u001b[0;34m,\u001b[0m \u001b[0mpath\u001b[0m\u001b[0;34m)\u001b[0m\u001b[0;34m)\u001b[0m\u001b[0;34m\u001b[0m\u001b[0;34m\u001b[0m\u001b[0m\n\u001b[1;32m     16\u001b[0m         \u001b[0mos\u001b[0m\u001b[0;34m.\u001b[0m\u001b[0mmkdir\u001b[0m\u001b[0;34m(\u001b[0m\u001b[0mos\u001b[0m\u001b[0;34m.\u001b[0m\u001b[0mpath\u001b[0m\u001b[0;34m.\u001b[0m\u001b[0mjoin\u001b[0m\u001b[0;34m(\u001b[0m\u001b[0mpath\u001b[0m\u001b[0;34m,\u001b[0m \u001b[0mfolder_name\u001b[0m\u001b[0;34m)\u001b[0m\u001b[0;34m)\u001b[0m\u001b[0;34m\u001b[0m\u001b[0;34m\u001b[0m\u001b[0m\n",
      "\u001b[0;31mFileNotFoundError\u001b[0m: [Errno 2] No such file or directory: 'D:/PerlmutterData/dl_seg_project_raw'"
     ]
    }
   ],
   "source": [
    "# load image\n",
    "print(\"Load Images...\")\n",
    "# on mac\n",
    "# path = \"/Volumes/LaCie_DataStorage/PerlmutterData/\"\n",
    "\n",
    "# on Window PC \n",
    "path = os.path.join('D:', 'PerlmutterData')\n",
    "\n",
    "# experiment\n",
    "exp_name = 'dl_seg_project_raw'\n",
    "\n",
    "# label\n",
    "label = 'nucleus'\n",
    "\n",
    "# trianing timestamp\n",
    "training_date = '2020_02_05'\n",
    "imginput_timestamp = '2019_12_06_17_06'\n",
    "# model_training_timestamp = '2019_12_11_12_21'\n",
    "model_training_timestamp = '2020_02_05_16_29'\n",
    "run_number = 'run-2'\n",
    "print('Training timestamp: {}'.format(model_training_timestamp))\n",
    "# prediction timestamp\n",
    "model_predict_timestamp = datetime.now().strftime(\"%Y_%m_%d_%H_%M\")\n",
    "\n",
    "# input img path\n",
    "imginput = os.path.join(exp_name, 'data_crop', imginput_timestamp)\n",
    "imgpath = os.path.join(path, imginput)\n",
    "print('Input Images Path: {}'.format(imgpath))\n",
    "\n",
    "# model path\n",
    "modelfd = 'model'\n",
    "modelfn = 'model_' + model_training_timestamp + '.h5'\n",
    "# path_model = os.path.join(path, 'logs', modelfd, label, training_date, modelfn)\n",
    "path_model = os.path.join(path, 'logs', 'fit', label, training_date, model_training_timestamp, run_number, modelfd, modelfn)\n",
    "print('Model Path: {}'.format(path_model))\n",
    "\n",
    "# raw path\n",
    "rawfd = 'raw_input_image'\n",
    "path_raw = os.path.join(path, rawfd)\n",
    "print('Raw Path: {}'.format(path_raw))\n",
    "\n",
    "# prediction path\n",
    "pred_path = os.path.join(path, exp_name)\n",
    "dir_checker('pred_img', pred_path)"
   ]
  },
  {
   "cell_type": "code",
   "execution_count": null,
   "metadata": {},
   "outputs": [],
   "source": [
    "model = load_model(path_model, custom_objects={'iou_coef': iou_coef, 'dice_coef': dice_coef})\n",
    "print(model)"
   ]
  },
  {
   "cell_type": "code",
   "execution_count": null,
   "metadata": {},
   "outputs": [],
   "source": []
  }
 ],
 "metadata": {
  "language_info": {
   "codemirror_mode": {
    "name": "ipython",
    "version": 3
   },
   "file_extension": ".py",
   "mimetype": "text/x-python",
   "name": "python",
   "nbconvert_exporter": "python",
   "pygments_lexer": "ipython3",
   "version": "3.6.9-final"
  },
  "orig_nbformat": 2,
  "kernelspec": {
   "name": "tfdl02",
   "display_name": "tfdl02"
  }
 },
 "nbformat": 4,
 "nbformat_minor": 2
}