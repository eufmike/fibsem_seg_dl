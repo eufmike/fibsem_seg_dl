{
 "cells": [
  {
   "cell_type": "code",
   "execution_count": 1,
   "metadata": {},
   "outputs": [],
   "source": [
    "import os, sys\n",
    "import itertools\n",
    "import numpy as np\n",
    "from tqdm.notebook import trange\n",
    "\n",
    "# image\n",
    "import cv2\n",
    "import glob\n",
    "from skimage.io import imread, imsave, imshow\n",
    "from PIL import Image, ImageTk\n",
    "from imutils import paths\n",
    "import matplotlib.pyplot as plt \n",
    "import itertools\n",
    "import numpy as np\n",
    "from tqdm.notebook import trange, tqdm_notebook\n",
    "\n",
    "# image\n",
    "import cv2\n",
    "from skimage.io import imread, imsave, imshow\n",
    "from PIL import Image, ImageTk\n",
    "from imutils import paths\n",
    "import matplotlib.pyplot as plt\n",
    "\n",
    "# customized function\n",
    "from core.imageprep import dir_checker, random_crop, crop_generator, random_crop_batch\n",
    "from core.imageprep import create_crop_idx, crop_to_patch, construct_from_patch, create_crop_idx_whole"
   ]
  },
  {
   "cell_type": "code",
   "execution_count": 7,
   "metadata": {},
   "outputs": [
    {
     "ename": "SyntaxError",
     "evalue": "invalid syntax (<ipython-input-7-eeccde29a120>, line 27)",
     "output_type": "error",
     "traceback": [
      "\u001b[1;36m  File \u001b[1;32m\"<ipython-input-7-eeccde29a120>\"\u001b[1;36m, line \u001b[1;32m27\u001b[0m\n\u001b[1;33m    for path in folder_temp:\u001b[0m\n\u001b[1;37m      ^\u001b[0m\n\u001b[1;31mSyntaxError\u001b[0m\u001b[1;31m:\u001b[0m invalid syntax\n"
     ]
    }
   ],
   "source": [
    "# on mac\n",
    "# main_path = \"/Volumes/LaCie_DataStorage/PerlmutterData/\"\n",
    "# on windows\n",
    "main_path = \"D:/PerlmutterData/\"\n",
    "\n",
    "img_folder = \"segmentation_compiled_export\"\n",
    "folder_raw = \"Amira_3D\"\n",
    "'''\n",
    "labelname = {\n",
    "    1: 'cell_membrane',\n",
    "    2: 'nucleus',\n",
    "    3: 'nucleolus',\n",
    "    4: 'lipid_droplet',\n",
    "    5: 'mito',\n",
    "    6: 'inclusion',\n",
    "    7: 'ER',\n",
    "    8: 'cristae',\n",
    "}\n",
    "'''\n",
    "labelname = {\n",
    "    7: 'ER',\n",
    "}\n",
    "\n",
    "for idx, val in labelname.items():\n",
    "    folder_temp = glob.glob(os.path.join(main_path, img_folder, folder_raw, val, '*'))\n",
    "    print(folder_temp)\\\n",
    "    for path in folder_temp:\n",
    "        file_list_tmp = glob.glob(os.path.join(path, '*.*'))\n",
    "        print(file_list_tmp)\n",
    "        break\n",
    "    break"
   ]
  },
  {
   "cell_type": "code",
   "execution_count": null,
   "metadata": {},
   "outputs": [],
   "source": []
  }
 ],
 "metadata": {
  "kernelspec": {
   "display_name": "tfdl02",
   "language": "python",
   "name": "tfdl02"
  },
  "language_info": {
   "codemirror_mode": {
    "name": "ipython",
    "version": 3
   },
   "file_extension": ".py",
   "mimetype": "text/x-python",
   "name": "python",
   "nbconvert_exporter": "python",
   "pygments_lexer": "ipython3",
   "version": "3.6.9"
  }
 },
 "nbformat": 4,
 "nbformat_minor": 2
}
