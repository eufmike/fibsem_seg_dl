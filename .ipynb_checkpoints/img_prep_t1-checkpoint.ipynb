{
 "cells": [
  {
   "cell_type": "code",
   "execution_count": 2,
   "metadata": {},
   "outputs": [],
   "source": [
    "import os, glob, shutil\n",
    "import cv2\n",
    "import numpy as np\n",
    "from skimage.io import imread, imsave, imshow\n",
    "from PIL import Image, ImageTk\n",
    "import matplotlib.pyplot as plt\n",
    "from core.imageprep import random_crop, crop_generator, random_crop_batch\n",
    "\n",
    "# %load_ext autoreload\n",
    "# %autoreload 2\n"
   ]
  },
  {
   "cell_type": "code",
   "execution_count": 0,
   "metadata": {},
   "outputs": [],
   "source": [
    "# set parameters\n",
    "img_crop_shape_min = 256\n",
    "img_crop_shape_max = 256\n",
    "print(\"Crop Size Min: {}\".format(img_crop_shape_min))\n",
    "print(\"Crop Size Max: {}\".format(img_crop_shape_max))\n",
    "crop_per_image = 20\n",
    "seed = 100\n"
   ]
  },
  {
   "cell_type": "code",
   "execution_count": 0,
   "metadata": {},
   "outputs": [],
   "source": [
    "# Prepare the training dataset\n",
    "# Specify the data folder\n",
    "# mainpath = '/Volumes/LaCie_DataStorage/PerlmutterData/training'\n",
    "mainpath = 'D:/PerlmutterData/training'\n",
    "labeltype = 'cell_membrane'\n",
    "data_path = os.path.join(mainpath, labeltype)\n",
    "print(\"Path: {}\".format(data_path))\n"
   ]
  },
  {
   "cell_type": "code",
   "execution_count": 0,
   "metadata": {},
   "outputs": [],
   "source": [
    "# create list for filenames\n",
    "imglist = glob.glob(os.path.join(data_path, 'data', 'images', '*', '*.tif'), recursive=True)\n",
    "labellist = glob.glob(os.path.join(data_path, 'data', 'labels', '*', '*.tif'), recursive=True)\n",
    "imgcount = len(imglist)\n",
    "print(\"Input Image Counts: {}\".format(imgcount))\n",
    "print(\"Final Image Counts: {}\".format(imgcount * crop_per_image))\n",
    "\n"
   ]
  },
  {
   "cell_type": "code",
   "execution_count": 0,
   "metadata": {},
   "outputs": [],
   "source": [
    "# Create output folder\n",
    "print(\"Check the output folder:\")\n",
    "if not 'prepdata' in os.listdir(data_path):\n",
    "    print(\"The output folder does not exist...\")\n",
    "    foldernames = ['train',]\n",
    "    print(\"Creating...\")\n",
    "    os.mkdir(os.path.join(data_path, 'prepdata'))\n",
    "    for foldername in foldernames:    \n",
    "        os.mkdir(os.path.join(data_path, 'prepdata', foldername))\n",
    "        foldernames_class = ['images', 'labels']\n",
    "        for foldername_class in foldernames_class:\n",
    "            os.mkdir(os.path.join(data_path, 'prepdata', foldername, foldername_class))\n",
    "            label_names = ['cell_membrane']\n",
    "            for label_name in label_names: \n",
    "                os.mkdir(os.path.join(data_path, 'prepdata', \n",
    "                                        foldername, foldername_class, label_name))  \n"
   ]
  },
  {
   "cell_type": "code",
   "execution_count": 0,
   "metadata": {},
   "outputs": [],
   "source": [
    "# Batch Random Crop\n",
    "ipfolder = os.path.join(data_path, 'data')\n",
    "# create train dataset \n",
    "opfolder = os.path.join(data_path, 'prepdata', 'train')\n",
    "print(\"Croping the images...\")\n",
    "random_crop_batch(ipfolder, opfolder, 'cell_membrane', [img_crop_shape_min, img_crop_shape_max], crop_per_image, seed)\n",
    "print(\"Finished\")"
   ]
  }
 ],
 "metadata": {
  "file_extension": ".py",
  "kernelspec": {
   "display_name": "tfdl01",
   "language": "python",
   "name": "tfdl01"
  },
  "language_info": {
   "codemirror_mode": {
    "name": "ipython",
    "version": 3
   },
   "file_extension": ".py",
   "mimetype": "text/x-python",
   "name": "python",
   "nbconvert_exporter": "python",
   "pygments_lexer": "ipython3",
   "version": "3.6.9"
  },
  "mimetype": "text/x-python",
  "name": "python",
  "npconvert_exporter": "python",
  "pygments_lexer": "ipython3",
  "version": 3
 },
 "nbformat": 4,
 "nbformat_minor": 2
}
