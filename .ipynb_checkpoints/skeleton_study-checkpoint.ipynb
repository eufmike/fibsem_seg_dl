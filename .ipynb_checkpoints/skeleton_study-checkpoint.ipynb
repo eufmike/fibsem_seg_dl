{
 "cells": [
  {
   "cell_type": "code",
   "execution_count": 1,
   "metadata": {},
   "outputs": [],
   "source": [
    "import os, sys, re, io\n",
    "import numpy as np\n",
    "import pandas as pd\n",
    "from tqdm import tqdm\n",
    "import time\n",
    "from core.fileop import DirCheck, ListFiles\n",
    "import core.mkplot as mkplot "
   ]
  },
  {
   "cell_type": "code",
   "execution_count": 2,
   "metadata": {},
   "outputs": [],
   "source": [
    "import xml.etree.ElementTree as etree\n",
    "from core.msxml import MSXmlReader\n",
    "\n",
    "# function\n",
    "def convert_xml_csv(ippath, oppath):\n",
    "    filelist, fileabslist = ListFiles(ippath, extension='.xml')\n",
    "    \n",
    "    for idx, f in enumerate(filelist):\n",
    "        filename = f.replace('.xml', '')\n",
    "        ip = os.path.join(ippath, f) \n",
    "        op = os.path.join(oppath, filename)\n",
    "        \n",
    "        print(ip)\n",
    "        print(op)\n",
    "\n",
    "        # create path\n",
    "        if filename not in os.listdir(oppath):\n",
    "            DirCheck(op)\n",
    "            \n",
    "            # convert *.xml to *.csv \n",
    "            csv_all = MSXmlReader(ip)\n",
    "            \n",
    "            # save each spreadsheet into individual *.csv file\n",
    "            for key, value in csv_all.items():\n",
    "                oppath_tmp = os.path.join(op, key + '.csv')\n",
    "                value.to_csv(oppath_tmp, index = False)"
   ]
  },
  {
   "cell_type": "code",
   "execution_count": 3,
   "metadata": {},
   "outputs": [
    {
     "name": "stdout",
     "output_type": "stream",
     "text": [
      "D:\\PerlmutterData\\segmentation_compiled_export\\data\\raw\\skeleton\\data_d00_batch01_loc01_mito.xml\n",
      "D:\\PerlmutterData\\segmentation_compiled_export\\data\\compile\\skeleton_output\\data_d00_batch01_loc01_mito\n",
      "D:\\PerlmutterData\\segmentation_compiled_export\\data\\raw\\skeleton\\data_d00_batch02_loc02_mito.xml\n",
      "D:\\PerlmutterData\\segmentation_compiled_export\\data\\compile\\skeleton_output\\data_d00_batch02_loc02_mito\n",
      "D:\\PerlmutterData\\segmentation_compiled_export\\data\\raw\\skeleton\\data_d00_batch02_loc03_mito.xml\n",
      "D:\\PerlmutterData\\segmentation_compiled_export\\data\\compile\\skeleton_output\\data_d00_batch02_loc03_mito\n",
      "D:\\PerlmutterData\\segmentation_compiled_export\\data\\raw\\skeleton\\data_d07_batch01_loc01_mito.xml\n",
      "D:\\PerlmutterData\\segmentation_compiled_export\\data\\compile\\skeleton_output\\data_d07_batch01_loc01_mito\n",
      "D:\\PerlmutterData\\segmentation_compiled_export\\data\\raw\\skeleton\\data_d07_batch02_loc01_mito.xml\n",
      "D:\\PerlmutterData\\segmentation_compiled_export\\data\\compile\\skeleton_output\\data_d07_batch02_loc01_mito\n",
      "D:\\PerlmutterData\\segmentation_compiled_export\\data\\raw\\skeleton\\data_d07_batch02_loc02_mito.xml\n",
      "D:\\PerlmutterData\\segmentation_compiled_export\\data\\compile\\skeleton_output\\data_d07_batch02_loc02_mito\n",
      "D:\\PerlmutterData\\segmentation_compiled_export\\data\\raw\\skeleton\\data_d14_batch01_loc01_mito.xml\n",
      "D:\\PerlmutterData\\segmentation_compiled_export\\data\\compile\\skeleton_output\\data_d14_batch01_loc01_mito\n",
      "D:\\PerlmutterData\\segmentation_compiled_export\\data\\raw\\skeleton\\data_d17_batch01_loc01_01_mito.xml\n",
      "D:\\PerlmutterData\\segmentation_compiled_export\\data\\compile\\skeleton_output\\data_d17_batch01_loc01_01_mito\n",
      "D:\\PerlmutterData\\segmentation_compiled_export\\data\\raw\\skeleton\\data_d17_batch01_loc01_02_mito.xml\n",
      "D:\\PerlmutterData\\segmentation_compiled_export\\data\\compile\\skeleton_output\\data_d17_batch01_loc01_02_mito\n",
      "D:\\PerlmutterData\\segmentation_compiled_export\\data\\raw\\skeleton\\data_d21_batch01_loc01_mito.xml\n",
      "D:\\PerlmutterData\\segmentation_compiled_export\\data\\compile\\skeleton_output\\data_d21_batch01_loc01_mito\n"
     ]
    }
   ],
   "source": [
    "mainpath = 'D:\\PerlmutterData'\n",
    "folder = 'segmentation_compiled_export'\n",
    "data_folder = 'data'\n",
    "data_subfolder = 'raw'\n",
    "data_cat = 'skeleton'\n",
    "\n",
    "ippath = os.path.join(mainpath, folder, data_folder, data_subfolder, data_cat)\n",
    "oppath = os.path.join(mainpath, folder, data_folder, 'compile', 'skeleton_output')\n",
    "\n",
    "\n",
    "convert_xml_csv(ippath, oppath)"
   ]
  },
  {
   "cell_type": "code",
   "execution_count": 4,
   "metadata": {},
   "outputs": [],
   "source": [
    "# load dependencies\n",
    "from core.filamentanalysis import SegStats, PNSCount\n",
    "\n",
    "# function\n",
    "def stats_calculator(ippath, oppath):\n",
    "    imglist = [x for x in os.listdir(ippath) if not x.startswith('.')]\n",
    "    \n",
    "    var = ['df_nodes', 'df_points', 'df_segments']\n",
    "    counts_combined = []\n",
    "    names= []\n",
    "    \n",
    "    for img in imglist:\n",
    "        filelist, fileabslist = ListFiles(os.path.join(ippath, img), extension='.csv')\n",
    "        \n",
    "        df_points = pd.read_csv(os.path.join(ippath, img, 'points.csv')) \n",
    "        df_segments = pd.read_csv(os.path.join(ippath, img, 'segments.csv')) \n",
    "        df_nodes = pd.read_csv(os.path.join(ippath, img,'nodes.csv'))\n",
    "        \n",
    "        opfilename = 'segments_s.csv'\n",
    "        countfilename = 'count.csv'\n",
    "        countfilename_combined = 'counts_combined.csv'\n",
    "    \n",
    "        if opfilename not in filelist:\n",
    "            df_segments_s = SegStats(df_points, df_segments)            \n",
    "            \n",
    "            DirCheck(os.path.join(oppath, img))\n",
    "            \n",
    "            df_segments_s.to_csv(os.path.join(oppath, img, opfilename), index = False)\n",
    "        \n",
    "        counts = (PNSCount(df_points, df_nodes, df_segments))\n",
    "        counts_combined.append(counts)\n",
    "        names.append(img)\n",
    "    '''\n",
    "    fileinfo = pd.read_csv(os.path.join('./par', 'lung_file_idx.csv'))\n",
    "    print(names)\n",
    "    \n",
    "    img_group = []\n",
    "    for i in names:\n",
    "        img_group.append(fileinfo[fileinfo['data_filename'] == i]['genotype'].item())\n",
    "\n",
    "    if countfilename_combined not in imglist:\n",
    "        df_counts_combined = pd.DataFrame(counts_combined, columns= ['Points', 'Nodes', 'Segments'])\n",
    "        df_counts_combined['Names'] = names\n",
    "        df_counts_combined['Genotype'] = img_group\n",
    "        \n",
    "        df_counts_combined.to_csv(os.path.join(path, countfilename_combined), index = False)\n",
    "    '''"
   ]
  },
  {
   "cell_type": "code",
   "execution_count": 6,
   "metadata": {},
   "outputs": [
    {
     "name": "stderr",
     "output_type": "stream",
     "text": [
      "100%|█████████████████████████████████████████████████████████████████████████████| 1484/1484 [00:04<00:00, 304.79it/s]\n",
      "100%|█████████████████████████████████████████████████████████████████████████████| 1579/1579 [00:05<00:00, 278.43it/s]\n",
      "100%|███████████████████████████████████████████████████████████████████████████████| 852/852 [00:02<00:00, 286.29it/s]\n",
      "100%|███████████████████████████████████████████████████████████████████████████████| 187/187 [00:00<00:00, 270.62it/s]\n",
      "100%|███████████████████████████████████████████████████████████████████████████████| 443/443 [00:01<00:00, 288.06it/s]\n",
      "100%|███████████████████████████████████████████████████████████████████████████████| 750/750 [00:02<00:00, 303.60it/s]\n",
      "100%|█████████████████████████████████████████████████████████████████████████████| 1484/1484 [00:05<00:00, 289.91it/s]\n",
      "100%|███████████████████████████████████████████████████████████████████████████████| 395/395 [00:01<00:00, 280.63it/s]\n",
      "100%|███████████████████████████████████████████████████████████████████████████████| 272/272 [00:00<00:00, 299.65it/s]\n",
      "100%|███████████████████████████████████████████████████████████████████████████████| 627/627 [00:02<00:00, 274.29it/s]"
     ]
    },
    {
     "name": "stdout",
     "output_type": "stream",
     "text": [
      "['data_d00_batch01_loc01_mito', 'data_d00_batch02_loc02_mito', 'data_d00_batch02_loc03_mito', 'data_d07_batch01_loc01_mito', 'data_d07_batch02_loc01_mito', 'data_d07_batch02_loc02_mito', 'data_d14_batch01_loc01_mito', 'data_d17_batch01_loc01_01_mito', 'data_d17_batch01_loc01_02_mito', 'data_d21_batch01_loc01_mito']\n"
     ]
    },
    {
     "name": "stderr",
     "output_type": "stream",
     "text": [
      "\n",
      "C:\\Users\\wucci_admin\\Anaconda3\\envs\\tfdl02\\lib\\site-packages\\ipykernel_launcher.py:39: FutureWarning: `item` has been deprecated and will be removed in a future version\n"
     ]
    },
    {
     "ename": "ValueError",
     "evalue": "can only convert an array of size 1 to a Python scalar",
     "output_type": "error",
     "traceback": [
      "\u001b[1;31m---------------------------------------------------------------------------\u001b[0m",
      "\u001b[1;31mValueError\u001b[0m                                Traceback (most recent call last)",
      "\u001b[1;32m<ipython-input-6-f4fcd10c98ff>\u001b[0m in \u001b[0;36m<module>\u001b[1;34m\u001b[0m\n\u001b[0;32m      3\u001b[0m \u001b[1;33m\u001b[0m\u001b[0m\n\u001b[0;32m      4\u001b[0m \u001b[1;33m\u001b[0m\u001b[0m\n\u001b[1;32m----> 5\u001b[1;33m \u001b[0mstats_calculator\u001b[0m\u001b[1;33m(\u001b[0m\u001b[0mippath\u001b[0m\u001b[1;33m,\u001b[0m \u001b[0moppath\u001b[0m\u001b[1;33m)\u001b[0m\u001b[1;33m\u001b[0m\u001b[1;33m\u001b[0m\u001b[0m\n\u001b[0m",
      "\u001b[1;32m<ipython-input-4-a9f59124a135>\u001b[0m in \u001b[0;36mstats_calculator\u001b[1;34m(ippath, oppath)\u001b[0m\n\u001b[0;32m     37\u001b[0m     \u001b[0mimg_group\u001b[0m \u001b[1;33m=\u001b[0m \u001b[1;33m[\u001b[0m\u001b[1;33m]\u001b[0m\u001b[1;33m\u001b[0m\u001b[1;33m\u001b[0m\u001b[0m\n\u001b[0;32m     38\u001b[0m     \u001b[1;32mfor\u001b[0m \u001b[0mi\u001b[0m \u001b[1;32min\u001b[0m \u001b[0mnames\u001b[0m\u001b[1;33m:\u001b[0m\u001b[1;33m\u001b[0m\u001b[1;33m\u001b[0m\u001b[0m\n\u001b[1;32m---> 39\u001b[1;33m         \u001b[0mimg_group\u001b[0m\u001b[1;33m.\u001b[0m\u001b[0mappend\u001b[0m\u001b[1;33m(\u001b[0m\u001b[0mfileinfo\u001b[0m\u001b[1;33m[\u001b[0m\u001b[0mfileinfo\u001b[0m\u001b[1;33m[\u001b[0m\u001b[1;34m'data_filename'\u001b[0m\u001b[1;33m]\u001b[0m \u001b[1;33m==\u001b[0m \u001b[0mi\u001b[0m\u001b[1;33m]\u001b[0m\u001b[1;33m[\u001b[0m\u001b[1;34m'genotype'\u001b[0m\u001b[1;33m]\u001b[0m\u001b[1;33m.\u001b[0m\u001b[0mitem\u001b[0m\u001b[1;33m(\u001b[0m\u001b[1;33m)\u001b[0m\u001b[1;33m)\u001b[0m\u001b[1;33m\u001b[0m\u001b[1;33m\u001b[0m\u001b[0m\n\u001b[0m\u001b[0;32m     40\u001b[0m \u001b[1;33m\u001b[0m\u001b[0m\n\u001b[0;32m     41\u001b[0m     \u001b[1;32mif\u001b[0m \u001b[0mcountfilename_combined\u001b[0m \u001b[1;32mnot\u001b[0m \u001b[1;32min\u001b[0m \u001b[0mimglist\u001b[0m\u001b[1;33m:\u001b[0m\u001b[1;33m\u001b[0m\u001b[1;33m\u001b[0m\u001b[0m\n",
      "\u001b[1;32m~\\Anaconda3\\envs\\tfdl02\\lib\\site-packages\\pandas\\core\\base.py\u001b[0m in \u001b[0;36mitem\u001b[1;34m(self)\u001b[0m\n\u001b[0;32m    738\u001b[0m             \u001b[0mstacklevel\u001b[0m\u001b[1;33m=\u001b[0m\u001b[1;36m2\u001b[0m\u001b[1;33m,\u001b[0m\u001b[1;33m\u001b[0m\u001b[1;33m\u001b[0m\u001b[0m\n\u001b[0;32m    739\u001b[0m         )\n\u001b[1;32m--> 740\u001b[1;33m         \u001b[1;32mreturn\u001b[0m \u001b[0mself\u001b[0m\u001b[1;33m.\u001b[0m\u001b[0mvalues\u001b[0m\u001b[1;33m.\u001b[0m\u001b[0mitem\u001b[0m\u001b[1;33m(\u001b[0m\u001b[1;33m)\u001b[0m\u001b[1;33m\u001b[0m\u001b[1;33m\u001b[0m\u001b[0m\n\u001b[0m\u001b[0;32m    741\u001b[0m \u001b[1;33m\u001b[0m\u001b[0m\n\u001b[0;32m    742\u001b[0m     \u001b[1;33m@\u001b[0m\u001b[0mproperty\u001b[0m\u001b[1;33m\u001b[0m\u001b[1;33m\u001b[0m\u001b[0m\n",
      "\u001b[1;31mValueError\u001b[0m: can only convert an array of size 1 to a Python scalar"
     ]
    }
   ],
   "source": [
    "ippath = os.path.join(mainpath, folder, data_folder, 'compile', 'skeleton_output')\n",
    "oppath = os.path.join(mainpath, folder, data_folder, 'compile', 'skeleton_output')\n",
    "\n",
    "\n",
    "stats_calculator(ippath, oppath)"
   ]
  },
  {
   "cell_type": "code",
   "execution_count": null,
   "metadata": {},
   "outputs": [],
   "source": []
  }
 ],
 "metadata": {
  "kernelspec": {
   "display_name": "Python 3",
   "language": "python",
   "name": "python3"
  },
  "language_info": {
   "codemirror_mode": {
    "name": "ipython",
    "version": 3
   },
   "file_extension": ".py",
   "mimetype": "text/x-python",
   "name": "python",
   "nbconvert_exporter": "python",
   "pygments_lexer": "ipython3",
   "version": "3.6.9"
  }
 },
 "nbformat": 4,
 "nbformat_minor": 2
}
