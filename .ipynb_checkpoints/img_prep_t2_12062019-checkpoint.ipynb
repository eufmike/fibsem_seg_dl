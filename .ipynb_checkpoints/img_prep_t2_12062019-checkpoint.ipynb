{
 "cells": [
  {
   "cell_type": "code",
   "execution_count": null,
   "metadata": {},
   "outputs": [],
   "source": [
    "# ms-python.python added\n",
    "import os"
   ]
  },
  {
   "cell_type": "code",
   "execution_count": null,
   "metadata": {},
   "outputs": [],
   "source": [
    "import glob, shutil\n",
    "import cv2\n",
    "import json\n",
    "import numpy as np\n",
    "from skimage.io import imread, imsave, imshow\n",
    "from PIL import Image, ImageTk\n",
    "import matplotlib.pyplot as plt\n",
    "import matplotlib.image as mpimg\n",
    "from core.imageprep import dir_checker, random_crop, crop_generator, random_crop_batch\n",
    "from datetime import datetime\n",
    "from pprint import pprint\n",
    "\n",
    "%load_ext autoreload\n",
    "%autoreload 2"
   ]
  },
  {
   "cell_type": "code",
   "execution_count": null,
   "metadata": {},
   "outputs": [],
   "source": [
    "# set parameters\n",
    "# crop size\n",
    "ydim = 256\n",
    "xdim = 256\n",
    "crop_per_image = 5\n",
    "seed = 100\n",
    "timestamp = datetime.now().strftime(\"%Y_%m_%d_%H_%M\")\n",
    "output_folder = timestamp + '_' + str(crop_per_image) + 'x'\n",
    "print(\"Crop Size y: {}\".format(ydim))\n",
    "print(\"Crop Size x: {}\".format(xdim))\n",
    "print('Crop per Image: {}'.format(crop_per_image))\n",
    "print('Seed: {}'.format(seed))\n",
    "print('timestamp: {}'.format(timestamp))"
   ]
  },
  {
   "cell_type": "code",
   "execution_count": null,
   "metadata": {},
   "outputs": [],
   "source": [
    "# Prepare the training dataset\n",
    "# Specify the input folder\n",
    "# mainpath = '/Volumes/LaCie_DataStorage/PerlmutterData/dl_seg_project_raw'\n",
    "\n",
    "def listdir_nohidden(dir):\n",
    "    return [file for file in os.listdir(dir) if not file.startswith('.')]\n",
    "\n",
    "mainpath = os.path.join('D:', 'PerlmutterData', 'dl_seg_project_raw')\n",
    "img_seg_dir = 'data_Amira'\n",
    "labeltypes = listdir_nohidden(os.path.join(mainpath, img_seg_dir))\n",
    "input_path = os.path.join(mainpath, img_seg_dir)\n",
    "print(labeltypes)"
   ]
  },
  {
   "cell_type": "code",
   "execution_count": null,
   "metadata": {},
   "outputs": [],
   "source": [
    "# Create output folder\n",
    "print(\"Check the output folder:\")\n",
    "dir_checker('data_crop', mainpath)\n",
    "dir_checker(output_folder, os.path.join(mainpath, 'data_crop'))\n",
    "output_path = os.path.join(mainpath, 'data_crop', output_folder)\n",
    "print(output_path)"
   ]
  },
  {
   "cell_type": "code",
   "execution_count": null,
   "metadata": {},
   "outputs": [],
   "source": [
    "# create parameter\n",
    "pars = dict(\n",
    "            mainpath = mainpath,\n",
    "            output_folder = output_folder,\n",
    "            output_path = output_path,\n",
    "            img_seg_dir = img_seg_dir,\n",
    "            labeltypes = labeltypes,\n",
    "            input_path = input_path, \n",
    "            ydim = ydim,\n",
    "            xdim = xdim, \n",
    "            crop_per_image = crop_per_image,\n",
    "            )\n",
    "\n",
    "with open(os.path.join(output_path, 'pars_' + timestamp + '.json'), 'w') as outfile:\n",
    "    json.dump(pars, outfile, indent=4)"
   ]
  },
  {
   "cell_type": "code",
   "execution_count": null,
   "metadata": {},
   "outputs": [],
   "source": [
    "data_path = [os.path.join(input_path, labeltype) for labeltype in labeltypes ]\n",
    "print(\"Path: {}\".format(data_path))"
   ]
  },
  {
   "cell_type": "code",
   "execution_count": null,
   "metadata": {},
   "outputs": [],
   "source": [
    "# create list for filenames\n",
    "ipimglist = {}\n",
    "iplabellist = {}\n",
    "\n",
    "for labeltype in labeltypes:\n",
    "    imglist_tmp = glob.glob(os.path.join(input_path, labeltype, 'images', '*', '*.tif'), recursive=True)\n",
    "    labellist_tmp = glob.glob(os.path.join(input_path, labeltype, 'labels', '*', '*.tif'), recursive=True)\n",
    "    ipimglist[labeltype] = imglist_tmp\n",
    "    iplabellist[labeltype] = labellist_tmp\n"
   ]
  },
  {
   "cell_type": "code",
   "execution_count": null,
   "metadata": {},
   "outputs": [],
   "source": [
    "pprint(ipimglist)\n",
    "# pprint(iplabellist)"
   ]
  },
  {
   "cell_type": "code",
   "execution_count": null,
   "metadata": {},
   "outputs": [],
   "source": [
    "imgcount = 0\n",
    "for item in ipimglist.items():\n",
    "    imgcount = imgcount + len(item[1])\n",
    "labelcount = 0\n",
    "for item in iplabellist.items():\n",
    "    labelcount = labelcount + len(item[1])\n",
    "    \n",
    "print(\"Input Image Counts: {}\".format(imgcount))\n",
    "print(\"Input Label Counts: {}\".format(labelcount))\n",
    "print(\"Final Image/Label Counts: {}\".format(imgcount * crop_per_image))"
   ]
  },
  {
   "cell_type": "code",
   "execution_count": null,
   "metadata": {},
   "outputs": [],
   "source": [
    "imgtypes = ['images', 'labels']\n",
    "for imgtype in imgtypes:\n",
    "    dir_checker(imgtype, output_path)\n",
    "    for labeltype in labeltypes:\n",
    "        dir_checker(labeltype, os.path.join(output_path, imgtype))"
   ]
  },
  {
   "cell_type": "code",
   "execution_count": null,
   "metadata": {},
   "outputs": [],
   "source": [
    "# Batch Random Crop\n",
    "for labeltype in labeltypes:     \n",
    "    print(\"Croping the images from group {}...\".format(labeltype))\n",
    "    random_crop_batch(ipimglist = ipimglist, \n",
    "                      iplabellist = iplabellist, \n",
    "                      opfolder = output_path, \n",
    "                      label = labeltype, \n",
    "                      crop_size = [ydim, xdim], \n",
    "                      crop_per_image = crop_per_image, \n",
    "                      crop_outside = False,\n",
    "                      seed = seed)\n",
    "    print(\"Finish\")\n"
   ]
  },
  {
   "cell_type": "code",
   "execution_count": null,
   "metadata": {},
   "outputs": [],
   "source": [
    "from imutils import paths\n",
    "# image checker:\n",
    "check_label = 'nucleus'\n",
    "\n",
    "opimglist = list(paths.list_images(os.path.join(output_path, 'images', check_label)))\n",
    "print(len(opimglist))\n",
    "oplabellist = list(paths.list_images(os.path.join(output_path, 'labels', check_label)))\n",
    "print(len(oplabellist))"
   ]
  },
  {
   "cell_type": "code",
   "execution_count": null,
   "metadata": {},
   "outputs": [],
   "source": [
    "image_count = 10\n",
    "img_number_list = np.arange(len(opimglist))\n",
    "np.random.shuffle(img_number_list)\n",
    "img_number_list = img_number_list[:image_count]\n",
    "print(img_number_list)"
   ]
  },
  {
   "cell_type": "code",
   "execution_count": null,
   "metadata": {},
   "outputs": [],
   "source": [
    "fig = plt.figure(figsize=(8, 40))\n",
    "\n",
    "for idx, img_idx in enumerate(img_number_list):\n",
    "    img_tmp = imread(opimglist[idx], as_gray = True)\n",
    "    label_tmp = imread(oplabellist[idx], as_gray=True)\n",
    "    \n",
    "    a = fig.add_subplot(image_count, 2, idx*2 + 1)\n",
    "    imgplot = plt.imshow(img_tmp, aspect='auto')\n",
    "    \n",
    "    a = fig.add_subplot(image_count, 2, idx*2 + 2)\n",
    "    imgplot = plt.imshow(label_tmp, vmin=0, vmax=1, aspect='auto')"
   ]
  },
  {
   "cell_type": "code",
   "execution_count": null,
   "metadata": {},
   "outputs": [],
   "source": []
  }
 ],
 "metadata": {
  "file_extension": ".py",
  "kernelspec": {
   "display_name": "tfdl02",
   "language": "python",
   "name": "tfdl02"
  },
  "language_info": {
   "codemirror_mode": {
    "name": "ipython",
    "version": 3
   },
   "file_extension": ".py",
   "mimetype": "text/x-python",
   "name": "python",
   "nbconvert_exporter": "python",
   "pygments_lexer": "ipython3",
   "version": "3.6.9"
  },
  "mimetype": "text/x-python",
  "name": "python",
  "npconvert_exporter": "python",
  "pygments_lexer": "ipython3",
  "version": 3
 },
 "nbformat": 4,
 "nbformat_minor": 2
}
